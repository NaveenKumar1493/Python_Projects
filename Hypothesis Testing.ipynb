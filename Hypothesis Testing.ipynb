{
 "cells": [
  {
   "cell_type": "markdown",
   "id": "d31ab040",
   "metadata": {},
   "source": [
    "# Chap-1\n",
    "- Chapter 1 measured whether or not an unknown population proportion was equal to some value. We used bootstrapping on the sample to estimate the standard error of the sample statistic. The standard error was then used to calculate a standardized test statistic, the z-score, which was used to get a p-value, so we could decide whether or not to reject the null hypothesis."
   ]
  },
  {
   "cell_type": "markdown",
   "id": "99be3622",
   "metadata": {},
   "source": [
    "# Hypothesis Testing in Python"
   ]
  },
  {
   "cell_type": "markdown",
   "id": "8bc09e4f",
   "metadata": {},
   "source": [
    "## Hypothesis testing Workflow\n",
    "> steps in order from first to last.\n",
    "1. Identify population parameters that is hypothesized about.\n",
    "2. Specify the null and alternative hypothesis\n",
    "3. Determine (standardized) test statistics and corresponding null distribution \n",
    "4. Conduct hypothesis test in Python\n",
    "5. Measure evidence against the null hypothesis\n",
    "6. Make a decesion comparing evidence to significance level\n",
    "7. Interpret the results in the context of the orignal problem. \n"
   ]
  },
  {
   "cell_type": "markdown",
   "id": "828ff2cd",
   "metadata": {},
   "source": [
    "- In 2013, Elronic Arts (EA) released Simcity5\n",
    "- They wanted to increase pre-orders of the game\n",
    "- They used A/B testing to test different advertising Scenarios\n",
    "- This involes splitting users inyo control and treatment groups\n",
    "- The control group saw the version with a banner advertising money off their next purchase with each pre-order. The treatment group saw the version without the banner. EA compared the percentage of checkout to see which performed best. \n",
    "- Our naive guess would be that the advertisement increased pre-order sales.\n",
    "\n",
    "> Results:\\\n",
    "The treatment group  without the advertisement(no ad) resulted in 43 percent higher sales than the control group with the advert(With ad). \n",
    "The experiment proved that our intuition that more discount adverts would result in more sales was false\n",
    "Was the result statistically significant or just random chance?\n",
    "\n",
    "> Requirement:\\\n",
    "Need Orignal Dataset from EA, to determine this\n",
    "However, the method to answering this question of significance would involve techniques from both the Sampling in Python course and from this course(Hypothesis Testing)."
   ]
  },
  {
   "cell_type": "code",
   "execution_count": 1,
   "id": "aec9cccd",
   "metadata": {
    "scrolled": false
   },
   "outputs": [
    {
     "data": {
      "text/html": [
       "<div>\n",
       "<style scoped>\n",
       "    .dataframe tbody tr th:only-of-type {\n",
       "        vertical-align: middle;\n",
       "    }\n",
       "\n",
       "    .dataframe tbody tr th {\n",
       "        vertical-align: top;\n",
       "    }\n",
       "\n",
       "    .dataframe thead th {\n",
       "        text-align: right;\n",
       "    }\n",
       "</style>\n",
       "<table border=\"1\" class=\"dataframe\">\n",
       "  <thead>\n",
       "    <tr style=\"text-align: right;\">\n",
       "      <th></th>\n",
       "      <th>respondent</th>\n",
       "      <th>main_branch</th>\n",
       "      <th>hobbyist</th>\n",
       "      <th>age</th>\n",
       "      <th>age_1st_code</th>\n",
       "      <th>age_first_code_cut</th>\n",
       "      <th>comp_freq</th>\n",
       "      <th>comp_total</th>\n",
       "      <th>converted_comp</th>\n",
       "      <th>country</th>\n",
       "      <th>...</th>\n",
       "      <th>survey_length</th>\n",
       "      <th>trans</th>\n",
       "      <th>undergrad_major</th>\n",
       "      <th>webframe_desire_next_year</th>\n",
       "      <th>webframe_worked_with</th>\n",
       "      <th>welcome_change</th>\n",
       "      <th>work_week_hrs</th>\n",
       "      <th>years_code</th>\n",
       "      <th>years_code_pro</th>\n",
       "      <th>age_cat</th>\n",
       "    </tr>\n",
       "  </thead>\n",
       "  <tbody>\n",
       "    <tr>\n",
       "      <th>0</th>\n",
       "      <td>36.0</td>\n",
       "      <td>I am not primarily a developer, but I write co...</td>\n",
       "      <td>Yes</td>\n",
       "      <td>34.0</td>\n",
       "      <td>30.0</td>\n",
       "      <td>adult</td>\n",
       "      <td>Yearly</td>\n",
       "      <td>60000.0</td>\n",
       "      <td>77556.0</td>\n",
       "      <td>United Kingdom</td>\n",
       "      <td>...</td>\n",
       "      <td>Appropriate in length</td>\n",
       "      <td>No</td>\n",
       "      <td>Computer science, computer engineering, or sof...</td>\n",
       "      <td>Express;React.js</td>\n",
       "      <td>Express;React.js</td>\n",
       "      <td>Just as welcome now as I felt last year</td>\n",
       "      <td>40.0</td>\n",
       "      <td>4.0</td>\n",
       "      <td>3.0</td>\n",
       "      <td>At least 30</td>\n",
       "    </tr>\n",
       "    <tr>\n",
       "      <th>1</th>\n",
       "      <td>47.0</td>\n",
       "      <td>I am a developer by profession</td>\n",
       "      <td>Yes</td>\n",
       "      <td>53.0</td>\n",
       "      <td>10.0</td>\n",
       "      <td>child</td>\n",
       "      <td>Yearly</td>\n",
       "      <td>58000.0</td>\n",
       "      <td>74970.0</td>\n",
       "      <td>United Kingdom</td>\n",
       "      <td>...</td>\n",
       "      <td>Appropriate in length</td>\n",
       "      <td>No</td>\n",
       "      <td>A natural science (such as biology, chemistry,...</td>\n",
       "      <td>Flask;Spring</td>\n",
       "      <td>Flask;Spring</td>\n",
       "      <td>Just as welcome now as I felt last year</td>\n",
       "      <td>40.0</td>\n",
       "      <td>43.0</td>\n",
       "      <td>28.0</td>\n",
       "      <td>At least 30</td>\n",
       "    </tr>\n",
       "    <tr>\n",
       "      <th>2</th>\n",
       "      <td>69.0</td>\n",
       "      <td>I am a developer by profession</td>\n",
       "      <td>Yes</td>\n",
       "      <td>25.0</td>\n",
       "      <td>12.0</td>\n",
       "      <td>child</td>\n",
       "      <td>Yearly</td>\n",
       "      <td>550000.0</td>\n",
       "      <td>594539.0</td>\n",
       "      <td>France</td>\n",
       "      <td>...</td>\n",
       "      <td>Too short</td>\n",
       "      <td>No</td>\n",
       "      <td>Computer science, computer engineering, or sof...</td>\n",
       "      <td>Django;Flask</td>\n",
       "      <td>Django;Flask</td>\n",
       "      <td>Just as welcome now as I felt last year</td>\n",
       "      <td>40.0</td>\n",
       "      <td>13.0</td>\n",
       "      <td>3.0</td>\n",
       "      <td>Under 30</td>\n",
       "    </tr>\n",
       "    <tr>\n",
       "      <th>3</th>\n",
       "      <td>125.0</td>\n",
       "      <td>I am not primarily a developer, but I write co...</td>\n",
       "      <td>Yes</td>\n",
       "      <td>41.0</td>\n",
       "      <td>30.0</td>\n",
       "      <td>adult</td>\n",
       "      <td>Monthly</td>\n",
       "      <td>200000.0</td>\n",
       "      <td>2000000.0</td>\n",
       "      <td>United States</td>\n",
       "      <td>...</td>\n",
       "      <td>Appropriate in length</td>\n",
       "      <td>No</td>\n",
       "      <td>None</td>\n",
       "      <td>None</td>\n",
       "      <td>None</td>\n",
       "      <td>Just as welcome now as I felt last year</td>\n",
       "      <td>40.0</td>\n",
       "      <td>11.0</td>\n",
       "      <td>11.0</td>\n",
       "      <td>At least 30</td>\n",
       "    </tr>\n",
       "    <tr>\n",
       "      <th>4</th>\n",
       "      <td>147.0</td>\n",
       "      <td>I am not primarily a developer, but I write co...</td>\n",
       "      <td>No</td>\n",
       "      <td>28.0</td>\n",
       "      <td>15.0</td>\n",
       "      <td>adult</td>\n",
       "      <td>Yearly</td>\n",
       "      <td>50000.0</td>\n",
       "      <td>37816.0</td>\n",
       "      <td>Canada</td>\n",
       "      <td>...</td>\n",
       "      <td>Appropriate in length</td>\n",
       "      <td>No</td>\n",
       "      <td>Another engineering discipline (such as civil,...</td>\n",
       "      <td>None</td>\n",
       "      <td>Express;Flask</td>\n",
       "      <td>Just as welcome now as I felt last year</td>\n",
       "      <td>40.0</td>\n",
       "      <td>5.0</td>\n",
       "      <td>3.0</td>\n",
       "      <td>Under 30</td>\n",
       "    </tr>\n",
       "  </tbody>\n",
       "</table>\n",
       "<p>5 rows × 63 columns</p>\n",
       "</div>"
      ],
      "text/plain": [
       "   respondent                                        main_branch hobbyist  \\\n",
       "0        36.0  I am not primarily a developer, but I write co...      Yes   \n",
       "1        47.0                     I am a developer by profession      Yes   \n",
       "2        69.0                     I am a developer by profession      Yes   \n",
       "3       125.0  I am not primarily a developer, but I write co...      Yes   \n",
       "4       147.0  I am not primarily a developer, but I write co...       No   \n",
       "\n",
       "    age  age_1st_code age_first_code_cut comp_freq  comp_total  \\\n",
       "0  34.0          30.0              adult    Yearly     60000.0   \n",
       "1  53.0          10.0              child    Yearly     58000.0   \n",
       "2  25.0          12.0              child    Yearly    550000.0   \n",
       "3  41.0          30.0              adult   Monthly    200000.0   \n",
       "4  28.0          15.0              adult    Yearly     50000.0   \n",
       "\n",
       "   converted_comp         country  ...          survey_length trans  \\\n",
       "0         77556.0  United Kingdom  ...  Appropriate in length    No   \n",
       "1         74970.0  United Kingdom  ...  Appropriate in length    No   \n",
       "2        594539.0          France  ...              Too short    No   \n",
       "3       2000000.0   United States  ...  Appropriate in length    No   \n",
       "4         37816.0          Canada  ...  Appropriate in length    No   \n",
       "\n",
       "                                     undergrad_major  \\\n",
       "0  Computer science, computer engineering, or sof...   \n",
       "1  A natural science (such as biology, chemistry,...   \n",
       "2  Computer science, computer engineering, or sof...   \n",
       "3                                               None   \n",
       "4  Another engineering discipline (such as civil,...   \n",
       "\n",
       "  webframe_desire_next_year webframe_worked_with  \\\n",
       "0          Express;React.js     Express;React.js   \n",
       "1              Flask;Spring         Flask;Spring   \n",
       "2              Django;Flask         Django;Flask   \n",
       "3                      None                 None   \n",
       "4                      None        Express;Flask   \n",
       "\n",
       "                            welcome_change work_week_hrs years_code  \\\n",
       "0  Just as welcome now as I felt last year          40.0        4.0   \n",
       "1  Just as welcome now as I felt last year          40.0       43.0   \n",
       "2  Just as welcome now as I felt last year          40.0       13.0   \n",
       "3  Just as welcome now as I felt last year          40.0       11.0   \n",
       "4  Just as welcome now as I felt last year          40.0        5.0   \n",
       "\n",
       "  years_code_pro      age_cat  \n",
       "0            3.0  At least 30  \n",
       "1           28.0  At least 30  \n",
       "2            3.0     Under 30  \n",
       "3           11.0  At least 30  \n",
       "4            3.0     Under 30  \n",
       "\n",
       "[5 rows x 63 columns]"
      ]
     },
     "execution_count": 1,
     "metadata": {},
     "output_type": "execute_result"
    }
   ],
   "source": [
    "# 5. Stack Overflow Developer Survey 2020\n",
    "# In this course, we'll look at a subset of the survey responses from users who identified as Data Scientists.\n",
    "import pandas as pd\n",
    "\n",
    "stack_overflow=pd.read_feather(r'C:\\Users\\navee\\OneDrive\\Desktop\\Data_Camp\\DataCamp_datasets\\Hypothesis_Testing\\stack_overflow.feather')\n",
    "stack_overflow.head()\n"
   ]
  },
  {
   "cell_type": "code",
   "execution_count": 2,
   "id": "cda653eb",
   "metadata": {},
   "outputs": [
    {
     "data": {
      "text/plain": [
       "119574.71738168952"
      ]
     },
     "execution_count": 2,
     "metadata": {},
     "output_type": "execute_result"
    }
   ],
   "source": [
    "# Hypothesis about the mean\n",
    "# A hypothesis:\n",
    "    # The mean annual compensation of the population of data scientist is $110,000\n",
    "\n",
    "# The Point Estimate(Sample Statistics),The sample mean is a type of point estimate, which is another name for a\n",
    "# summary statistic\n",
    "\n",
    "mean_comp_samp = stack_overflow[\"converted_comp\"].mean()\n",
    "mean_comp_samp #The result is different from our hypothesis, but is it meaningfully different? (110000 & 119574.7174)"
   ]
  },
  {
   "cell_type": "code",
   "execution_count": 3,
   "id": "4edd5897",
   "metadata": {},
   "outputs": [],
   "source": [
    "# Generating a bootstrap distribution\n",
    "'''To answer this, we need to generate a bootstrap distribution of sample means. This is done by resampling the dataset,\n",
    "calculating the sample mean for that resample, then repeating those steps to create a list of sample means.'''\n",
    "\n",
    "import numpy as np\n",
    "# Step 3. Repeat Steps ! & 2 many times,appending to a list\n",
    "so_boot_distn = []\n",
    "for i in range(5000):\n",
    "    so_boot_distn.append(\n",
    "    # Step 2. Calculate Point Estimate\n",
    "    np.mean\n",
    "        # Step 1. Resample\n",
    "        (stack_overflow.sample(frac=1,replace = True)[\"converted_comp\"]))\n"
   ]
  },
  {
   "cell_type": "code",
   "execution_count": 4,
   "id": "43fc0e06",
   "metadata": {
    "scrolled": true
   },
   "outputs": [
    {
     "data": {
      "image/png": "[encoded data removed]",
      "text/plain": [
       "<Figure size 432x288 with 1 Axes>"
      ]
     },
     "metadata": {
      "needs_background": "light"
     },
     "output_type": "display_data"
    }
   ],
   "source": [
    "# Visualizing a bootstrap distribution\n",
    "import matplotlib.pyplot as plt\n",
    "\n",
    "plt.hist(so_boot_distn,bins=50)\n",
    "plt.show()\n",
    "\n",
    "# Its bell shape means that it's roughly normally distributed. "
   ]
  },
  {
   "cell_type": "code",
   "execution_count": 5,
   "id": "e39963c6",
   "metadata": {},
   "outputs": [
    {
     "data": {
      "text/plain": [
       "5630.819461173948"
      ]
     },
     "execution_count": 5,
     "metadata": {},
     "output_type": "execute_result"
    }
   ],
   "source": [
    "# Standard Erroe\n",
    "std_error = np.std(so_boot_distn, ddof=1)\n",
    "std_error\n",
    "\n",
    "# \"\"\"Recall that the standard deviation of the sample statistics in the bootstrap distribution estimates the \n",
    "# standard error of the statistic\"\"\""
   ]
  },
  {
   "cell_type": "markdown",
   "id": "54892c81",
   "metadata": {},
   "source": [
    "## Z-scores: \n",
    "- is a test statistic for a single variable.\n",
    "- z-statistics needed when using one sample statistics to estimate a population parameter\n",
    "\n",
    "> A common way of standardizing values is to subtract the mean, and divide by the standard deviation\n",
    "\n",
    "- __standardized value = (value-mean) / std__\n",
    "\n",
    "> For hypothesis testing, we use a variation where we take the sample statistic, subtract the hypothesized parameter \n",
    "value, and divide by the standard error. The result is called a z-score.\n",
    "\n",
    "- __z_score = (sample_statistic - hypothesized_parameter_value) / standard_error # Result is called Z_score__\n",
    "\n",
    "> __The z-scores are a type of standardized test statistic.__"
   ]
  },
  {
   "cell_type": "code",
   "execution_count": 6,
   "id": "4a520b71",
   "metadata": {},
   "outputs": [
    {
     "data": {
      "text/plain": [
       "1.7004127814272572"
      ]
     },
     "execution_count": 6,
     "metadata": {},
     "output_type": "execute_result"
    }
   ],
   "source": [
    "# Z-Score\n",
    "mean_comp_samp = stack_overflow[\"converted_comp\"].mean()\n",
    "\n",
    "mean_comp_hyp = 110000 \n",
    "\n",
    "std_error = np.std(so_boot_distn, ddof=1)\n",
    "std_error\n",
    "\n",
    "z_score = (mean_comp_samp - mean_comp_hyp) / std_error\n",
    "z_score"
   ]
  },
  {
   "cell_type": "markdown",
   "id": "91616a9b",
   "metadata": {},
   "source": [
    "### Testing the hytpothesis\n",
    "- Is 1.717 a high or low number?\n",
    "- This is the goal of rhe course!\n",
    "\n",
    "### Hypothesis Testing Usecase\n",
    "> Determine whether sample statisticsare close to or far away from expected (or \"hypothesized\" Value)\n",
    "\n",
    "### Standard normal (z) distribution\n",
    "standard normal distribution: normal distribution with mean=0 + standard deviation=1 "
   ]
  },
  {
   "cell_type": "code",
   "execution_count": 7,
   "id": "2b3148eb",
   "metadata": {},
   "outputs": [
    {
     "data": {
      "text/html": [
       "<div>\n",
       "<style scoped>\n",
       "    .dataframe tbody tr th:only-of-type {\n",
       "        vertical-align: middle;\n",
       "    }\n",
       "\n",
       "    .dataframe tbody tr th {\n",
       "        vertical-align: top;\n",
       "    }\n",
       "\n",
       "    .dataframe thead th {\n",
       "        text-align: right;\n",
       "    }\n",
       "</style>\n",
       "<table border=\"1\" class=\"dataframe\">\n",
       "  <thead>\n",
       "    <tr style=\"text-align: right;\">\n",
       "      <th></th>\n",
       "      <th>id</th>\n",
       "      <th>country</th>\n",
       "      <th>managed_by</th>\n",
       "      <th>fulfill_via</th>\n",
       "      <th>vendor_inco_term</th>\n",
       "      <th>shipment_mode</th>\n",
       "      <th>late_delivery</th>\n",
       "      <th>late</th>\n",
       "      <th>product_group</th>\n",
       "      <th>sub_classification</th>\n",
       "      <th>...</th>\n",
       "      <th>line_item_quantity</th>\n",
       "      <th>line_item_value</th>\n",
       "      <th>pack_price</th>\n",
       "      <th>unit_price</th>\n",
       "      <th>manufacturing_site</th>\n",
       "      <th>first_line_designation</th>\n",
       "      <th>weight_kilograms</th>\n",
       "      <th>freight_cost_usd</th>\n",
       "      <th>freight_cost_groups</th>\n",
       "      <th>line_item_insurance_usd</th>\n",
       "    </tr>\n",
       "  </thead>\n",
       "  <tbody>\n",
       "    <tr>\n",
       "      <th>0</th>\n",
       "      <td>36203.0</td>\n",
       "      <td>Nigeria</td>\n",
       "      <td>PMO - US</td>\n",
       "      <td>Direct Drop</td>\n",
       "      <td>EXW</td>\n",
       "      <td>Air</td>\n",
       "      <td>1.0</td>\n",
       "      <td>Yes</td>\n",
       "      <td>HRDT</td>\n",
       "      <td>HIV test</td>\n",
       "      <td>...</td>\n",
       "      <td>2996.0</td>\n",
       "      <td>266644.00</td>\n",
       "      <td>89.00</td>\n",
       "      <td>0.89</td>\n",
       "      <td>Alere Medical Co., Ltd.</td>\n",
       "      <td>Yes</td>\n",
       "      <td>1426.0</td>\n",
       "      <td>33279.83</td>\n",
       "      <td>expensive</td>\n",
       "      <td>373.83</td>\n",
       "    </tr>\n",
       "    <tr>\n",
       "      <th>1</th>\n",
       "      <td>30998.0</td>\n",
       "      <td>Botswana</td>\n",
       "      <td>PMO - US</td>\n",
       "      <td>Direct Drop</td>\n",
       "      <td>EXW</td>\n",
       "      <td>Air</td>\n",
       "      <td>0.0</td>\n",
       "      <td>No</td>\n",
       "      <td>HRDT</td>\n",
       "      <td>HIV test</td>\n",
       "      <td>...</td>\n",
       "      <td>25.0</td>\n",
       "      <td>800.00</td>\n",
       "      <td>32.00</td>\n",
       "      <td>1.60</td>\n",
       "      <td>Trinity Biotech, Plc</td>\n",
       "      <td>Yes</td>\n",
       "      <td>10.0</td>\n",
       "      <td>559.89</td>\n",
       "      <td>reasonable</td>\n",
       "      <td>1.72</td>\n",
       "    </tr>\n",
       "    <tr>\n",
       "      <th>2</th>\n",
       "      <td>69871.0</td>\n",
       "      <td>Vietnam</td>\n",
       "      <td>PMO - US</td>\n",
       "      <td>Direct Drop</td>\n",
       "      <td>EXW</td>\n",
       "      <td>Air</td>\n",
       "      <td>0.0</td>\n",
       "      <td>No</td>\n",
       "      <td>ARV</td>\n",
       "      <td>Adult</td>\n",
       "      <td>...</td>\n",
       "      <td>22925.0</td>\n",
       "      <td>110040.00</td>\n",
       "      <td>4.80</td>\n",
       "      <td>0.08</td>\n",
       "      <td>Hetero Unit III Hyderabad IN</td>\n",
       "      <td>Yes</td>\n",
       "      <td>3723.0</td>\n",
       "      <td>19056.13</td>\n",
       "      <td>expensive</td>\n",
       "      <td>181.57</td>\n",
       "    </tr>\n",
       "    <tr>\n",
       "      <th>3</th>\n",
       "      <td>17648.0</td>\n",
       "      <td>South Africa</td>\n",
       "      <td>PMO - US</td>\n",
       "      <td>Direct Drop</td>\n",
       "      <td>DDP</td>\n",
       "      <td>Ocean</td>\n",
       "      <td>0.0</td>\n",
       "      <td>No</td>\n",
       "      <td>ARV</td>\n",
       "      <td>Adult</td>\n",
       "      <td>...</td>\n",
       "      <td>152535.0</td>\n",
       "      <td>361507.95</td>\n",
       "      <td>2.37</td>\n",
       "      <td>0.04</td>\n",
       "      <td>Aurobindo Unit III, India</td>\n",
       "      <td>Yes</td>\n",
       "      <td>7698.0</td>\n",
       "      <td>11372.23</td>\n",
       "      <td>expensive</td>\n",
       "      <td>779.41</td>\n",
       "    </tr>\n",
       "    <tr>\n",
       "      <th>4</th>\n",
       "      <td>5647.0</td>\n",
       "      <td>Uganda</td>\n",
       "      <td>PMO - US</td>\n",
       "      <td>Direct Drop</td>\n",
       "      <td>EXW</td>\n",
       "      <td>Air</td>\n",
       "      <td>0.0</td>\n",
       "      <td>No</td>\n",
       "      <td>HRDT</td>\n",
       "      <td>HIV test - Ancillary</td>\n",
       "      <td>...</td>\n",
       "      <td>850.0</td>\n",
       "      <td>8.50</td>\n",
       "      <td>0.01</td>\n",
       "      <td>0.00</td>\n",
       "      <td>Inverness Japan</td>\n",
       "      <td>Yes</td>\n",
       "      <td>56.0</td>\n",
       "      <td>360.00</td>\n",
       "      <td>reasonable</td>\n",
       "      <td>0.01</td>\n",
       "    </tr>\n",
       "    <tr>\n",
       "      <th>...</th>\n",
       "      <td>...</td>\n",
       "      <td>...</td>\n",
       "      <td>...</td>\n",
       "      <td>...</td>\n",
       "      <td>...</td>\n",
       "      <td>...</td>\n",
       "      <td>...</td>\n",
       "      <td>...</td>\n",
       "      <td>...</td>\n",
       "      <td>...</td>\n",
       "      <td>...</td>\n",
       "      <td>...</td>\n",
       "      <td>...</td>\n",
       "      <td>...</td>\n",
       "      <td>...</td>\n",
       "      <td>...</td>\n",
       "      <td>...</td>\n",
       "      <td>...</td>\n",
       "      <td>...</td>\n",
       "      <td>...</td>\n",
       "      <td>...</td>\n",
       "    </tr>\n",
       "    <tr>\n",
       "      <th>995</th>\n",
       "      <td>13608.0</td>\n",
       "      <td>Uganda</td>\n",
       "      <td>PMO - US</td>\n",
       "      <td>Direct Drop</td>\n",
       "      <td>DDP</td>\n",
       "      <td>Air</td>\n",
       "      <td>0.0</td>\n",
       "      <td>No</td>\n",
       "      <td>ARV</td>\n",
       "      <td>Adult</td>\n",
       "      <td>...</td>\n",
       "      <td>121.0</td>\n",
       "      <td>9075.00</td>\n",
       "      <td>75.00</td>\n",
       "      <td>0.62</td>\n",
       "      <td>Janssen-Cilag, Latina, IT</td>\n",
       "      <td>Yes</td>\n",
       "      <td>43.0</td>\n",
       "      <td>199.00</td>\n",
       "      <td>reasonable</td>\n",
       "      <td>12.72</td>\n",
       "    </tr>\n",
       "    <tr>\n",
       "      <th>996</th>\n",
       "      <td>80394.0</td>\n",
       "      <td>Congo, DRC</td>\n",
       "      <td>PMO - US</td>\n",
       "      <td>Direct Drop</td>\n",
       "      <td>EXW</td>\n",
       "      <td>Air</td>\n",
       "      <td>0.0</td>\n",
       "      <td>No</td>\n",
       "      <td>HRDT</td>\n",
       "      <td>HIV test</td>\n",
       "      <td>...</td>\n",
       "      <td>292.0</td>\n",
       "      <td>9344.00</td>\n",
       "      <td>32.00</td>\n",
       "      <td>1.60</td>\n",
       "      <td>Trinity Biotech, Plc</td>\n",
       "      <td>Yes</td>\n",
       "      <td>99.0</td>\n",
       "      <td>2162.55</td>\n",
       "      <td>reasonable</td>\n",
       "      <td>13.10</td>\n",
       "    </tr>\n",
       "    <tr>\n",
       "      <th>997</th>\n",
       "      <td>61675.0</td>\n",
       "      <td>Zambia</td>\n",
       "      <td>PMO - US</td>\n",
       "      <td>Direct Drop</td>\n",
       "      <td>EXW</td>\n",
       "      <td>Air</td>\n",
       "      <td>1.0</td>\n",
       "      <td>Yes</td>\n",
       "      <td>HRDT</td>\n",
       "      <td>HIV test</td>\n",
       "      <td>...</td>\n",
       "      <td>2127.0</td>\n",
       "      <td>170160.00</td>\n",
       "      <td>80.00</td>\n",
       "      <td>0.80</td>\n",
       "      <td>Alere Medical Co., Ltd.</td>\n",
       "      <td>Yes</td>\n",
       "      <td>881.0</td>\n",
       "      <td>14019.38</td>\n",
       "      <td>expensive</td>\n",
       "      <td>210.49</td>\n",
       "    </tr>\n",
       "    <tr>\n",
       "      <th>998</th>\n",
       "      <td>39182.0</td>\n",
       "      <td>South Africa</td>\n",
       "      <td>PMO - US</td>\n",
       "      <td>Direct Drop</td>\n",
       "      <td>DDP</td>\n",
       "      <td>Ocean</td>\n",
       "      <td>0.0</td>\n",
       "      <td>No</td>\n",
       "      <td>ARV</td>\n",
       "      <td>Adult</td>\n",
       "      <td>...</td>\n",
       "      <td>191011.0</td>\n",
       "      <td>861459.61</td>\n",
       "      <td>4.51</td>\n",
       "      <td>0.15</td>\n",
       "      <td>Aurobindo Unit III, India</td>\n",
       "      <td>Yes</td>\n",
       "      <td>16234.0</td>\n",
       "      <td>14439.17</td>\n",
       "      <td>expensive</td>\n",
       "      <td>1421.41</td>\n",
       "    </tr>\n",
       "    <tr>\n",
       "      <th>999</th>\n",
       "      <td>5645.0</td>\n",
       "      <td>Botswana</td>\n",
       "      <td>PMO - US</td>\n",
       "      <td>Direct Drop</td>\n",
       "      <td>EXW</td>\n",
       "      <td>Air</td>\n",
       "      <td>0.0</td>\n",
       "      <td>No</td>\n",
       "      <td>HRDT</td>\n",
       "      <td>HIV test</td>\n",
       "      <td>...</td>\n",
       "      <td>200.0</td>\n",
       "      <td>14398.00</td>\n",
       "      <td>71.99</td>\n",
       "      <td>0.72</td>\n",
       "      <td>Inverness Japan</td>\n",
       "      <td>Yes</td>\n",
       "      <td>46.0</td>\n",
       "      <td>1028.18</td>\n",
       "      <td>reasonable</td>\n",
       "      <td>23.04</td>\n",
       "    </tr>\n",
       "  </tbody>\n",
       "</table>\n",
       "<p>1000 rows × 27 columns</p>\n",
       "</div>"
      ],
      "text/plain": [
       "          id       country managed_by  fulfill_via vendor_inco_term  \\\n",
       "0    36203.0       Nigeria   PMO - US  Direct Drop              EXW   \n",
       "1    30998.0      Botswana   PMO - US  Direct Drop              EXW   \n",
       "2    69871.0       Vietnam   PMO - US  Direct Drop              EXW   \n",
       "3    17648.0  South Africa   PMO - US  Direct Drop              DDP   \n",
       "4     5647.0        Uganda   PMO - US  Direct Drop              EXW   \n",
       "..       ...           ...        ...          ...              ...   \n",
       "995  13608.0        Uganda   PMO - US  Direct Drop              DDP   \n",
       "996  80394.0    Congo, DRC   PMO - US  Direct Drop              EXW   \n",
       "997  61675.0        Zambia   PMO - US  Direct Drop              EXW   \n",
       "998  39182.0  South Africa   PMO - US  Direct Drop              DDP   \n",
       "999   5645.0      Botswana   PMO - US  Direct Drop              EXW   \n",
       "\n",
       "    shipment_mode  late_delivery late product_group    sub_classification  \\\n",
       "0             Air            1.0  Yes          HRDT              HIV test   \n",
       "1             Air            0.0   No          HRDT              HIV test   \n",
       "2             Air            0.0   No           ARV                 Adult   \n",
       "3           Ocean            0.0   No           ARV                 Adult   \n",
       "4             Air            0.0   No          HRDT  HIV test - Ancillary   \n",
       "..            ...            ...  ...           ...                   ...   \n",
       "995           Air            0.0   No           ARV                 Adult   \n",
       "996           Air            0.0   No          HRDT              HIV test   \n",
       "997           Air            1.0  Yes          HRDT              HIV test   \n",
       "998         Ocean            0.0   No           ARV                 Adult   \n",
       "999           Air            0.0   No          HRDT              HIV test   \n",
       "\n",
       "     ... line_item_quantity line_item_value pack_price unit_price  \\\n",
       "0    ...             2996.0       266644.00      89.00       0.89   \n",
       "1    ...               25.0          800.00      32.00       1.60   \n",
       "2    ...            22925.0       110040.00       4.80       0.08   \n",
       "3    ...           152535.0       361507.95       2.37       0.04   \n",
       "4    ...              850.0            8.50       0.01       0.00   \n",
       "..   ...                ...             ...        ...        ...   \n",
       "995  ...              121.0         9075.00      75.00       0.62   \n",
       "996  ...              292.0         9344.00      32.00       1.60   \n",
       "997  ...             2127.0       170160.00      80.00       0.80   \n",
       "998  ...           191011.0       861459.61       4.51       0.15   \n",
       "999  ...              200.0        14398.00      71.99       0.72   \n",
       "\n",
       "               manufacturing_site first_line_designation  weight_kilograms  \\\n",
       "0         Alere Medical Co., Ltd.                    Yes            1426.0   \n",
       "1            Trinity Biotech, Plc                    Yes              10.0   \n",
       "2    Hetero Unit III Hyderabad IN                    Yes            3723.0   \n",
       "3       Aurobindo Unit III, India                    Yes            7698.0   \n",
       "4                 Inverness Japan                    Yes              56.0   \n",
       "..                            ...                    ...               ...   \n",
       "995     Janssen-Cilag, Latina, IT                    Yes              43.0   \n",
       "996          Trinity Biotech, Plc                    Yes              99.0   \n",
       "997       Alere Medical Co., Ltd.                    Yes             881.0   \n",
       "998     Aurobindo Unit III, India                    Yes           16234.0   \n",
       "999               Inverness Japan                    Yes              46.0   \n",
       "\n",
       "     freight_cost_usd  freight_cost_groups  line_item_insurance_usd  \n",
       "0            33279.83            expensive                   373.83  \n",
       "1              559.89           reasonable                     1.72  \n",
       "2            19056.13            expensive                   181.57  \n",
       "3            11372.23            expensive                   779.41  \n",
       "4              360.00           reasonable                     0.01  \n",
       "..                ...                  ...                      ...  \n",
       "995            199.00           reasonable                    12.72  \n",
       "996           2162.55           reasonable                    13.10  \n",
       "997          14019.38            expensive                   210.49  \n",
       "998          14439.17            expensive                  1421.41  \n",
       "999           1028.18           reasonable                    23.04  \n",
       "\n",
       "[1000 rows x 27 columns]"
      ]
     },
     "execution_count": 7,
     "metadata": {},
     "output_type": "execute_result"
    }
   ],
   "source": [
    "# Practice Code\n",
    "late_shipments =pd.read_feather(r'C:\\Users\\navee\\OneDrive\\Desktop\\Data_Camp\\DataCamp_datasets\\Hypothesis_Testing\\late_shipments.feather')\n",
    "late_shipments"
   ]
  },
  {
   "cell_type": "code",
   "execution_count": 8,
   "id": "3e3b88e2",
   "metadata": {},
   "outputs": [
    {
     "name": "stdout",
     "output_type": "stream",
     "text": [
      "<class 'pandas.core.frame.DataFrame'>\n",
      "RangeIndex: 1000 entries, 0 to 999\n",
      "Data columns (total 27 columns):\n",
      " #   Column                    Non-Null Count  Dtype  \n",
      "---  ------                    --------------  -----  \n",
      " 0   id                        1000 non-null   float64\n",
      " 1   country                   1000 non-null   object \n",
      " 2   managed_by                1000 non-null   object \n",
      " 3   fulfill_via               1000 non-null   object \n",
      " 4   vendor_inco_term          1000 non-null   object \n",
      " 5   shipment_mode             1000 non-null   object \n",
      " 6   late_delivery             1000 non-null   float64\n",
      " 7   late                      1000 non-null   object \n",
      " 8   product_group             1000 non-null   object \n",
      " 9   sub_classification        1000 non-null   object \n",
      " 10  vendor                    1000 non-null   object \n",
      " 11  item_description          1000 non-null   object \n",
      " 12  molecule_test_type        1000 non-null   object \n",
      " 13  brand                     1000 non-null   object \n",
      " 14  dosage                    1000 non-null   object \n",
      " 15  dosage_form               1000 non-null   object \n",
      " 16  unit_of_measure_per_pack  1000 non-null   float64\n",
      " 17  line_item_quantity        1000 non-null   float64\n",
      " 18  line_item_value           1000 non-null   float64\n",
      " 19  pack_price                1000 non-null   float64\n",
      " 20  unit_price                1000 non-null   float64\n",
      " 21  manufacturing_site        1000 non-null   object \n",
      " 22  first_line_designation    1000 non-null   object \n",
      " 23  weight_kilograms          1000 non-null   float64\n",
      " 24  freight_cost_usd          986 non-null    float64\n",
      " 25  freight_cost_groups       986 non-null    object \n",
      " 26  line_item_insurance_usd   966 non-null    float64\n",
      "dtypes: float64(10), object(17)\n",
      "memory usage: 211.1+ KB\n"
     ]
    }
   ],
   "source": [
    "late_shipments.info()"
   ]
  },
  {
   "cell_type": "code",
   "execution_count": 9,
   "id": "b2797347",
   "metadata": {},
   "outputs": [
    {
     "name": "stdout",
     "output_type": "stream",
     "text": [
      "0.061\n"
     ]
    }
   ],
   "source": [
    "# Calculate the proportion of late shipments\n",
    "late_prop_samp = (late_shipments[\"late\"] == \"Yes\") .mean()\n",
    "\n",
    "# Print the results\n",
    "print(late_prop_samp)"
   ]
  },
  {
   "cell_type": "code",
   "execution_count": 10,
   "id": "b69e431d",
   "metadata": {
    "scrolled": true
   },
   "outputs": [
    {
     "data": {
      "text/plain": [
       "No     939\n",
       "Yes     61\n",
       "Name: late, dtype: int64"
      ]
     },
     "execution_count": 10,
     "metadata": {},
     "output_type": "execute_result"
    }
   ],
   "source": [
    "late_shipments[\"late\"].value_counts()"
   ]
  },
  {
   "cell_type": "code",
   "execution_count": 11,
   "id": "5816edf5",
   "metadata": {},
   "outputs": [],
   "source": [
    "encode_late = {\"No\":0,\"Yes\":1}\n",
    "late_shipments[\"late\"] = late_shipments[\"late\"].replace(encode_late)"
   ]
  },
  {
   "cell_type": "code",
   "execution_count": 12,
   "id": "17a3d6cd",
   "metadata": {},
   "outputs": [
    {
     "data": {
      "text/plain": [
       "0    939\n",
       "1     61\n",
       "Name: late, dtype: int64"
      ]
     },
     "execution_count": 12,
     "metadata": {},
     "output_type": "execute_result"
    }
   ],
   "source": [
    "late_shipments[\"late\"].value_counts()"
   ]
  },
  {
   "cell_type": "code",
   "execution_count": 13,
   "id": "337c9c76",
   "metadata": {},
   "outputs": [],
   "source": [
    "import numpy as np\n",
    "\n",
    "late_shipments_boot_distn = []\n",
    "for i in range(5000):\n",
    "    late_shipments_boot_distn.append(np.mean(late_shipments.sample(frac=1,replace = True)[\"late\"]))"
   ]
  },
  {
   "cell_type": "code",
   "execution_count": 14,
   "id": "addcf49e",
   "metadata": {},
   "outputs": [
    {
     "name": "stdout",
     "output_type": "stream",
     "text": [
      "0.13235096835501278\n"
     ]
    }
   ],
   "source": [
    "# Hypothesize that the proportion is 6%\n",
    "late_prop_hyp = 0.06\n",
    "\n",
    "# Calculate the standard error\n",
    "std_error = np.std(late_shipments_boot_distn, ddof=1)\n",
    "\n",
    "# Find z-score of late_prop_samp\n",
    "z_score = (late_prop_samp - late_prop_hyp) / std_error\n",
    "\n",
    "# Print z_score\n",
    "print(z_score)\n",
    "\n",
    "# The z-score is a standardized measure of the difference between the sample statistic and the hypothesized statistic."
   ]
  },
  {
   "cell_type": "markdown",
   "id": "8d78699e",
   "metadata": {},
   "source": [
    "# p-values \n",
    "- Hypothesis tests are like criminal trials."
   ]
  },
  {
   "cell_type": "markdown",
   "id": "2f717398",
   "metadata": {},
   "source": [
    "### Criminal trials\n",
    "\n",
    "- Two Possible true states\n",
    "    1. Defendent commited the crime\n",
    "    2. Defendent did not commit the crime\n",
    "\n",
    "- Two Possible verdicts/outcomes\n",
    "    1. Guilty\n",
    "    2. Not Guilty\n",
    "\n",
    "- Initially the defendent is assumed to be not guilty\n",
    "- prosecution team must present evidence \"beyond a reasonable doubt\" that the defendant committed the crime for a guilty verdict to be given."
   ]
  },
  {
   "cell_type": "markdown",
   "id": "d578a5c0",
   "metadata": {},
   "source": [
    "#### Age of first programming experience\n",
    "- The age_first_code_cut variable classifies when Stack Overflow user first starting programming. \\\n",
    "    - \"adult\":  If they started at 14 or older\n",
    "    - \"child\":  means they started before 14\n",
    "- Previous research: suggests that 35 percent of software developers programmed as children.\n",
    "- Evidence that a greater proportion of data scientist start programming as childern\n",
    "\n",
    "\n",
    "#### Definitions\n",
    "\n",
    "- A hypothesis is a statement about an unknown population parameter.We don't know the true value of this population parameter; we can only make inferences about it from the data\n",
    "\n",
    "- Hypothesis tests compare two competing hypotheses.\n",
    "    - The null hypothesis(H0), representing the existing idea.\n",
    "    - Alternative hypothesis(HA), representing a new idea that challenges the existing one.\n",
    "\n",
    "> For Our Problem (Above Mentioned):\\\n",
    "H0: The proportion of data scientists that started programming as children is 35%. \\\n",
    "HA: The proportion of data scientists that started programming as childern is greater than 35%."
   ]
  },
  {
   "cell_type": "markdown",
   "id": "f74a677e",
   "metadata": {},
   "source": [
    "#### Criminal trials vs. hypothesis testing\n",
    "- Either H0 or HA is true (not both)\n",
    "- Initially, H0 is assumed to be true\n",
    "- the test ends in either __\"reject H0\"__ or __\"fail to reject H0\"__\n",
    "- Significance level is __\"beyond a reasonable doubt\"__ for hypothesis testing"
   ]
  },
  {
   "cell_type": "markdown",
   "id": "537b67d3",
   "metadata": {},
   "source": [
    "### One-tailed and two-tailed tests\n",
    "- The tails of a distribution are the left and right edges of its PDF\n",
    "- Hypothesis tests check if the sample statistics lie in the tails of the __null distribution__\n",
    "- There are three types of tests, and the phrasing of the alternative hypothesis determines which type we should use\n",
    "    - __two-tailed : Alternative different(\"differences between\") from null ( we look for extreme values in either tail and perform a two-tailed test.)__\n",
    "    - __right-tailed : Alternative (greater/exceed/longer/more) than null__\n",
    "    - __left- tailed : Alternative (less/fewer) than null__\n",
    "    "
   ]
  },
  {
   "cell_type": "markdown",
   "id": "2c219ebb",
   "metadata": {},
   "source": [
    "### p-values\n",
    "- p-values quatify the evidence for the null hypothesis or p-values measure the strength of support for the null hypothesis\n",
    "- Large p-values, (Large support for H0), mean our statistic is producing a result that is likely not in a tail of our null distribution __(fail to reject null hypothesis)__\n",
    "- Small p-values, (Strong evidence again H0), mean our statistic is producing a result likely in the tail of our null distribution __(reject null hypothesis)__\n",
    "- \"p-values\" are probabilities, they are always between zero and one. (small means \"close to zero\")\n",
    "- The p-value is calculated by transforming the z-score with the standard normal cumulative distribution function.\n",
    "\n",
    "\n",
    "#### To calculate the p-value, we must first calculate the z-score. "
   ]
  },
  {
   "cell_type": "code",
   "execution_count": 15,
   "id": "4070d3fd",
   "metadata": {},
   "outputs": [
    {
     "name": "stdout",
     "output_type": "stream",
     "text": [
      "0.39141972578505085\n"
     ]
    }
   ],
   "source": [
    "prop_child_samp = (stack_overflow[\"age_first_code_cut\"] == \"child\").mean()\n",
    "print(prop_child_samp)\n",
    "\n",
    "prop_child_hyp = 0.35"
   ]
  },
  {
   "cell_type": "code",
   "execution_count": 16,
   "id": "27948195",
   "metadata": {
    "scrolled": false
   },
   "outputs": [
    {
     "data": {
      "text/plain": [
       "adult    1376\n",
       "child     885\n",
       "Name: age_first_code_cut, dtype: int64"
      ]
     },
     "execution_count": 16,
     "metadata": {},
     "output_type": "execute_result"
    }
   ],
   "source": [
    "stack_overflow[\"age_first_code_cut\"].value_counts()"
   ]
  },
  {
   "cell_type": "code",
   "execution_count": 17,
   "id": "485bc57a",
   "metadata": {},
   "outputs": [],
   "source": [
    "encode_code = {\"child\":0,\"adult\":1}\n",
    "stack_overflow[\"age_first_code_cut\"] = stack_overflow[\"age_first_code_cut\"].replace(encode_code)"
   ]
  },
  {
   "cell_type": "code",
   "execution_count": 18,
   "id": "fd08655f",
   "metadata": {},
   "outputs": [],
   "source": [
    "first_code_boot_distn = []\n",
    "for i in range(5000):\n",
    "    first_code_boot_distn.append(np.mean(stack_overflow.sample(frac=1,replace = True)[\"age_first_code_cut\"]))"
   ]
  },
  {
   "cell_type": "code",
   "execution_count": 19,
   "id": "86ae3830",
   "metadata": {},
   "outputs": [
    {
     "name": "stdout",
     "output_type": "stream",
     "text": [
      "0.010163905257244825\n"
     ]
    }
   ],
   "source": [
    "# We get the standard error from the standard deviation of the bootstrap distribution, \n",
    "std_error = np.std(first_code_boot_distn,ddof=1)\n",
    "print(std_error)"
   ]
  },
  {
   "cell_type": "code",
   "execution_count": 20,
   "id": "339be5ca",
   "metadata": {},
   "outputs": [],
   "source": [
    "# z-score is the difference between the proportions, divided by the standard error.\n",
    "z_score = (prop_child_samp - prop_child_hyp) / std_error"
   ]
  },
  {
   "cell_type": "markdown",
   "id": "ec186852",
   "metadata": {},
   "source": [
    "#### Calculate P-value\n",
    "__Left-tailed test --(use)-- norm.cdf()\\\n",
    "Right-tailed test --(use)-- 1- norm.cdf()__"
   ]
  },
  {
   "cell_type": "code",
   "execution_count": 21,
   "id": "7ec0ff94",
   "metadata": {},
   "outputs": [
    {
     "name": "stdout",
     "output_type": "stream",
     "text": [
      "2.2989555750529966e-05\n"
     ]
    }
   ],
   "source": [
    "from scipy.stats import norm\n",
    "p_value = 1-norm.cdf(z_score,loc=0,scale=1)\n",
    "print(p_value)"
   ]
  },
  {
   "cell_type": "markdown",
   "id": "f8b85fbe",
   "metadata": {},
   "source": [
    "# Statistical significance"
   ]
  },
  {
   "cell_type": "markdown",
   "id": "28c83e62",
   "metadata": {},
   "source": [
    "- What defines the cutoff point between a small p-value and a large one?\n",
    "> The cutoff point is known as the significance level, and is denoted alpha\\\n",
    "The significance level of a hypothesis test (a) is the threshold point for __\"beyond a resonable doubt\"\\\n",
    "Common values of (a) __0.05__ is the most common choice, but __0.10 and 0.01__ are also popular\n",
    "\n",
    "- The significance level gives us a decision process for which hypothesis to support.\\\n",
    "- If the p-value <= alpha, we reject the null hypothesis. Otherwise, we fail to reject it\n",
    "- alpha (a) should be set/decide __prior__ to conducting the hypothesis test,  Otherwise, there is a temptation to decide on a significance level that lets us choose the hypothesis we want."
   ]
  },
  {
   "cell_type": "code",
   "execution_count": 22,
   "id": "8103f89f",
   "metadata": {},
   "outputs": [
    {
     "data": {
      "text/plain": [
       "True"
      ]
     },
     "execution_count": 22,
     "metadata": {},
     "output_type": "execute_result"
    }
   ],
   "source": [
    "alpha = 0.05\n",
    "p_value <= alpha"
   ]
  },
  {
   "cell_type": "markdown",
   "id": "b896365b",
   "metadata": {},
   "source": [
    "### Making a Decision\n",
    "__Decision : Reject H0 in favor of HA, We have strong evidence for the alternative hypothesis that the proportion of data scientists that started programming as children is greater than 35 percent.__"
   ]
  },
  {
   "cell_type": "markdown",
   "id": "d218a509",
   "metadata": {},
   "source": [
    "## Confidence intervals\n",
    "- For a significance level of alpha (a), it's common to choose a confidence interval level 1-(a) \\\n",
    "> __Ex:__ For a significance level of 0.05 or 5%, we'd use a 95% confidence interval. The interval provides a range of plausible values for the population proportion of data scientists that programmed as children.\n",
    "\n",
    "\n",
    "When you have a confidence interval width equal to one minus the significance level, if the hypothesized population parameter is within the confidence interval, you should fail to reject the null hypothesis."
   ]
  },
  {
   "cell_type": "code",
   "execution_count": 23,
   "id": "94f726cf",
   "metadata": {},
   "outputs": [
    {
     "name": "stdout",
     "output_type": "stream",
     "text": [
      "(0.5886775762936753, 0.6280406899601946)\n"
     ]
    }
   ],
   "source": [
    "lower = np.quantile(first_code_boot_distn,0.025)\n",
    "upper = np.quantile(first_code_boot_distn,0.975)\n",
    "print((lower,upper))"
   ]
  },
  {
   "cell_type": "markdown",
   "id": "93eb9d01",
   "metadata": {},
   "source": [
    "## Type of Errors\n",
    "__> For hypothesis testing, there are two ways to get it right, and two types of error.__\\\n",
    "If we support the alternative hypothesis when the null hypothesis was correct, we made a __false positive error.__ \\\n",
    "If we support the null hypothesis when the alternative hypothesis was correct, we made a __false negative error.__ \\\n",
    "These errors are sometimes known as __type one and type two errors,__ respectively."
   ]
  },
  {
   "cell_type": "markdown",
   "id": "25910d06",
   "metadata": {},
   "source": [
    "### Possible Errors in Our Example\n",
    "> __if p_value <= alpha, as we reject null hypothesis(H0)\\\n",
    "if p_value > alpha, we fail to reject null hypothesis(HA)__\n",
    "- A __false positive (Type-1)error__: Although we thought data scientists started coding as children at a higher rate, it may not be true in the whole population.\n",
    "- Conversely, if the p-value was greater than the significance level, and we failed to reject the null hypothesis, it's possible we made a __false negative (Type-2) error__-."
   ]
  },
  {
   "cell_type": "markdown",
   "id": "50f0614b",
   "metadata": {},
   "source": [
    "# Chap-2\n",
    "## Performing t-tests\n",
    "- Comparing sample statistics across groups of a variable\n",
    "- When testing for differences between means, the test statistic is called 't' rather than 'z', and can be calculated using six numbers from the samples. \n",
    "-  t-statistics needed when using multiple sample statistics to estimate a population parameter"
   ]
  },
  {
   "cell_type": "markdown",
   "id": "f8be4259",
   "metadata": {},
   "source": [
    "### Two-Sample Problems\n",
    "- In the Stack Overflow dataset, converted_comp is a numerical variable of annual compensation.\n",
    "- age_first_code_cut is a categorical variable with two levels: child and adult, \n",
    "> We can ask questions about differences in compensation across the two age groups, such as, are users who first programmed as a child better compensated than those that started as adults?"
   ]
  },
  {
   "cell_type": "markdown",
   "id": "244a7eee",
   "metadata": {},
   "source": [
    "### Hypothesis:\n",
    "> __Null Hypothesis (H0):__ The population mean for the two groups is the same\\\n",
    "    - __Ex:__ The mean compensation (in USD) is __the same__ for those that coded first as a child and those that coded first as an adult\\\n",
    "    - __Equation H0: mue_child = mue_adult__\\\n",
    "    -  __Equation H0: mue_child - mue_adult = 0__ (Alternative way to write equation)\\\n",
    "- Mu represents an unknown population mean, and we use subscripts to denote which group the population mean belongs to.\\\n",
    "- An alternate way of writing the equations is to compare the differences in population means to zero\\\n",
    "- Zero here corresponds to our hypothesized value for the difference in means.\n",
    "\n",
    "> __Alternative Hypothesis (HA) :__ The population mean for users who started coding as children is greater than \n",
    "for users who started coding as adults\\\n",
    "    - __Ex:__ The mean compensation (in USD) is __greater__ for those that coded first as a child compared to those that coded first as an adult\\\n",
    "    - __Equation HA: mue_child > mue_adult__\\\n",
    "    - __Equation HA: mue_child - mue_adult > 0__  (Alternative way to write equation)"
   ]
  },
  {
   "cell_type": "markdown",
   "id": "946f5b34",
   "metadata": {},
   "source": [
    "### Calculating groupwise summary statistics"
   ]
  },
  {
   "cell_type": "code",
   "execution_count": 24,
   "id": "62bdccdb",
   "metadata": {},
   "outputs": [
    {
     "data": {
      "text/plain": [
       "age_first_code_cut\n",
       "0    132419.570621\n",
       "1    111313.311047\n",
       "Name: converted_comp, dtype: float64"
      ]
     },
     "execution_count": 24,
     "metadata": {},
     "output_type": "execute_result"
    }
   ],
   "source": [
    "stack_overflow.groupby(\"age_first_code_cut\")[\"converted_comp\"].mean()"
   ]
  },
  {
   "cell_type": "markdown",
   "id": "655ce109",
   "metadata": {},
   "source": [
    "### Test statistics\n",
    "- Although we don't know the population mean, we estimate it using the sample mean.\\\n",
    "__x-bar is used to denote a sample mean.__\n",
    "    - x-bar child:  sample mean compensation for coding first as a child \\\n",
    "    - x-bar adult:  sample mean compensation for coding first as an adult.\n",
    "test statistics : x-bar child - x-bar adult\n",
    "> __difference between these two sample means is the test statistic for the hypothesis test__\n",
    "\n",
    "__t = (difference in sample_statistic - difference_in_population_parameter) / standard_error (Result is called t-test)__\n",
    "\n",
    "__Example: t= (x-bar child - x-bar adult) - (mue_child - mue_adult) /  SE(x-bar child - x-bar adult)__\n",
    "\n",
    "### Standard Error\n",
    "__s__ is the standard deviation of the variable\\\n",
    "__n__ is the sample size (number of observation/rows in sample)\n",
    "We calculate the standard deviation of the numeric variable for each group in the sample, and the number of observations in each group. Then enter those values into the equation and compute the result."
   ]
  },
  {
   "cell_type": "markdown",
   "id": "02adfa7a",
   "metadata": {},
   "source": [
    "### Assuming the null hypothesis is true\n",
    "- If we assume that the null hypothesis is true, there's a simplification we can make. The null hypothesis assumes that the population means are equal, and their difference is zero, so the population term in the numerator disappears\n"
   ]
  },
  {
   "cell_type": "code",
   "execution_count": 25,
   "id": "2a676492",
   "metadata": {},
   "outputs": [
    {
     "data": {
      "text/html": [
       "<div>\n",
       "<style scoped>\n",
       "    .dataframe tbody tr th:only-of-type {\n",
       "        vertical-align: middle;\n",
       "    }\n",
       "\n",
       "    .dataframe tbody tr th {\n",
       "        vertical-align: top;\n",
       "    }\n",
       "\n",
       "    .dataframe thead th {\n",
       "        text-align: right;\n",
       "    }\n",
       "</style>\n",
       "<table border=\"1\" class=\"dataframe\">\n",
       "  <thead>\n",
       "    <tr style=\"text-align: right;\">\n",
       "      <th></th>\n",
       "      <th>respondent</th>\n",
       "      <th>main_branch</th>\n",
       "      <th>hobbyist</th>\n",
       "      <th>age</th>\n",
       "      <th>age_1st_code</th>\n",
       "      <th>age_first_code_cut</th>\n",
       "      <th>comp_freq</th>\n",
       "      <th>comp_total</th>\n",
       "      <th>converted_comp</th>\n",
       "      <th>country</th>\n",
       "      <th>...</th>\n",
       "      <th>survey_length</th>\n",
       "      <th>trans</th>\n",
       "      <th>undergrad_major</th>\n",
       "      <th>webframe_desire_next_year</th>\n",
       "      <th>webframe_worked_with</th>\n",
       "      <th>welcome_change</th>\n",
       "      <th>work_week_hrs</th>\n",
       "      <th>years_code</th>\n",
       "      <th>years_code_pro</th>\n",
       "      <th>age_cat</th>\n",
       "    </tr>\n",
       "  </thead>\n",
       "  <tbody>\n",
       "    <tr>\n",
       "      <th>0</th>\n",
       "      <td>36.0</td>\n",
       "      <td>I am not primarily a developer, but I write co...</td>\n",
       "      <td>Yes</td>\n",
       "      <td>34.0</td>\n",
       "      <td>30.0</td>\n",
       "      <td>adult</td>\n",
       "      <td>Yearly</td>\n",
       "      <td>60000.0</td>\n",
       "      <td>77556.0</td>\n",
       "      <td>United Kingdom</td>\n",
       "      <td>...</td>\n",
       "      <td>Appropriate in length</td>\n",
       "      <td>No</td>\n",
       "      <td>Computer science, computer engineering, or sof...</td>\n",
       "      <td>Express;React.js</td>\n",
       "      <td>Express;React.js</td>\n",
       "      <td>Just as welcome now as I felt last year</td>\n",
       "      <td>40.0</td>\n",
       "      <td>4.0</td>\n",
       "      <td>3.0</td>\n",
       "      <td>At least 30</td>\n",
       "    </tr>\n",
       "    <tr>\n",
       "      <th>1</th>\n",
       "      <td>47.0</td>\n",
       "      <td>I am a developer by profession</td>\n",
       "      <td>Yes</td>\n",
       "      <td>53.0</td>\n",
       "      <td>10.0</td>\n",
       "      <td>child</td>\n",
       "      <td>Yearly</td>\n",
       "      <td>58000.0</td>\n",
       "      <td>74970.0</td>\n",
       "      <td>United Kingdom</td>\n",
       "      <td>...</td>\n",
       "      <td>Appropriate in length</td>\n",
       "      <td>No</td>\n",
       "      <td>A natural science (such as biology, chemistry,...</td>\n",
       "      <td>Flask;Spring</td>\n",
       "      <td>Flask;Spring</td>\n",
       "      <td>Just as welcome now as I felt last year</td>\n",
       "      <td>40.0</td>\n",
       "      <td>43.0</td>\n",
       "      <td>28.0</td>\n",
       "      <td>At least 30</td>\n",
       "    </tr>\n",
       "    <tr>\n",
       "      <th>2</th>\n",
       "      <td>69.0</td>\n",
       "      <td>I am a developer by profession</td>\n",
       "      <td>Yes</td>\n",
       "      <td>25.0</td>\n",
       "      <td>12.0</td>\n",
       "      <td>child</td>\n",
       "      <td>Yearly</td>\n",
       "      <td>550000.0</td>\n",
       "      <td>594539.0</td>\n",
       "      <td>France</td>\n",
       "      <td>...</td>\n",
       "      <td>Too short</td>\n",
       "      <td>No</td>\n",
       "      <td>Computer science, computer engineering, or sof...</td>\n",
       "      <td>Django;Flask</td>\n",
       "      <td>Django;Flask</td>\n",
       "      <td>Just as welcome now as I felt last year</td>\n",
       "      <td>40.0</td>\n",
       "      <td>13.0</td>\n",
       "      <td>3.0</td>\n",
       "      <td>Under 30</td>\n",
       "    </tr>\n",
       "    <tr>\n",
       "      <th>3</th>\n",
       "      <td>125.0</td>\n",
       "      <td>I am not primarily a developer, but I write co...</td>\n",
       "      <td>Yes</td>\n",
       "      <td>41.0</td>\n",
       "      <td>30.0</td>\n",
       "      <td>adult</td>\n",
       "      <td>Monthly</td>\n",
       "      <td>200000.0</td>\n",
       "      <td>2000000.0</td>\n",
       "      <td>United States</td>\n",
       "      <td>...</td>\n",
       "      <td>Appropriate in length</td>\n",
       "      <td>No</td>\n",
       "      <td>None</td>\n",
       "      <td>None</td>\n",
       "      <td>None</td>\n",
       "      <td>Just as welcome now as I felt last year</td>\n",
       "      <td>40.0</td>\n",
       "      <td>11.0</td>\n",
       "      <td>11.0</td>\n",
       "      <td>At least 30</td>\n",
       "    </tr>\n",
       "    <tr>\n",
       "      <th>4</th>\n",
       "      <td>147.0</td>\n",
       "      <td>I am not primarily a developer, but I write co...</td>\n",
       "      <td>No</td>\n",
       "      <td>28.0</td>\n",
       "      <td>15.0</td>\n",
       "      <td>adult</td>\n",
       "      <td>Yearly</td>\n",
       "      <td>50000.0</td>\n",
       "      <td>37816.0</td>\n",
       "      <td>Canada</td>\n",
       "      <td>...</td>\n",
       "      <td>Appropriate in length</td>\n",
       "      <td>No</td>\n",
       "      <td>Another engineering discipline (such as civil,...</td>\n",
       "      <td>None</td>\n",
       "      <td>Express;Flask</td>\n",
       "      <td>Just as welcome now as I felt last year</td>\n",
       "      <td>40.0</td>\n",
       "      <td>5.0</td>\n",
       "      <td>3.0</td>\n",
       "      <td>Under 30</td>\n",
       "    </tr>\n",
       "  </tbody>\n",
       "</table>\n",
       "<p>5 rows × 63 columns</p>\n",
       "</div>"
      ],
      "text/plain": [
       "   respondent                                        main_branch hobbyist  \\\n",
       "0        36.0  I am not primarily a developer, but I write co...      Yes   \n",
       "1        47.0                     I am a developer by profession      Yes   \n",
       "2        69.0                     I am a developer by profession      Yes   \n",
       "3       125.0  I am not primarily a developer, but I write co...      Yes   \n",
       "4       147.0  I am not primarily a developer, but I write co...       No   \n",
       "\n",
       "    age  age_1st_code age_first_code_cut comp_freq  comp_total  \\\n",
       "0  34.0          30.0              adult    Yearly     60000.0   \n",
       "1  53.0          10.0              child    Yearly     58000.0   \n",
       "2  25.0          12.0              child    Yearly    550000.0   \n",
       "3  41.0          30.0              adult   Monthly    200000.0   \n",
       "4  28.0          15.0              adult    Yearly     50000.0   \n",
       "\n",
       "   converted_comp         country  ...          survey_length trans  \\\n",
       "0         77556.0  United Kingdom  ...  Appropriate in length    No   \n",
       "1         74970.0  United Kingdom  ...  Appropriate in length    No   \n",
       "2        594539.0          France  ...              Too short    No   \n",
       "3       2000000.0   United States  ...  Appropriate in length    No   \n",
       "4         37816.0          Canada  ...  Appropriate in length    No   \n",
       "\n",
       "                                     undergrad_major  \\\n",
       "0  Computer science, computer engineering, or sof...   \n",
       "1  A natural science (such as biology, chemistry,...   \n",
       "2  Computer science, computer engineering, or sof...   \n",
       "3                                               None   \n",
       "4  Another engineering discipline (such as civil,...   \n",
       "\n",
       "  webframe_desire_next_year webframe_worked_with  \\\n",
       "0          Express;React.js     Express;React.js   \n",
       "1              Flask;Spring         Flask;Spring   \n",
       "2              Django;Flask         Django;Flask   \n",
       "3                      None                 None   \n",
       "4                      None        Express;Flask   \n",
       "\n",
       "                            welcome_change work_week_hrs years_code  \\\n",
       "0  Just as welcome now as I felt last year          40.0        4.0   \n",
       "1  Just as welcome now as I felt last year          40.0       43.0   \n",
       "2  Just as welcome now as I felt last year          40.0       13.0   \n",
       "3  Just as welcome now as I felt last year          40.0       11.0   \n",
       "4  Just as welcome now as I felt last year          40.0        5.0   \n",
       "\n",
       "  years_code_pro      age_cat  \n",
       "0            3.0  At least 30  \n",
       "1           28.0  At least 30  \n",
       "2            3.0     Under 30  \n",
       "3           11.0  At least 30  \n",
       "4            3.0     Under 30  \n",
       "\n",
       "[5 rows x 63 columns]"
      ]
     },
     "execution_count": 25,
     "metadata": {},
     "output_type": "execute_result"
    }
   ],
   "source": [
    "stack_overflow=pd.read_feather(r'C:\\Users\\navee\\OneDrive\\Desktop\\Data_Camp\\DataCamp_datasets\\Hypothesis_Testing\\stack_overflow.feather')\n",
    "stack_overflow.head()"
   ]
  },
  {
   "cell_type": "markdown",
   "id": "0a89b9d3",
   "metadata": {},
   "source": [
    "### Calculations assuming the null hypothesis is true"
   ]
  },
  {
   "cell_type": "code",
   "execution_count": 26,
   "id": "2244fcf2",
   "metadata": {},
   "outputs": [
    {
     "name": "stdout",
     "output_type": "stream",
     "text": [
      "age_first_code_cut\n",
      "adult    111313.311047\n",
      "child    132419.570621\n",
      "Name: converted_comp, dtype: float64\n",
      "age_first_code_cut\n",
      "adult    271546.521729\n",
      "child    255585.240115\n",
      "Name: converted_comp, dtype: float64\n",
      "age_first_code_cut\n",
      "adult    1376\n",
      "child     885\n",
      "Name: converted_comp, dtype: int64\n",
      "111313.31104651163\n",
      "132419.5706214689\n",
      "271546.5217287417\n",
      "255585.2401149758\n",
      "1376\n",
      "885\n"
     ]
    }
   ],
   "source": [
    "x_bar = stack_overflow.groupby(\"age_first_code_cut\")[\"converted_comp\"].mean()\n",
    "print(x_bar)\n",
    "s = stack_overflow.groupby(\"age_first_code_cut\")[\"converted_comp\"].std()\n",
    "print(s)\n",
    "n = stack_overflow.groupby(\"age_first_code_cut\")[\"converted_comp\"].count()\n",
    "print(n)\n",
    "\n",
    "xbar_adult = x_bar[0] \n",
    "xbar_child = x_bar[1]\n",
    "\n",
    "s_adult = s[0]\n",
    "s_child = s[1]\n",
    "\n",
    "n_adult = n[0]\n",
    "n_child = n[1]\n",
    "\n",
    "print(xbar_adult)\n",
    "print(xbar_child)\n",
    "print(s_adult)\n",
    "print(s_child)\n",
    "print(n_adult)\n",
    "print(n_child)"
   ]
  },
  {
   "cell_type": "markdown",
   "id": "eaad3065",
   "metadata": {},
   "source": [
    "### Calculating the test statistics\n",
    "- Assigning the values to six different variables, the numerator is a subtraction of the sample means, and the denominator is like a weighted hypotenuse"
   ]
  },
  {
   "cell_type": "code",
   "execution_count": 27,
   "id": "a180d869",
   "metadata": {},
   "outputs": [
    {
     "data": {
      "text/plain": [
       "1.8699313316221844"
      ]
     },
     "execution_count": 27,
     "metadata": {},
     "output_type": "execute_result"
    }
   ],
   "source": [
    "numerator = xbar_child - xbar_adult\n",
    "denominator = np.sqrt((s_child ** 2 / n_child) + (s_adult ** 2/ n_adult))\n",
    "t_stat = numerator / denominator\n",
    "t_stat"
   ]
  },
  {
   "cell_type": "markdown",
   "id": "da4f1b87",
   "metadata": {},
   "source": [
    "### t-distribution\n",
    "- The test statistic, t, follows a t-distribution. t-distributions have a parameter called the degrees of freedom, or df for short\n",
    "- Using this approximation adds more uncertainty and that's why this is a t instead of a z problem. The t distribution allows for more uncertainty when using multiple estimates in a single statistic calculation\n",
    "\n",
    "### Degree of freedom\n",
    "- Notice that the t-distribution for small degrees of freedom has fatter tails than the normal distribution\n",
    "- As we increase the degrees of freedom, the t-distribution gets closer to the normal distribution.In fact, a normal distribution is a t-distribution with infinite degrees of freedom. \n",
    "- Degrees of freedom are defined as the maximum number of logically independent values in the data sample. \n",
    "\n",
    "### Hypotheses\n",
    "__H0:__ The mean compensation (in USD) is __the same__ for those that coded first as a child and those that coded first as an adult\\\n",
    "__HA:__ The mean compensation (in USD) is __greater__ for those that coded first as a child compared to those that coded first as an adult\\\n",
    "__Result:__ Since this is a \"greater than\" alternative hypothesis, we need a __right-tailed test (1- t.cdf),__.\n",
    "\n",
    ">__Q: In which hypothesis testing scenario is a t-distribution needed instead of the z-distribution?\\\n",
    "Ans: When a sample standard deviation is used in estimating a standard error.\\\n",
    "> Result:  Using a sample standard deviation to estimate the standard error is computationally easier than using bootstrapping. However, to correct for the approximation, you need to use a t-distribution when transforming the test statistic to get the p-value.__"
   ]
  },
  {
   "cell_type": "code",
   "execution_count": 28,
   "id": "cc2918d3",
   "metadata": {},
   "outputs": [
    {
     "data": {
      "text/plain": [
       "2259"
      ]
     },
     "execution_count": 28,
     "metadata": {},
     "output_type": "execute_result"
    }
   ],
   "source": [
    "degree_of_freedom = n_child + n_adult -2\n",
    "degree_of_freedom"
   ]
  },
  {
   "cell_type": "markdown",
   "id": "75aaac6e",
   "metadata": {},
   "source": [
    "### Calculating p-values: two means from different groups\n",
    "- use t-distribution CDF not normal cdf"
   ]
  },
  {
   "cell_type": "code",
   "execution_count": 29,
   "id": "5f83d12f",
   "metadata": {},
   "outputs": [
    {
     "data": {
      "text/plain": [
       "0.030811302165157595"
      ]
     },
     "execution_count": 29,
     "metadata": {},
     "output_type": "execute_result"
    }
   ],
   "source": [
    "## right tail test (1-t.cdf)\n",
    "\n",
    "from scipy.stats import t\n",
    "P_Value= 1- t.cdf(t_stat, df = degree_of_freedom) \n",
    "P_Value"
   ]
  },
  {
   "cell_type": "markdown",
   "id": "5fb12d75",
   "metadata": {},
   "source": [
    "#### Decesion Making\n",
    "This p-value is less than the significance level of point-one, so we should reject the null hypothesis in favor of the alternative hypothesis that Stack Overflow data scientists who started coding as children earn more."
   ]
  },
  {
   "cell_type": "markdown",
   "id": "01b9d6f8",
   "metadata": {},
   "source": [
    "## Paired t-tests"
   ]
  },
  {
   "cell_type": "code",
   "execution_count": 30,
   "id": "d54c0b87",
   "metadata": {
    "scrolled": true
   },
   "outputs": [
    {
     "data": {
      "text/html": [
       "<div>\n",
       "<style scoped>\n",
       "    .dataframe tbody tr th:only-of-type {\n",
       "        vertical-align: middle;\n",
       "    }\n",
       "\n",
       "    .dataframe tbody tr th {\n",
       "        vertical-align: top;\n",
       "    }\n",
       "\n",
       "    .dataframe thead th {\n",
       "        text-align: right;\n",
       "    }\n",
       "</style>\n",
       "<table border=\"1\" class=\"dataframe\">\n",
       "  <thead>\n",
       "    <tr style=\"text-align: right;\">\n",
       "      <th></th>\n",
       "      <th>state</th>\n",
       "      <th>county</th>\n",
       "      <th>repub_percent_08</th>\n",
       "      <th>repub_percent_12</th>\n",
       "    </tr>\n",
       "  </thead>\n",
       "  <tbody>\n",
       "    <tr>\n",
       "      <th>0</th>\n",
       "      <td>Alabama</td>\n",
       "      <td>Hale</td>\n",
       "      <td>38.957877</td>\n",
       "      <td>37.139882</td>\n",
       "    </tr>\n",
       "    <tr>\n",
       "      <th>1</th>\n",
       "      <td>Arkansas</td>\n",
       "      <td>Nevada</td>\n",
       "      <td>56.726272</td>\n",
       "      <td>58.983452</td>\n",
       "    </tr>\n",
       "    <tr>\n",
       "      <th>2</th>\n",
       "      <td>California</td>\n",
       "      <td>Lake</td>\n",
       "      <td>38.896719</td>\n",
       "      <td>39.331367</td>\n",
       "    </tr>\n",
       "    <tr>\n",
       "      <th>3</th>\n",
       "      <td>California</td>\n",
       "      <td>Ventura</td>\n",
       "      <td>42.923190</td>\n",
       "      <td>45.250693</td>\n",
       "    </tr>\n",
       "    <tr>\n",
       "      <th>4</th>\n",
       "      <td>Colorado</td>\n",
       "      <td>Lincoln</td>\n",
       "      <td>74.522569</td>\n",
       "      <td>73.764757</td>\n",
       "    </tr>\n",
       "  </tbody>\n",
       "</table>\n",
       "</div>"
      ],
      "text/plain": [
       "        state   county  repub_percent_08  repub_percent_12\n",
       "0     Alabama     Hale         38.957877         37.139882\n",
       "1    Arkansas   Nevada         56.726272         58.983452\n",
       "2  California     Lake         38.896719         39.331367\n",
       "3  California  Ventura         42.923190         45.250693\n",
       "4    Colorado  Lincoln         74.522569         73.764757"
      ]
     },
     "execution_count": 30,
     "metadata": {},
     "output_type": "execute_result"
    }
   ],
   "source": [
    "sample_data = pd.read_feather(r'C:\\Users\\navee\\OneDrive\\Desktop\\Data_Camp\\DataCamp_datasets\\Hypothesis_Testing\\repub_votes_potus_08_12.feather')\n",
    "sample_data.head()\n"
   ]
  },
  {
   "cell_type": "markdown",
   "id": "89cc0d2e",
   "metadata": {},
   "source": [
    "# Hypotheses\n",
    "Question: Was the percentage of Republican candidate votes __lower__ in 2008 than 2012.\\\n",
    "__Equation H0: mue_2008 - mue_2012 = 0\\\n",
    "Equation HA: mue_2008 - mue_2012 < 0\n",
    "Set (a) = 0.05 significant level__\n",
    "> __Data is paired__ each votes percentage refers to the __same country__\n",
    "    - Want to capture votting patterns in model "
   ]
  },
  {
   "cell_type": "code",
   "execution_count": 31,
   "id": "cd4fa3e9",
   "metadata": {
    "scrolled": true
   },
   "outputs": [
    {
     "data": {
      "text/html": [
       "<div>\n",
       "<style scoped>\n",
       "    .dataframe tbody tr th:only-of-type {\n",
       "        vertical-align: middle;\n",
       "    }\n",
       "\n",
       "    .dataframe tbody tr th {\n",
       "        vertical-align: top;\n",
       "    }\n",
       "\n",
       "    .dataframe thead th {\n",
       "        text-align: right;\n",
       "    }\n",
       "</style>\n",
       "<table border=\"1\" class=\"dataframe\">\n",
       "  <thead>\n",
       "    <tr style=\"text-align: right;\">\n",
       "      <th></th>\n",
       "      <th>state</th>\n",
       "      <th>county</th>\n",
       "      <th>repub_percent_08</th>\n",
       "      <th>repub_percent_12</th>\n",
       "      <th>diff</th>\n",
       "    </tr>\n",
       "  </thead>\n",
       "  <tbody>\n",
       "    <tr>\n",
       "      <th>0</th>\n",
       "      <td>Alabama</td>\n",
       "      <td>Hale</td>\n",
       "      <td>38.957877</td>\n",
       "      <td>37.139882</td>\n",
       "      <td>1.817995</td>\n",
       "    </tr>\n",
       "    <tr>\n",
       "      <th>1</th>\n",
       "      <td>Arkansas</td>\n",
       "      <td>Nevada</td>\n",
       "      <td>56.726272</td>\n",
       "      <td>58.983452</td>\n",
       "      <td>-2.257179</td>\n",
       "    </tr>\n",
       "    <tr>\n",
       "      <th>2</th>\n",
       "      <td>California</td>\n",
       "      <td>Lake</td>\n",
       "      <td>38.896719</td>\n",
       "      <td>39.331367</td>\n",
       "      <td>-0.434648</td>\n",
       "    </tr>\n",
       "    <tr>\n",
       "      <th>3</th>\n",
       "      <td>California</td>\n",
       "      <td>Ventura</td>\n",
       "      <td>42.923190</td>\n",
       "      <td>45.250693</td>\n",
       "      <td>-2.327503</td>\n",
       "    </tr>\n",
       "    <tr>\n",
       "      <th>4</th>\n",
       "      <td>Colorado</td>\n",
       "      <td>Lincoln</td>\n",
       "      <td>74.522569</td>\n",
       "      <td>73.764757</td>\n",
       "      <td>0.757812</td>\n",
       "    </tr>\n",
       "    <tr>\n",
       "      <th>...</th>\n",
       "      <td>...</td>\n",
       "      <td>...</td>\n",
       "      <td>...</td>\n",
       "      <td>...</td>\n",
       "      <td>...</td>\n",
       "    </tr>\n",
       "    <tr>\n",
       "      <th>95</th>\n",
       "      <td>Wisconsin</td>\n",
       "      <td>Burnett</td>\n",
       "      <td>48.342541</td>\n",
       "      <td>52.437478</td>\n",
       "      <td>-4.094937</td>\n",
       "    </tr>\n",
       "    <tr>\n",
       "      <th>96</th>\n",
       "      <td>Wisconsin</td>\n",
       "      <td>La Crosse</td>\n",
       "      <td>37.490904</td>\n",
       "      <td>40.577038</td>\n",
       "      <td>-3.086134</td>\n",
       "    </tr>\n",
       "    <tr>\n",
       "      <th>97</th>\n",
       "      <td>Wisconsin</td>\n",
       "      <td>Lafayette</td>\n",
       "      <td>38.104967</td>\n",
       "      <td>41.675050</td>\n",
       "      <td>-3.570083</td>\n",
       "    </tr>\n",
       "    <tr>\n",
       "      <th>98</th>\n",
       "      <td>Wyoming</td>\n",
       "      <td>Weston</td>\n",
       "      <td>76.684241</td>\n",
       "      <td>83.983328</td>\n",
       "      <td>-7.299087</td>\n",
       "    </tr>\n",
       "    <tr>\n",
       "      <th>99</th>\n",
       "      <td>Alaska</td>\n",
       "      <td>District 34</td>\n",
       "      <td>77.063259</td>\n",
       "      <td>40.789626</td>\n",
       "      <td>36.273633</td>\n",
       "    </tr>\n",
       "  </tbody>\n",
       "</table>\n",
       "<p>100 rows × 5 columns</p>\n",
       "</div>"
      ],
      "text/plain": [
       "         state       county  repub_percent_08  repub_percent_12       diff\n",
       "0      Alabama         Hale         38.957877         37.139882   1.817995\n",
       "1     Arkansas       Nevada         56.726272         58.983452  -2.257179\n",
       "2   California         Lake         38.896719         39.331367  -0.434648\n",
       "3   California      Ventura         42.923190         45.250693  -2.327503\n",
       "4     Colorado      Lincoln         74.522569         73.764757   0.757812\n",
       "..         ...          ...               ...               ...        ...\n",
       "95   Wisconsin      Burnett         48.342541         52.437478  -4.094937\n",
       "96   Wisconsin    La Crosse         37.490904         40.577038  -3.086134\n",
       "97   Wisconsin    Lafayette         38.104967         41.675050  -3.570083\n",
       "98     Wyoming       Weston         76.684241         83.983328  -7.299087\n",
       "99      Alaska  District 34         77.063259         40.789626  36.273633\n",
       "\n",
       "[100 rows x 5 columns]"
      ]
     },
     "execution_count": 31,
     "metadata": {},
     "output_type": "execute_result"
    }
   ],
   "source": [
    "# From two sample to one\n",
    "sample_data[\"diff\"] =  sample_data[\"repub_percent_08\"] - sample_data[\"repub_percent_12\"]\n",
    "sample_data"
   ]
  },
  {
   "cell_type": "code",
   "execution_count": 32,
   "id": "a78d60c7",
   "metadata": {
    "scrolled": true
   },
   "outputs": [
    {
     "data": {
      "image/png": "[encoded data removed]",
      "text/plain": [
       "<Figure size 432x288 with 1 Axes>"
      ]
     },
     "metadata": {
      "needs_background": "light"
     },
     "output_type": "display_data"
    }
   ],
   "source": [
    "import matplotlib.pyplot as plt\n",
    "sample_data[\"diff\"].hist(bins=20)\n",
    "plt.show()"
   ]
  },
  {
   "cell_type": "code",
   "execution_count": 33,
   "id": "c42f8c71",
   "metadata": {},
   "outputs": [
    {
     "data": {
      "text/plain": [
       "-2.8771090412429454"
      ]
     },
     "execution_count": 33,
     "metadata": {},
     "output_type": "execute_result"
    }
   ],
   "source": [
    "# Calculate the sample statistics of the difference\n",
    "xbar_diff = sample_data[\"diff\"].mean()\n",
    "xbar_diff"
   ]
  },
  {
   "cell_type": "markdown",
   "id": "06740acd",
   "metadata": {},
   "source": [
    "### Revised Hypotheses\n",
    "\n",
    "### Old Hypotheses\n",
    "__Equation H0: mue_2008 - mue_2012 = 0\\\n",
    "Equation HA: mue_2008 - mue_2012 < 0__\n",
    "\n",
    "### New Hypotheses\n",
    "__Equation H0: mue_diff = 0\\\n",
    "Equation HA: mue_diff < 0__\n",
    "\n",
    "### t-stats\n",
    "__Example: t= (xbar_diff - mue_diff)  / s_diff **2 / n_diff)__\n",
    "\n",
    "### Degree of freedom\n",
    "__df = n_diff -1__"
   ]
  },
  {
   "cell_type": "markdown",
   "id": "b585227c",
   "metadata": {},
   "source": [
    "## Calculate the p-value"
   ]
  },
  {
   "cell_type": "code",
   "execution_count": 34,
   "id": "1dcb98b9",
   "metadata": {},
   "outputs": [
    {
     "name": "stdout",
     "output_type": "stream",
     "text": [
      "100\n",
      "100\n",
      "-5.601043121928492\n",
      "99\n"
     ]
    }
   ],
   "source": [
    "n_diff = len(sample_data)\n",
    "print(n_diff)\n",
    "\n",
    "s_diff = sample_data[\"diff\"].std()\n",
    "print(n_diff)\n",
    "\n",
    "# Assuming the null hypothesis is true means mu-diff is zero.\n",
    "\n",
    "t_stat = (xbar_diff - 0)/ np.sqrt(s_diff **2/n_diff)\n",
    "print(t_stat)\n",
    "\n",
    "degrees_of_freedom = n_diff -1\n",
    "print(degrees_of_freedom)"
   ]
  },
  {
   "cell_type": "code",
   "execution_count": 35,
   "id": "ea5f699d",
   "metadata": {},
   "outputs": [
    {
     "data": {
      "text/plain": [
       "9.572537285272304e-08"
      ]
     },
     "execution_count": 35,
     "metadata": {},
     "output_type": "execute_result"
    }
   ],
   "source": [
    "## left tail test (t.cdf)\n",
    "\n",
    "from scipy.stats import t\n",
    "p_value= t.cdf(t_stat, df = degrees_of_freedom) \n",
    "p_value"
   ]
  },
  {
   "cell_type": "markdown",
   "id": "3b03bad8",
   "metadata": {},
   "source": [
    "### Decision Making\n",
    "\n",
    "The p-value is really small at around nine-point-six times ten to the minus eight. That means we reject the null hypothesis in favor of the alternative hypothesis that the Republican candidates got a smaller percentage of the vote in 2008 compared to 2012."
   ]
  },
  {
   "cell_type": "markdown",
   "id": "6ebf5687",
   "metadata": {},
   "source": [
    "## Testing differences between two means using ttest()"
   ]
  },
  {
   "cell_type": "code",
   "execution_count": 36,
   "id": "d07a5460",
   "metadata": {},
   "outputs": [
    {
     "data": {
      "text/html": [
       "<div>\n",
       "<style scoped>\n",
       "    .dataframe tbody tr th:only-of-type {\n",
       "        vertical-align: middle;\n",
       "    }\n",
       "\n",
       "    .dataframe tbody tr th {\n",
       "        vertical-align: top;\n",
       "    }\n",
       "\n",
       "    .dataframe thead th {\n",
       "        text-align: right;\n",
       "    }\n",
       "</style>\n",
       "<table border=\"1\" class=\"dataframe\">\n",
       "  <thead>\n",
       "    <tr style=\"text-align: right;\">\n",
       "      <th></th>\n",
       "      <th>T</th>\n",
       "      <th>dof</th>\n",
       "      <th>alternative</th>\n",
       "      <th>p-val</th>\n",
       "      <th>CI95%</th>\n",
       "      <th>cohen-d</th>\n",
       "      <th>BF10</th>\n",
       "      <th>power</th>\n",
       "    </tr>\n",
       "  </thead>\n",
       "  <tbody>\n",
       "    <tr>\n",
       "      <th>T-test</th>\n",
       "      <td>-5.601043</td>\n",
       "      <td>99</td>\n",
       "      <td>less</td>\n",
       "      <td>9.572537e-08</td>\n",
       "      <td>[-inf, -2.02]</td>\n",
       "      <td>0.560104</td>\n",
       "      <td>1.323e+05</td>\n",
       "      <td>1.0</td>\n",
       "    </tr>\n",
       "  </tbody>\n",
       "</table>\n",
       "</div>"
      ],
      "text/plain": [
       "               T  dof alternative         p-val          CI95%   cohen-d  \\\n",
       "T-test -5.601043   99        less  9.572537e-08  [-inf, -2.02]  0.560104   \n",
       "\n",
       "             BF10  power  \n",
       "T-test  1.323e+05    1.0  "
      ]
     },
     "execution_count": 36,
     "metadata": {},
     "output_type": "execute_result"
    }
   ],
   "source": [
    "import pingouin as pg\n",
    "pg.ttest(x=sample_data[\"diff\"],y=0,alternative=\"less\")"
   ]
  },
  {
   "cell_type": "code",
   "execution_count": 37,
   "id": "261b78d9",
   "metadata": {},
   "outputs": [
    {
     "data": {
      "text/html": [
       "<div>\n",
       "<style scoped>\n",
       "    .dataframe tbody tr th:only-of-type {\n",
       "        vertical-align: middle;\n",
       "    }\n",
       "\n",
       "    .dataframe tbody tr th {\n",
       "        vertical-align: top;\n",
       "    }\n",
       "\n",
       "    .dataframe thead th {\n",
       "        text-align: right;\n",
       "    }\n",
       "</style>\n",
       "<table border=\"1\" class=\"dataframe\">\n",
       "  <thead>\n",
       "    <tr style=\"text-align: right;\">\n",
       "      <th></th>\n",
       "      <th>T</th>\n",
       "      <th>dof</th>\n",
       "      <th>alternative</th>\n",
       "      <th>p-val</th>\n",
       "      <th>CI95%</th>\n",
       "      <th>cohen-d</th>\n",
       "      <th>BF10</th>\n",
       "      <th>power</th>\n",
       "    </tr>\n",
       "  </thead>\n",
       "  <tbody>\n",
       "    <tr>\n",
       "      <th>T-test</th>\n",
       "      <td>-1.536997</td>\n",
       "      <td>198</td>\n",
       "      <td>less</td>\n",
       "      <td>0.062945</td>\n",
       "      <td>[-inf, 0.22]</td>\n",
       "      <td>0.217364</td>\n",
       "      <td>0.927</td>\n",
       "      <td>0.454972</td>\n",
       "    </tr>\n",
       "  </tbody>\n",
       "</table>\n",
       "</div>"
      ],
      "text/plain": [
       "               T  dof alternative     p-val         CI95%   cohen-d   BF10  \\\n",
       "T-test -1.536997  198        less  0.062945  [-inf, 0.22]  0.217364  0.927   \n",
       "\n",
       "           power  \n",
       "T-test  0.454972  "
      ]
     },
     "execution_count": 37,
     "metadata": {},
     "output_type": "execute_result"
    }
   ],
   "source": [
    "paired = pg.ttest(x=sample_data[\"repub_percent_08\"],y=sample_data[\"repub_percent_12\"],paired=True,alternative=\"less\")\n",
    "unpaired = pg.ttest(x=sample_data[\"repub_percent_08\"],y=sample_data[\"repub_percent_12\"],paired=False,alternative=\"less\")\n",
    "unpaired"
   ]
  },
  {
   "cell_type": "markdown",
   "id": "3c667793",
   "metadata": {},
   "source": [
    "The test statistic is closer to zero, there are more degrees of freedom, and the p-value is much larger.\n",
    "\n",
    "### Paired vs Unpaired: \n",
    "- how to compare two groups in the unpaired and paired cases\n",
    "- Performing an unpaired t-test when our data is paired increases the chances of false negative errors.\n",
    "- When you have paired data, a paired t-test is preferable to the unpaired version because it reduces the chance of a false negative error.\\\n",
    "- The p-value from the unpaired test is greater than than the p-value from the paired test."
   ]
  },
  {
   "cell_type": "markdown",
   "id": "167df653",
   "metadata": {},
   "source": [
    "## ANOVA tests : \n",
    "> __ANOVA extends t-tests to more than two groups, \\\n",
    "A test for differences between groups__"
   ]
  },
  {
   "cell_type": "code",
   "execution_count": 38,
   "id": "504383e2",
   "metadata": {},
   "outputs": [
    {
     "data": {
      "text/html": [
       "<div>\n",
       "<style scoped>\n",
       "    .dataframe tbody tr th:only-of-type {\n",
       "        vertical-align: middle;\n",
       "    }\n",
       "\n",
       "    .dataframe tbody tr th {\n",
       "        vertical-align: top;\n",
       "    }\n",
       "\n",
       "    .dataframe thead th {\n",
       "        text-align: right;\n",
       "    }\n",
       "</style>\n",
       "<table border=\"1\" class=\"dataframe\">\n",
       "  <thead>\n",
       "    <tr style=\"text-align: right;\">\n",
       "      <th></th>\n",
       "      <th>respondent</th>\n",
       "      <th>main_branch</th>\n",
       "      <th>hobbyist</th>\n",
       "      <th>age</th>\n",
       "      <th>age_1st_code</th>\n",
       "      <th>age_first_code_cut</th>\n",
       "      <th>comp_freq</th>\n",
       "      <th>comp_total</th>\n",
       "      <th>converted_comp</th>\n",
       "      <th>country</th>\n",
       "      <th>...</th>\n",
       "      <th>survey_length</th>\n",
       "      <th>trans</th>\n",
       "      <th>undergrad_major</th>\n",
       "      <th>webframe_desire_next_year</th>\n",
       "      <th>webframe_worked_with</th>\n",
       "      <th>welcome_change</th>\n",
       "      <th>work_week_hrs</th>\n",
       "      <th>years_code</th>\n",
       "      <th>years_code_pro</th>\n",
       "      <th>age_cat</th>\n",
       "    </tr>\n",
       "  </thead>\n",
       "  <tbody>\n",
       "    <tr>\n",
       "      <th>0</th>\n",
       "      <td>36.0</td>\n",
       "      <td>I am not primarily a developer, but I write co...</td>\n",
       "      <td>Yes</td>\n",
       "      <td>34.0</td>\n",
       "      <td>30.0</td>\n",
       "      <td>adult</td>\n",
       "      <td>Yearly</td>\n",
       "      <td>60000.0</td>\n",
       "      <td>77556.0</td>\n",
       "      <td>United Kingdom</td>\n",
       "      <td>...</td>\n",
       "      <td>Appropriate in length</td>\n",
       "      <td>No</td>\n",
       "      <td>Computer science, computer engineering, or sof...</td>\n",
       "      <td>Express;React.js</td>\n",
       "      <td>Express;React.js</td>\n",
       "      <td>Just as welcome now as I felt last year</td>\n",
       "      <td>40.0</td>\n",
       "      <td>4.0</td>\n",
       "      <td>3.0</td>\n",
       "      <td>At least 30</td>\n",
       "    </tr>\n",
       "    <tr>\n",
       "      <th>1</th>\n",
       "      <td>47.0</td>\n",
       "      <td>I am a developer by profession</td>\n",
       "      <td>Yes</td>\n",
       "      <td>53.0</td>\n",
       "      <td>10.0</td>\n",
       "      <td>child</td>\n",
       "      <td>Yearly</td>\n",
       "      <td>58000.0</td>\n",
       "      <td>74970.0</td>\n",
       "      <td>United Kingdom</td>\n",
       "      <td>...</td>\n",
       "      <td>Appropriate in length</td>\n",
       "      <td>No</td>\n",
       "      <td>A natural science (such as biology, chemistry,...</td>\n",
       "      <td>Flask;Spring</td>\n",
       "      <td>Flask;Spring</td>\n",
       "      <td>Just as welcome now as I felt last year</td>\n",
       "      <td>40.0</td>\n",
       "      <td>43.0</td>\n",
       "      <td>28.0</td>\n",
       "      <td>At least 30</td>\n",
       "    </tr>\n",
       "    <tr>\n",
       "      <th>2</th>\n",
       "      <td>69.0</td>\n",
       "      <td>I am a developer by profession</td>\n",
       "      <td>Yes</td>\n",
       "      <td>25.0</td>\n",
       "      <td>12.0</td>\n",
       "      <td>child</td>\n",
       "      <td>Yearly</td>\n",
       "      <td>550000.0</td>\n",
       "      <td>594539.0</td>\n",
       "      <td>France</td>\n",
       "      <td>...</td>\n",
       "      <td>Too short</td>\n",
       "      <td>No</td>\n",
       "      <td>Computer science, computer engineering, or sof...</td>\n",
       "      <td>Django;Flask</td>\n",
       "      <td>Django;Flask</td>\n",
       "      <td>Just as welcome now as I felt last year</td>\n",
       "      <td>40.0</td>\n",
       "      <td>13.0</td>\n",
       "      <td>3.0</td>\n",
       "      <td>Under 30</td>\n",
       "    </tr>\n",
       "    <tr>\n",
       "      <th>3</th>\n",
       "      <td>125.0</td>\n",
       "      <td>I am not primarily a developer, but I write co...</td>\n",
       "      <td>Yes</td>\n",
       "      <td>41.0</td>\n",
       "      <td>30.0</td>\n",
       "      <td>adult</td>\n",
       "      <td>Monthly</td>\n",
       "      <td>200000.0</td>\n",
       "      <td>2000000.0</td>\n",
       "      <td>United States</td>\n",
       "      <td>...</td>\n",
       "      <td>Appropriate in length</td>\n",
       "      <td>No</td>\n",
       "      <td>None</td>\n",
       "      <td>None</td>\n",
       "      <td>None</td>\n",
       "      <td>Just as welcome now as I felt last year</td>\n",
       "      <td>40.0</td>\n",
       "      <td>11.0</td>\n",
       "      <td>11.0</td>\n",
       "      <td>At least 30</td>\n",
       "    </tr>\n",
       "    <tr>\n",
       "      <th>4</th>\n",
       "      <td>147.0</td>\n",
       "      <td>I am not primarily a developer, but I write co...</td>\n",
       "      <td>No</td>\n",
       "      <td>28.0</td>\n",
       "      <td>15.0</td>\n",
       "      <td>adult</td>\n",
       "      <td>Yearly</td>\n",
       "      <td>50000.0</td>\n",
       "      <td>37816.0</td>\n",
       "      <td>Canada</td>\n",
       "      <td>...</td>\n",
       "      <td>Appropriate in length</td>\n",
       "      <td>No</td>\n",
       "      <td>Another engineering discipline (such as civil,...</td>\n",
       "      <td>None</td>\n",
       "      <td>Express;Flask</td>\n",
       "      <td>Just as welcome now as I felt last year</td>\n",
       "      <td>40.0</td>\n",
       "      <td>5.0</td>\n",
       "      <td>3.0</td>\n",
       "      <td>Under 30</td>\n",
       "    </tr>\n",
       "  </tbody>\n",
       "</table>\n",
       "<p>5 rows × 63 columns</p>\n",
       "</div>"
      ],
      "text/plain": [
       "   respondent                                        main_branch hobbyist  \\\n",
       "0        36.0  I am not primarily a developer, but I write co...      Yes   \n",
       "1        47.0                     I am a developer by profession      Yes   \n",
       "2        69.0                     I am a developer by profession      Yes   \n",
       "3       125.0  I am not primarily a developer, but I write co...      Yes   \n",
       "4       147.0  I am not primarily a developer, but I write co...       No   \n",
       "\n",
       "    age  age_1st_code age_first_code_cut comp_freq  comp_total  \\\n",
       "0  34.0          30.0              adult    Yearly     60000.0   \n",
       "1  53.0          10.0              child    Yearly     58000.0   \n",
       "2  25.0          12.0              child    Yearly    550000.0   \n",
       "3  41.0          30.0              adult   Monthly    200000.0   \n",
       "4  28.0          15.0              adult    Yearly     50000.0   \n",
       "\n",
       "   converted_comp         country  ...          survey_length trans  \\\n",
       "0         77556.0  United Kingdom  ...  Appropriate in length    No   \n",
       "1         74970.0  United Kingdom  ...  Appropriate in length    No   \n",
       "2        594539.0          France  ...              Too short    No   \n",
       "3       2000000.0   United States  ...  Appropriate in length    No   \n",
       "4         37816.0          Canada  ...  Appropriate in length    No   \n",
       "\n",
       "                                     undergrad_major  \\\n",
       "0  Computer science, computer engineering, or sof...   \n",
       "1  A natural science (such as biology, chemistry,...   \n",
       "2  Computer science, computer engineering, or sof...   \n",
       "3                                               None   \n",
       "4  Another engineering discipline (such as civil,...   \n",
       "\n",
       "  webframe_desire_next_year webframe_worked_with  \\\n",
       "0          Express;React.js     Express;React.js   \n",
       "1              Flask;Spring         Flask;Spring   \n",
       "2              Django;Flask         Django;Flask   \n",
       "3                      None                 None   \n",
       "4                      None        Express;Flask   \n",
       "\n",
       "                            welcome_change work_week_hrs years_code  \\\n",
       "0  Just as welcome now as I felt last year          40.0        4.0   \n",
       "1  Just as welcome now as I felt last year          40.0       43.0   \n",
       "2  Just as welcome now as I felt last year          40.0       13.0   \n",
       "3  Just as welcome now as I felt last year          40.0       11.0   \n",
       "4  Just as welcome now as I felt last year          40.0        5.0   \n",
       "\n",
       "  years_code_pro      age_cat  \n",
       "0            3.0  At least 30  \n",
       "1           28.0  At least 30  \n",
       "2            3.0     Under 30  \n",
       "3           11.0  At least 30  \n",
       "4            3.0     Under 30  \n",
       "\n",
       "[5 rows x 63 columns]"
      ]
     },
     "execution_count": 38,
     "metadata": {},
     "output_type": "execute_result"
    }
   ],
   "source": [
    "import pandas as pd\n",
    "stack_overflow = pd.read_feather(r'C:\\Users\\navee\\OneDrive\\Desktop\\Data_Camp\\DataCamp_datasets\\Hypothesis_Testing\\stack_overflow.feather')\n",
    "stack_overflow.head()"
   ]
  },
  {
   "cell_type": "code",
   "execution_count": 39,
   "id": "151b98a1",
   "metadata": {},
   "outputs": [
    {
     "data": {
      "text/plain": [
       "Very satisfied           879\n",
       "Slightly satisfied       680\n",
       "Slightly dissatisfied    342\n",
       "Neither                  201\n",
       "Very dissatisfied        159\n",
       "Name: job_sat, dtype: int64"
      ]
     },
     "execution_count": 39,
     "metadata": {},
     "output_type": "execute_result"
    }
   ],
   "source": [
    "stack_overflow[\"job_sat\"].value_counts()"
   ]
  },
  {
   "cell_type": "code",
   "execution_count": 40,
   "id": "9366f9d6",
   "metadata": {},
   "outputs": [
    {
     "data": {
      "image/png": "[encoded data removed]",
      "text/plain": [
       "<Figure size 432x288 with 1 Axes>"
      ]
     },
     "metadata": {
      "needs_background": "light"
     },
     "output_type": "display_data"
    }
   ],
   "source": [
    "import seaborn as sns\n",
    "import matplotlib.pyplot as plt\n",
    "sns.boxplot(x=\"converted_comp\",y = \"job_sat\",data=stack_overflow)\n",
    "plt.show()"
   ]
  },
  {
   "cell_type": "code",
   "execution_count": 41,
   "id": "dfe2736c",
   "metadata": {},
   "outputs": [
    {
     "name": "stdout",
     "output_type": "stream",
     "text": [
      "    Source  ddof1  ddof2         F     p-unc       np2\n",
      "0  job_sat      4   2256  4.480485  0.001315  0.007882\n"
     ]
    },
    {
     "data": {
      "text/plain": [
       "True"
      ]
     },
     "execution_count": 41,
     "metadata": {},
     "output_type": "execute_result"
    }
   ],
   "source": [
    "# ## Analysis of variance (ANOVA)\n",
    "# ANOVA tests determine whether there are differences between the groups.\n",
    "# We begin by setting our significance level to point-two. This value is larger than in many situations but will\n",
    "# help us understand the implications on comparing different numbers of groups later on\n",
    "\n",
    "import pingouin as pg\n",
    "import numpy as np\n",
    "anova = pg.anova(data=stack_overflow,dv=\"converted_comp\",between=\"job_sat\")\n",
    "print(anova)\n",
    "\n",
    "# We specify the data as stack_overflow, the dependent variable, dv, as converted_comp, and the column of groups to \n",
    "# calculate between as job_sat. The p-value is stored in the p-unc column, which is point-zero-zero-one-three,\n",
    "# which is smaller than alpha at 20 percent. That means that at least two of the categories of job satisfaction have \n",
    "# significant differences between their compensation levels, but this doesn't tell us which two categories they are.\n",
    "\n",
    "0.001315 < 0.20 # alpha(a)\n"
   ]
  },
  {
   "cell_type": "code",
   "execution_count": 42,
   "id": "8fcec449",
   "metadata": {},
   "outputs": [
    {
     "data": {
      "text/html": [
       "<div>\n",
       "<style scoped>\n",
       "    .dataframe tbody tr th:only-of-type {\n",
       "        vertical-align: middle;\n",
       "    }\n",
       "\n",
       "    .dataframe tbody tr th {\n",
       "        vertical-align: top;\n",
       "    }\n",
       "\n",
       "    .dataframe thead th {\n",
       "        text-align: right;\n",
       "    }\n",
       "</style>\n",
       "<table border=\"1\" class=\"dataframe\">\n",
       "  <thead>\n",
       "    <tr style=\"text-align: right;\">\n",
       "      <th></th>\n",
       "      <th>Contrast</th>\n",
       "      <th>A</th>\n",
       "      <th>B</th>\n",
       "      <th>Paired</th>\n",
       "      <th>Parametric</th>\n",
       "      <th>T</th>\n",
       "      <th>dof</th>\n",
       "      <th>alternative</th>\n",
       "      <th>p-unc</th>\n",
       "      <th>BF10</th>\n",
       "      <th>hedges</th>\n",
       "    </tr>\n",
       "  </thead>\n",
       "  <tbody>\n",
       "    <tr>\n",
       "      <th>0</th>\n",
       "      <td>job_sat</td>\n",
       "      <td>Slightly satisfied</td>\n",
       "      <td>Very satisfied</td>\n",
       "      <td>False</td>\n",
       "      <td>True</td>\n",
       "      <td>-4.009935</td>\n",
       "      <td>1478.622799</td>\n",
       "      <td>two-sided</td>\n",
       "      <td>0.000064</td>\n",
       "      <td>158.564</td>\n",
       "      <td>-0.192931</td>\n",
       "    </tr>\n",
       "    <tr>\n",
       "      <th>1</th>\n",
       "      <td>job_sat</td>\n",
       "      <td>Slightly satisfied</td>\n",
       "      <td>Neither</td>\n",
       "      <td>False</td>\n",
       "      <td>True</td>\n",
       "      <td>-0.700752</td>\n",
       "      <td>258.204546</td>\n",
       "      <td>two-sided</td>\n",
       "      <td>0.484088</td>\n",
       "      <td>0.114</td>\n",
       "      <td>-0.068513</td>\n",
       "    </tr>\n",
       "    <tr>\n",
       "      <th>2</th>\n",
       "      <td>job_sat</td>\n",
       "      <td>Slightly satisfied</td>\n",
       "      <td>Very dissatisfied</td>\n",
       "      <td>False</td>\n",
       "      <td>True</td>\n",
       "      <td>-1.243665</td>\n",
       "      <td>187.153329</td>\n",
       "      <td>two-sided</td>\n",
       "      <td>0.215179</td>\n",
       "      <td>0.208</td>\n",
       "      <td>-0.145624</td>\n",
       "    </tr>\n",
       "    <tr>\n",
       "      <th>3</th>\n",
       "      <td>job_sat</td>\n",
       "      <td>Slightly satisfied</td>\n",
       "      <td>Slightly dissatisfied</td>\n",
       "      <td>False</td>\n",
       "      <td>True</td>\n",
       "      <td>-0.038264</td>\n",
       "      <td>569.926329</td>\n",
       "      <td>two-sided</td>\n",
       "      <td>0.969491</td>\n",
       "      <td>0.074</td>\n",
       "      <td>-0.002719</td>\n",
       "    </tr>\n",
       "    <tr>\n",
       "      <th>4</th>\n",
       "      <td>job_sat</td>\n",
       "      <td>Very satisfied</td>\n",
       "      <td>Neither</td>\n",
       "      <td>False</td>\n",
       "      <td>True</td>\n",
       "      <td>1.662901</td>\n",
       "      <td>328.326639</td>\n",
       "      <td>two-sided</td>\n",
       "      <td>0.097286</td>\n",
       "      <td>0.337</td>\n",
       "      <td>0.120115</td>\n",
       "    </tr>\n",
       "    <tr>\n",
       "      <th>5</th>\n",
       "      <td>job_sat</td>\n",
       "      <td>Very satisfied</td>\n",
       "      <td>Very dissatisfied</td>\n",
       "      <td>False</td>\n",
       "      <td>True</td>\n",
       "      <td>0.747379</td>\n",
       "      <td>221.666205</td>\n",
       "      <td>two-sided</td>\n",
       "      <td>0.455627</td>\n",
       "      <td>0.126</td>\n",
       "      <td>0.063479</td>\n",
       "    </tr>\n",
       "    <tr>\n",
       "      <th>6</th>\n",
       "      <td>job_sat</td>\n",
       "      <td>Very satisfied</td>\n",
       "      <td>Slightly dissatisfied</td>\n",
       "      <td>False</td>\n",
       "      <td>True</td>\n",
       "      <td>3.076222</td>\n",
       "      <td>821.303063</td>\n",
       "      <td>two-sided</td>\n",
       "      <td>0.002166</td>\n",
       "      <td>7.43</td>\n",
       "      <td>0.173247</td>\n",
       "    </tr>\n",
       "    <tr>\n",
       "      <th>7</th>\n",
       "      <td>job_sat</td>\n",
       "      <td>Neither</td>\n",
       "      <td>Very dissatisfied</td>\n",
       "      <td>False</td>\n",
       "      <td>True</td>\n",
       "      <td>-0.545948</td>\n",
       "      <td>321.165726</td>\n",
       "      <td>two-sided</td>\n",
       "      <td>0.585481</td>\n",
       "      <td>0.135</td>\n",
       "      <td>-0.058537</td>\n",
       "    </tr>\n",
       "    <tr>\n",
       "      <th>8</th>\n",
       "      <td>job_sat</td>\n",
       "      <td>Neither</td>\n",
       "      <td>Slightly dissatisfied</td>\n",
       "      <td>False</td>\n",
       "      <td>True</td>\n",
       "      <td>0.602209</td>\n",
       "      <td>367.730081</td>\n",
       "      <td>two-sided</td>\n",
       "      <td>0.547406</td>\n",
       "      <td>0.118</td>\n",
       "      <td>0.055707</td>\n",
       "    </tr>\n",
       "    <tr>\n",
       "      <th>9</th>\n",
       "      <td>job_sat</td>\n",
       "      <td>Very dissatisfied</td>\n",
       "      <td>Slightly dissatisfied</td>\n",
       "      <td>False</td>\n",
       "      <td>True</td>\n",
       "      <td>1.129951</td>\n",
       "      <td>247.570187</td>\n",
       "      <td>two-sided</td>\n",
       "      <td>0.259590</td>\n",
       "      <td>0.197</td>\n",
       "      <td>0.119131</td>\n",
       "    </tr>\n",
       "  </tbody>\n",
       "</table>\n",
       "</div>"
      ],
      "text/plain": [
       "  Contrast                   A                      B  Paired  Parametric  \\\n",
       "0  job_sat  Slightly satisfied         Very satisfied   False        True   \n",
       "1  job_sat  Slightly satisfied                Neither   False        True   \n",
       "2  job_sat  Slightly satisfied      Very dissatisfied   False        True   \n",
       "3  job_sat  Slightly satisfied  Slightly dissatisfied   False        True   \n",
       "4  job_sat      Very satisfied                Neither   False        True   \n",
       "5  job_sat      Very satisfied      Very dissatisfied   False        True   \n",
       "6  job_sat      Very satisfied  Slightly dissatisfied   False        True   \n",
       "7  job_sat             Neither      Very dissatisfied   False        True   \n",
       "8  job_sat             Neither  Slightly dissatisfied   False        True   \n",
       "9  job_sat   Very dissatisfied  Slightly dissatisfied   False        True   \n",
       "\n",
       "          T          dof alternative     p-unc     BF10    hedges  \n",
       "0 -4.009935  1478.622799   two-sided  0.000064  158.564 -0.192931  \n",
       "1 -0.700752   258.204546   two-sided  0.484088    0.114 -0.068513  \n",
       "2 -1.243665   187.153329   two-sided  0.215179    0.208 -0.145624  \n",
       "3 -0.038264   569.926329   two-sided  0.969491    0.074 -0.002719  \n",
       "4  1.662901   328.326639   two-sided  0.097286    0.337  0.120115  \n",
       "5  0.747379   221.666205   two-sided  0.455627    0.126  0.063479  \n",
       "6  3.076222   821.303063   two-sided  0.002166     7.43  0.173247  \n",
       "7 -0.545948   321.165726   two-sided  0.585481    0.135 -0.058537  \n",
       "8  0.602209   367.730081   two-sided  0.547406    0.118  0.055707  \n",
       "9  1.129951   247.570187   two-sided  0.259590    0.197  0.119131  "
      ]
     },
     "execution_count": 42,
     "metadata": {},
     "output_type": "execute_result"
    }
   ],
   "source": [
    "# ## Pairwise tests\n",
    "# To identify which categories are different, we compare all five job satisfaction categories, testing on each pair\n",
    "# in turn. There are ten ways of choosing two items from a set of five, so we have ten tests to perform. \n",
    "# Our significance level is still point-two.\n",
    "\n",
    "pg.pairwise_tests(data=stack_overflow, dv=\"converted_comp\",between=\"job_sat\", padjust = \"none\")"
   ]
  },
  {
   "cell_type": "markdown",
   "id": "c279aaf0",
   "metadata": {},
   "source": [
    "- As the number of groups increases, the number of pairs - and hence the number of hypothesis tests we must perform - increases quadratically.\n",
    "- The more tests we run, the higher the chance that at least one of them will give a false positive significant result. \n",
    "- With a significance level of point-two, if we run one test, the chance of a false positive result is point-two. \n",
    "- With five groups and ten tests, the probability of at least one false positive is around point-seven. \n",
    "- With twenty groups, it's almost guaranteed that we'll get at least one false positive.\n",
    "\n",
    "\n",
    "\n",
    "### Bonferroni correction\n",
    "> The solution to this is to apply an adjustment to increase the p-values, reducing the chance of getting a \n",
    "false positive. One common adjustment is the Bonferroni correction. Looking at the p-corr column corresponding \n",
    "to corrected p-values, as opposed to the p-unc column for uncorrected, only two of the pairs appear to have \n",
    "significant differences.(less than 0.20)"
   ]
  },
  {
   "cell_type": "code",
   "execution_count": 43,
   "id": "6fb65e3d",
   "metadata": {
    "scrolled": true
   },
   "outputs": [
    {
     "data": {
      "text/html": [
       "<div>\n",
       "<style scoped>\n",
       "    .dataframe tbody tr th:only-of-type {\n",
       "        vertical-align: middle;\n",
       "    }\n",
       "\n",
       "    .dataframe tbody tr th {\n",
       "        vertical-align: top;\n",
       "    }\n",
       "\n",
       "    .dataframe thead th {\n",
       "        text-align: right;\n",
       "    }\n",
       "</style>\n",
       "<table border=\"1\" class=\"dataframe\">\n",
       "  <thead>\n",
       "    <tr style=\"text-align: right;\">\n",
       "      <th></th>\n",
       "      <th>Contrast</th>\n",
       "      <th>A</th>\n",
       "      <th>B</th>\n",
       "      <th>Paired</th>\n",
       "      <th>Parametric</th>\n",
       "      <th>T</th>\n",
       "      <th>dof</th>\n",
       "      <th>alternative</th>\n",
       "      <th>p-unc</th>\n",
       "      <th>p-corr</th>\n",
       "      <th>p-adjust</th>\n",
       "      <th>BF10</th>\n",
       "      <th>hedges</th>\n",
       "    </tr>\n",
       "  </thead>\n",
       "  <tbody>\n",
       "    <tr>\n",
       "      <th>0</th>\n",
       "      <td>job_sat</td>\n",
       "      <td>Slightly satisfied</td>\n",
       "      <td>Very satisfied</td>\n",
       "      <td>False</td>\n",
       "      <td>True</td>\n",
       "      <td>-4.009935</td>\n",
       "      <td>1478.622799</td>\n",
       "      <td>two-sided</td>\n",
       "      <td>0.000064</td>\n",
       "      <td>0.000638</td>\n",
       "      <td>bonf</td>\n",
       "      <td>158.564</td>\n",
       "      <td>-0.192931</td>\n",
       "    </tr>\n",
       "    <tr>\n",
       "      <th>1</th>\n",
       "      <td>job_sat</td>\n",
       "      <td>Slightly satisfied</td>\n",
       "      <td>Neither</td>\n",
       "      <td>False</td>\n",
       "      <td>True</td>\n",
       "      <td>-0.700752</td>\n",
       "      <td>258.204546</td>\n",
       "      <td>two-sided</td>\n",
       "      <td>0.484088</td>\n",
       "      <td>1.000000</td>\n",
       "      <td>bonf</td>\n",
       "      <td>0.114</td>\n",
       "      <td>-0.068513</td>\n",
       "    </tr>\n",
       "    <tr>\n",
       "      <th>2</th>\n",
       "      <td>job_sat</td>\n",
       "      <td>Slightly satisfied</td>\n",
       "      <td>Very dissatisfied</td>\n",
       "      <td>False</td>\n",
       "      <td>True</td>\n",
       "      <td>-1.243665</td>\n",
       "      <td>187.153329</td>\n",
       "      <td>two-sided</td>\n",
       "      <td>0.215179</td>\n",
       "      <td>1.000000</td>\n",
       "      <td>bonf</td>\n",
       "      <td>0.208</td>\n",
       "      <td>-0.145624</td>\n",
       "    </tr>\n",
       "    <tr>\n",
       "      <th>3</th>\n",
       "      <td>job_sat</td>\n",
       "      <td>Slightly satisfied</td>\n",
       "      <td>Slightly dissatisfied</td>\n",
       "      <td>False</td>\n",
       "      <td>True</td>\n",
       "      <td>-0.038264</td>\n",
       "      <td>569.926329</td>\n",
       "      <td>two-sided</td>\n",
       "      <td>0.969491</td>\n",
       "      <td>1.000000</td>\n",
       "      <td>bonf</td>\n",
       "      <td>0.074</td>\n",
       "      <td>-0.002719</td>\n",
       "    </tr>\n",
       "    <tr>\n",
       "      <th>4</th>\n",
       "      <td>job_sat</td>\n",
       "      <td>Very satisfied</td>\n",
       "      <td>Neither</td>\n",
       "      <td>False</td>\n",
       "      <td>True</td>\n",
       "      <td>1.662901</td>\n",
       "      <td>328.326639</td>\n",
       "      <td>two-sided</td>\n",
       "      <td>0.097286</td>\n",
       "      <td>0.972864</td>\n",
       "      <td>bonf</td>\n",
       "      <td>0.337</td>\n",
       "      <td>0.120115</td>\n",
       "    </tr>\n",
       "    <tr>\n",
       "      <th>5</th>\n",
       "      <td>job_sat</td>\n",
       "      <td>Very satisfied</td>\n",
       "      <td>Very dissatisfied</td>\n",
       "      <td>False</td>\n",
       "      <td>True</td>\n",
       "      <td>0.747379</td>\n",
       "      <td>221.666205</td>\n",
       "      <td>two-sided</td>\n",
       "      <td>0.455627</td>\n",
       "      <td>1.000000</td>\n",
       "      <td>bonf</td>\n",
       "      <td>0.126</td>\n",
       "      <td>0.063479</td>\n",
       "    </tr>\n",
       "    <tr>\n",
       "      <th>6</th>\n",
       "      <td>job_sat</td>\n",
       "      <td>Very satisfied</td>\n",
       "      <td>Slightly dissatisfied</td>\n",
       "      <td>False</td>\n",
       "      <td>True</td>\n",
       "      <td>3.076222</td>\n",
       "      <td>821.303063</td>\n",
       "      <td>two-sided</td>\n",
       "      <td>0.002166</td>\n",
       "      <td>0.021659</td>\n",
       "      <td>bonf</td>\n",
       "      <td>7.43</td>\n",
       "      <td>0.173247</td>\n",
       "    </tr>\n",
       "    <tr>\n",
       "      <th>7</th>\n",
       "      <td>job_sat</td>\n",
       "      <td>Neither</td>\n",
       "      <td>Very dissatisfied</td>\n",
       "      <td>False</td>\n",
       "      <td>True</td>\n",
       "      <td>-0.545948</td>\n",
       "      <td>321.165726</td>\n",
       "      <td>two-sided</td>\n",
       "      <td>0.585481</td>\n",
       "      <td>1.000000</td>\n",
       "      <td>bonf</td>\n",
       "      <td>0.135</td>\n",
       "      <td>-0.058537</td>\n",
       "    </tr>\n",
       "    <tr>\n",
       "      <th>8</th>\n",
       "      <td>job_sat</td>\n",
       "      <td>Neither</td>\n",
       "      <td>Slightly dissatisfied</td>\n",
       "      <td>False</td>\n",
       "      <td>True</td>\n",
       "      <td>0.602209</td>\n",
       "      <td>367.730081</td>\n",
       "      <td>two-sided</td>\n",
       "      <td>0.547406</td>\n",
       "      <td>1.000000</td>\n",
       "      <td>bonf</td>\n",
       "      <td>0.118</td>\n",
       "      <td>0.055707</td>\n",
       "    </tr>\n",
       "    <tr>\n",
       "      <th>9</th>\n",
       "      <td>job_sat</td>\n",
       "      <td>Very dissatisfied</td>\n",
       "      <td>Slightly dissatisfied</td>\n",
       "      <td>False</td>\n",
       "      <td>True</td>\n",
       "      <td>1.129951</td>\n",
       "      <td>247.570187</td>\n",
       "      <td>two-sided</td>\n",
       "      <td>0.259590</td>\n",
       "      <td>1.000000</td>\n",
       "      <td>bonf</td>\n",
       "      <td>0.197</td>\n",
       "      <td>0.119131</td>\n",
       "    </tr>\n",
       "  </tbody>\n",
       "</table>\n",
       "</div>"
      ],
      "text/plain": [
       "  Contrast                   A                      B  Paired  Parametric  \\\n",
       "0  job_sat  Slightly satisfied         Very satisfied   False        True   \n",
       "1  job_sat  Slightly satisfied                Neither   False        True   \n",
       "2  job_sat  Slightly satisfied      Very dissatisfied   False        True   \n",
       "3  job_sat  Slightly satisfied  Slightly dissatisfied   False        True   \n",
       "4  job_sat      Very satisfied                Neither   False        True   \n",
       "5  job_sat      Very satisfied      Very dissatisfied   False        True   \n",
       "6  job_sat      Very satisfied  Slightly dissatisfied   False        True   \n",
       "7  job_sat             Neither      Very dissatisfied   False        True   \n",
       "8  job_sat             Neither  Slightly dissatisfied   False        True   \n",
       "9  job_sat   Very dissatisfied  Slightly dissatisfied   False        True   \n",
       "\n",
       "          T          dof alternative     p-unc    p-corr p-adjust     BF10  \\\n",
       "0 -4.009935  1478.622799   two-sided  0.000064  0.000638     bonf  158.564   \n",
       "1 -0.700752   258.204546   two-sided  0.484088  1.000000     bonf    0.114   \n",
       "2 -1.243665   187.153329   two-sided  0.215179  1.000000     bonf    0.208   \n",
       "3 -0.038264   569.926329   two-sided  0.969491  1.000000     bonf    0.074   \n",
       "4  1.662901   328.326639   two-sided  0.097286  0.972864     bonf    0.337   \n",
       "5  0.747379   221.666205   two-sided  0.455627  1.000000     bonf    0.126   \n",
       "6  3.076222   821.303063   two-sided  0.002166  0.021659     bonf     7.43   \n",
       "7 -0.545948   321.165726   two-sided  0.585481  1.000000     bonf    0.135   \n",
       "8  0.602209   367.730081   two-sided  0.547406  1.000000     bonf    0.118   \n",
       "9  1.129951   247.570187   two-sided  0.259590  1.000000     bonf    0.197   \n",
       "\n",
       "     hedges  \n",
       "0 -0.192931  \n",
       "1 -0.068513  \n",
       "2 -0.145624  \n",
       "3 -0.002719  \n",
       "4  0.120115  \n",
       "5  0.063479  \n",
       "6  0.173247  \n",
       "7 -0.058537  \n",
       "8  0.055707  \n",
       "9  0.119131  "
      ]
     },
     "execution_count": 43,
     "metadata": {},
     "output_type": "execute_result"
    }
   ],
   "source": [
    "pg.pairwise_tests(data=stack_overflow, dv=\"converted_comp\",between=\"job_sat\", padjust = \"bonf\")"
   ]
  },
  {
   "cell_type": "markdown",
   "id": "cd8ebd07",
   "metadata": {},
   "source": [
    "### More methods\n",
    "> padjust : string \\\n",
    "Methods used for testing and adjusting of p-values.\\\n",
    "In almost all pairwise t-testing situations choosing a correction method is more appropriate.\n",
    "\n",
    "\n",
    "- \"none\" : no correction[default]\n",
    "- \"bonf\" : one-step Bonferoni correction\n",
    "- \"sidak\" : one-step Sidak correction\n",
    "- \"holm\" : step-down method using Bonferoni adjustments\n",
    "- \"fdr_bh\" : Benjanmini/Hochberg FDR Correction\n",
    "- \"fdr_by\" : Benjanmini/Yekutieli FDR Correction\n",
    "\n",
    "\n",
    "\n"
   ]
  },
  {
   "cell_type": "markdown",
   "id": "a0df934a",
   "metadata": {},
   "source": [
    "# Chap-3\n",
    "## One-sample proportion tests"
   ]
  },
  {
   "cell_type": "markdown",
   "id": "afa21236",
   "metadata": {},
   "source": [
    "### Standaized test statistics for proportion\n",
    "- A bootstrap distribution can be computationally intensive to calculate, Now Calculate the test-statistics without using bootstrap distribution\n",
    "- An (unknown population parameter) that is a proportion, or (population proportion) for short, is __denoted p.(p)__\n",
    "- The sample proportion is __denoted p-hat (p^)__\n",
    "- hypothesized value for the population proportion is __denoted p-zero. (p0)__\n",
    "- The test statistic for proportion(s) has only one estimate of a parameter instead of two.\n",
    "\n",
    "### why we used a z-distribution instead of t?\n",
    "- s is calculated from x-bar\n",
    "- x-bar estimates population mean\n",
    "- s estimates population standard deviation\n",
    "\n",
    "\n",
    "Since t-distributions are effectively a normal distribution with fatter tails, we can use them to account for this extra uncertainty. In effect, the t-distribution provides extra caution against mistakenly rejecting the null hypothesis. __For proportions, we only use p-hat in the numerator, thus avoiding the problem with uncertainty, and a z-distribution is fine__"
   ]
  },
  {
   "cell_type": "markdown",
   "id": "74d2874a",
   "metadata": {},
   "source": [
    "### Stack Overflow age caregories\n",
    "H0: Propoprtion of Stack Overflow users age under thirty = 0.5\\\n",
    "HA: Propoprtion of Stack Overflow users age under thirty != 0.5\n"
   ]
  },
  {
   "cell_type": "code",
   "execution_count": 44,
   "id": "07b7d65f",
   "metadata": {},
   "outputs": [
    {
     "data": {
      "text/plain": [
       "Under 30       0.535604\n",
       "At least 30    0.464396\n",
       "Name: age_cat, dtype: float64"
      ]
     },
     "execution_count": 44,
     "metadata": {},
     "output_type": "execute_result"
    }
   ],
   "source": [
    "alpha = 0.1\n",
    "stack_overflow[\"age_cat\"].value_counts(normalize=True)"
   ]
  },
  {
   "cell_type": "code",
   "execution_count": 45,
   "id": "457bdb2b",
   "metadata": {},
   "outputs": [
    {
     "name": "stdout",
     "output_type": "stream",
     "text": [
      "0.5356037151702786\n",
      "2261\n"
     ]
    }
   ],
   "source": [
    "## Variable for Z-Score\n",
    "\n",
    "#  sample proportion\n",
    "p_hat = (stack_overflow[\"age_cat\"] == \"Under 30\").mean()\n",
    "print(p_hat)\n",
    "\n",
    "# hypothesized value\n",
    "p0 = 0.5 # according to null hypothesis\n",
    "\n",
    "n = len(stack_overflow)\n",
    "print(n)"
   ]
  },
  {
   "cell_type": "code",
   "execution_count": 46,
   "id": "0d434bfe",
   "metadata": {},
   "outputs": [
    {
     "data": {
      "text/plain": [
       "3.385911440783663"
      ]
     },
     "execution_count": 46,
     "metadata": {},
     "output_type": "execute_result"
    }
   ],
   "source": [
    "numerator = p_hat - p0\n",
    "denominator = np.sqrt(p0 * (1- p0) / n)\n",
    "z_score = numerator / denominator\n",
    "z_score"
   ]
  },
  {
   "cell_type": "code",
   "execution_count": 47,
   "id": "cd41a7cd",
   "metadata": {},
   "outputs": [
    {
     "name": "stdout",
     "output_type": "stream",
     "text": [
      "0.999645288631595\n",
      "0.00035471136840503625\n",
      "1.0\n",
      "0.0007094227368100725\n",
      "True\n"
     ]
    }
   ],
   "source": [
    "### Calculating P-Value\n",
    "from scipy.stats import norm\n",
    "\n",
    "# For left-tailed (\"less than\") alternative hypotheses, we transform the z-score into a p-value using norm-dot-cdf.\n",
    "left_pvalue = norm.cdf(z_score)\n",
    "print(left_pvalue)\n",
    "\n",
    "# For right-tailed (\"greater than\") alternative hypotheses, we subtract the norm-dot-cdf result from one.\n",
    "right_pvalue = 1- norm.cdf(z_score)\n",
    "print(right_pvalue)\n",
    "\n",
    "\n",
    "# For two-tailed (\"not equal\") alternative hypotheses, we check whether the test statistic lies in either tail,\n",
    "# so the p-value is the sum of these two values: one corresponding to the z-score and the other to its negative on \n",
    "# theother side of the distribution.\n",
    "ts_pvalue = norm.cdf(z_score) + 1- norm.cdf(z_score)\n",
    "print(ts_pvalue)\n",
    "\n",
    "\n",
    "# Since the normal distribution PDF is symmetric, this simplifies to twice the right-tailed p-value since the \n",
    "# z-score is positive.\n",
    "p_value = 2 * (1- norm.cdf(z_score))\n",
    "print(p_value)\n",
    "\n",
    "print(p_value <= alpha)"
   ]
  },
  {
   "cell_type": "markdown",
   "id": "4c4098be",
   "metadata": {},
   "source": [
    "#### Decision Making\n",
    "> Here, the p-value is less than the significance level of point-zero-one, so we reject the null hypothesis, \n",
    "concluding that the proportion of users under thirty is not  equal to point-five."
   ]
  },
  {
   "cell_type": "markdown",
   "id": "c046f2e0",
   "metadata": {},
   "source": [
    "## Two-sample proportion tests\n",
    "- test for differences between proportions in two populations."
   ]
  },
  {
   "cell_type": "markdown",
   "id": "000b51a0",
   "metadata": {},
   "source": [
    "#### Comparing two caregories\n",
    "- H0: Proportion for hobbyist user is the same for those under thirty as those at least thirty \\\n",
    "    - H0: p>=30 - p<30 = 0\n",
    "- HA: Proportion for hobbyist user is different for those under thirty to those at least thirty \n",
    "    - HA: p>=30 - p<30 != 0"
   ]
  },
  {
   "cell_type": "code",
   "execution_count": 48,
   "id": "01f0ecfc",
   "metadata": {},
   "outputs": [],
   "source": [
    "alpha = 0.05 "
   ]
  },
  {
   "cell_type": "code",
   "execution_count": 49,
   "id": "9a012835",
   "metadata": {
    "scrolled": true
   },
   "outputs": [
    {
     "name": "stdout",
     "output_type": "stream",
     "text": [
      "age_cat      hobbyist\n",
      "At least 30  Yes         0.773333\n",
      "             No          0.226667\n",
      "Under 30     Yes         0.843105\n",
      "             No          0.156895\n",
      "Name: hobbyist, dtype: float64\n",
      "age_cat\n",
      "At least 30    1050\n",
      "Under 30       1211\n",
      "Name: hobbyist, dtype: int64\n",
      "0.7733333333333333 0.8431048720066061\n",
      "1050 1211\n"
     ]
    }
   ],
   "source": [
    "## Getting the number for the z-score\n",
    "p_hats = stack_overflow.groupby(\"age_cat\")[\"hobbyist\"].value_counts(normalize=True)\n",
    "print(p_hats)\n",
    "n = stack_overflow.groupby(\"age_cat\")[\"hobbyist\"].count()\n",
    "print(n)\n",
    "\n",
    "\n",
    "p_hat_atleast_30 = p_hats[(\"At least 30\",\"Yes\")]\n",
    "p_hat_under_30 = p_hats[(\"Under 30\",\"Yes\")]\n",
    "print(p_hat_atleast_30,p_hat_under_30)# This returns a sample proportion of point-77 for the at least thirty group, \n",
    "# and point-84 for the under thirty's.\n",
    "\n",
    "\n",
    "\n",
    "n_atleast_30 = n[\"At least 30\"]\n",
    "n_under_30 = n[\"Under 30\"]\n",
    "print(n_atleast_30,n_under_30)# There are 1050 rows in the at least thirty group and 1211 for the under 30 group."
   ]
  },
  {
   "cell_type": "code",
   "execution_count": 50,
   "id": "f81e2158",
   "metadata": {},
   "outputs": [
    {
     "name": "stdout",
     "output_type": "stream",
     "text": [
      "-4.223691463320559\n"
     ]
    }
   ],
   "source": [
    "# Calculate the pooled estimate of the population proportion\n",
    "p_hat = (n_atleast_30 * p_hat_atleast_30 + n_under_30 * p_hat_under_30)/ (n_atleast_30 + n_under_30)\n",
    "\n",
    "std_error = np.sqrt(p_hat * (1-p_hat) / n_atleast_30 + p_hat * (1-p_hat) / n_under_30)\n",
    "z_score = (p_hat_atleast_30 - p_hat_under_30) / std_error\n",
    "print(z_score)"
   ]
  },
  {
   "cell_type": "code",
   "execution_count": 51,
   "id": "c2a65d5c",
   "metadata": {},
   "outputs": [
    {
     "data": {
      "text/plain": [
       "age_cat      hobbyist\n",
       "At least 30  Yes          812\n",
       "             No           238\n",
       "Under 30     Yes         1021\n",
       "             No           190\n",
       "Name: hobbyist, dtype: int64"
      ]
     },
     "execution_count": 51,
     "metadata": {},
     "output_type": "execute_result"
    }
   ],
   "source": [
    "stack_overflow.groupby(\"age_cat\")[\"hobbyist\"].value_counts()\n"
   ]
  },
  {
   "cell_type": "markdown",
   "id": "b2cec629",
   "metadata": {},
   "source": [
    "###  Proportion tests using proportions_ztest()"
   ]
  },
  {
   "cell_type": "code",
   "execution_count": 52,
   "id": "d8e6c5b5",
   "metadata": {},
   "outputs": [
    {
     "name": "stdout",
     "output_type": "stream",
     "text": [
      "z_score : -4.223691463320559 p_value : 2.403330142685068e-05\n"
     ]
    }
   ],
   "source": [
    "\n",
    "n_hibbyist = np.array([812,1021])\n",
    "n_rows = np.array([812+238,1021+190])\n",
    "\n",
    "from statsmodels.stats.proportion import proportions_ztest\n",
    "\n",
    "z_score, p_value = proportions_ztest(count = n_hibbyist, nobs = n_rows, alternative = \"two-sided\" )\n",
    "print(\"z_score :\",z_score,\"p_value :\",p_value)\n"
   ]
  },
  {
   "cell_type": "markdown",
   "id": "f210daae",
   "metadata": {},
   "source": [
    "### Decision Making\n",
    "- The p-value is smaller than the five percent significance level we specified, so we can conclude that there is a difference in the proportion of hobbyists between the two age groups."
   ]
  },
  {
   "cell_type": "markdown",
   "id": "d4556e45",
   "metadata": {},
   "source": [
    "# Practice Code"
   ]
  },
  {
   "cell_type": "code",
   "execution_count": 53,
   "id": "b4c12083",
   "metadata": {
    "scrolled": true
   },
   "outputs": [
    {
     "data": {
      "text/html": [
       "<div>\n",
       "<style scoped>\n",
       "    .dataframe tbody tr th:only-of-type {\n",
       "        vertical-align: middle;\n",
       "    }\n",
       "\n",
       "    .dataframe tbody tr th {\n",
       "        vertical-align: top;\n",
       "    }\n",
       "\n",
       "    .dataframe thead th {\n",
       "        text-align: right;\n",
       "    }\n",
       "</style>\n",
       "<table border=\"1\" class=\"dataframe\">\n",
       "  <thead>\n",
       "    <tr style=\"text-align: right;\">\n",
       "      <th></th>\n",
       "      <th>id</th>\n",
       "      <th>country</th>\n",
       "      <th>managed_by</th>\n",
       "      <th>fulfill_via</th>\n",
       "      <th>vendor_inco_term</th>\n",
       "      <th>shipment_mode</th>\n",
       "      <th>late_delivery</th>\n",
       "      <th>late</th>\n",
       "      <th>product_group</th>\n",
       "      <th>sub_classification</th>\n",
       "      <th>...</th>\n",
       "      <th>line_item_quantity</th>\n",
       "      <th>line_item_value</th>\n",
       "      <th>pack_price</th>\n",
       "      <th>unit_price</th>\n",
       "      <th>manufacturing_site</th>\n",
       "      <th>first_line_designation</th>\n",
       "      <th>weight_kilograms</th>\n",
       "      <th>freight_cost_usd</th>\n",
       "      <th>freight_cost_groups</th>\n",
       "      <th>line_item_insurance_usd</th>\n",
       "    </tr>\n",
       "  </thead>\n",
       "  <tbody>\n",
       "    <tr>\n",
       "      <th>0</th>\n",
       "      <td>36203.0</td>\n",
       "      <td>Nigeria</td>\n",
       "      <td>PMO - US</td>\n",
       "      <td>Direct Drop</td>\n",
       "      <td>EXW</td>\n",
       "      <td>Air</td>\n",
       "      <td>1.0</td>\n",
       "      <td>Yes</td>\n",
       "      <td>HRDT</td>\n",
       "      <td>HIV test</td>\n",
       "      <td>...</td>\n",
       "      <td>2996.0</td>\n",
       "      <td>266644.00</td>\n",
       "      <td>89.00</td>\n",
       "      <td>0.89</td>\n",
       "      <td>Alere Medical Co., Ltd.</td>\n",
       "      <td>Yes</td>\n",
       "      <td>1426.0</td>\n",
       "      <td>33279.83</td>\n",
       "      <td>expensive</td>\n",
       "      <td>373.83</td>\n",
       "    </tr>\n",
       "    <tr>\n",
       "      <th>1</th>\n",
       "      <td>30998.0</td>\n",
       "      <td>Botswana</td>\n",
       "      <td>PMO - US</td>\n",
       "      <td>Direct Drop</td>\n",
       "      <td>EXW</td>\n",
       "      <td>Air</td>\n",
       "      <td>0.0</td>\n",
       "      <td>No</td>\n",
       "      <td>HRDT</td>\n",
       "      <td>HIV test</td>\n",
       "      <td>...</td>\n",
       "      <td>25.0</td>\n",
       "      <td>800.00</td>\n",
       "      <td>32.00</td>\n",
       "      <td>1.60</td>\n",
       "      <td>Trinity Biotech, Plc</td>\n",
       "      <td>Yes</td>\n",
       "      <td>10.0</td>\n",
       "      <td>559.89</td>\n",
       "      <td>reasonable</td>\n",
       "      <td>1.72</td>\n",
       "    </tr>\n",
       "    <tr>\n",
       "      <th>2</th>\n",
       "      <td>69871.0</td>\n",
       "      <td>Vietnam</td>\n",
       "      <td>PMO - US</td>\n",
       "      <td>Direct Drop</td>\n",
       "      <td>EXW</td>\n",
       "      <td>Air</td>\n",
       "      <td>0.0</td>\n",
       "      <td>No</td>\n",
       "      <td>ARV</td>\n",
       "      <td>Adult</td>\n",
       "      <td>...</td>\n",
       "      <td>22925.0</td>\n",
       "      <td>110040.00</td>\n",
       "      <td>4.80</td>\n",
       "      <td>0.08</td>\n",
       "      <td>Hetero Unit III Hyderabad IN</td>\n",
       "      <td>Yes</td>\n",
       "      <td>3723.0</td>\n",
       "      <td>19056.13</td>\n",
       "      <td>expensive</td>\n",
       "      <td>181.57</td>\n",
       "    </tr>\n",
       "    <tr>\n",
       "      <th>3</th>\n",
       "      <td>17648.0</td>\n",
       "      <td>South Africa</td>\n",
       "      <td>PMO - US</td>\n",
       "      <td>Direct Drop</td>\n",
       "      <td>DDP</td>\n",
       "      <td>Ocean</td>\n",
       "      <td>0.0</td>\n",
       "      <td>No</td>\n",
       "      <td>ARV</td>\n",
       "      <td>Adult</td>\n",
       "      <td>...</td>\n",
       "      <td>152535.0</td>\n",
       "      <td>361507.95</td>\n",
       "      <td>2.37</td>\n",
       "      <td>0.04</td>\n",
       "      <td>Aurobindo Unit III, India</td>\n",
       "      <td>Yes</td>\n",
       "      <td>7698.0</td>\n",
       "      <td>11372.23</td>\n",
       "      <td>expensive</td>\n",
       "      <td>779.41</td>\n",
       "    </tr>\n",
       "    <tr>\n",
       "      <th>4</th>\n",
       "      <td>5647.0</td>\n",
       "      <td>Uganda</td>\n",
       "      <td>PMO - US</td>\n",
       "      <td>Direct Drop</td>\n",
       "      <td>EXW</td>\n",
       "      <td>Air</td>\n",
       "      <td>0.0</td>\n",
       "      <td>No</td>\n",
       "      <td>HRDT</td>\n",
       "      <td>HIV test - Ancillary</td>\n",
       "      <td>...</td>\n",
       "      <td>850.0</td>\n",
       "      <td>8.50</td>\n",
       "      <td>0.01</td>\n",
       "      <td>0.00</td>\n",
       "      <td>Inverness Japan</td>\n",
       "      <td>Yes</td>\n",
       "      <td>56.0</td>\n",
       "      <td>360.00</td>\n",
       "      <td>reasonable</td>\n",
       "      <td>0.01</td>\n",
       "    </tr>\n",
       "  </tbody>\n",
       "</table>\n",
       "<p>5 rows × 27 columns</p>\n",
       "</div>"
      ],
      "text/plain": [
       "        id       country managed_by  fulfill_via vendor_inco_term  \\\n",
       "0  36203.0       Nigeria   PMO - US  Direct Drop              EXW   \n",
       "1  30998.0      Botswana   PMO - US  Direct Drop              EXW   \n",
       "2  69871.0       Vietnam   PMO - US  Direct Drop              EXW   \n",
       "3  17648.0  South Africa   PMO - US  Direct Drop              DDP   \n",
       "4   5647.0        Uganda   PMO - US  Direct Drop              EXW   \n",
       "\n",
       "  shipment_mode  late_delivery late product_group    sub_classification  ...  \\\n",
       "0           Air            1.0  Yes          HRDT              HIV test  ...   \n",
       "1           Air            0.0   No          HRDT              HIV test  ...   \n",
       "2           Air            0.0   No           ARV                 Adult  ...   \n",
       "3         Ocean            0.0   No           ARV                 Adult  ...   \n",
       "4           Air            0.0   No          HRDT  HIV test - Ancillary  ...   \n",
       "\n",
       "  line_item_quantity line_item_value pack_price unit_price  \\\n",
       "0             2996.0       266644.00      89.00       0.89   \n",
       "1               25.0          800.00      32.00       1.60   \n",
       "2            22925.0       110040.00       4.80       0.08   \n",
       "3           152535.0       361507.95       2.37       0.04   \n",
       "4              850.0            8.50       0.01       0.00   \n",
       "\n",
       "             manufacturing_site first_line_designation  weight_kilograms  \\\n",
       "0       Alere Medical Co., Ltd.                    Yes            1426.0   \n",
       "1          Trinity Biotech, Plc                    Yes              10.0   \n",
       "2  Hetero Unit III Hyderabad IN                    Yes            3723.0   \n",
       "3     Aurobindo Unit III, India                    Yes            7698.0   \n",
       "4               Inverness Japan                    Yes              56.0   \n",
       "\n",
       "   freight_cost_usd  freight_cost_groups  line_item_insurance_usd  \n",
       "0          33279.83            expensive                   373.83  \n",
       "1            559.89           reasonable                     1.72  \n",
       "2          19056.13            expensive                   181.57  \n",
       "3          11372.23            expensive                   779.41  \n",
       "4            360.00           reasonable                     0.01  \n",
       "\n",
       "[5 rows x 27 columns]"
      ]
     },
     "execution_count": 53,
     "metadata": {},
     "output_type": "execute_result"
    }
   ],
   "source": [
    "\n",
    "late_shipments =pd.read_feather(r'C:\\Users\\navee\\OneDrive\\Desktop\\Data_Camp\\DataCamp_datasets\\Hypothesis_Testing\\late_shipments.feather')\n",
    "late_shipments.head()"
   ]
  },
  {
   "cell_type": "code",
   "execution_count": 54,
   "id": "13fbcd85",
   "metadata": {},
   "outputs": [
    {
     "name": "stdout",
     "output_type": "stream",
     "text": [
      "freight_cost_groups  late\n",
      "expensive            No      0.920904\n",
      "                     Yes     0.079096\n",
      "reasonable           No      0.964835\n",
      "                     Yes     0.035165\n",
      "Name: late, dtype: float64\n",
      "freight_cost_groups\n",
      "expensive     531\n",
      "reasonable    455\n",
      "Name: late, dtype: int64\n"
     ]
    }
   ],
   "source": [
    "p_hats = late_shipments.groupby(\"freight_cost_groups\")[\"late\"].value_counts(normalize=True)\n",
    "\n",
    "# p_hats= p_hats[(\"expensive\",\"Yes\")],p_hats[(\"reasonable\",\"Yes\")]\n",
    "print(p_hats)\n",
    "\n",
    "\n",
    "ns = late_shipments.groupby(\"freight_cost_groups\")[\"late\"].count()\n",
    "print(ns)\n",
    "\n",
    "# p_hat_atleast_30 = p_hats[(\"At least 30\",\"Yes\")]\n",
    "# p_hat_under_30 = p_hats[(\"Under 30\",\"Yes\")]"
   ]
  },
  {
   "cell_type": "code",
   "execution_count": 55,
   "id": "4b7c2e6c",
   "metadata": {},
   "outputs": [
    {
     "name": "stdout",
     "output_type": "stream",
     "text": [
      "p_hat : 0.058823529411764705\n",
      "standard_error :  0.015031300895066685\n",
      "z_score : 2.922648567784529 p_value :  0.0017353400023595311\n"
     ]
    }
   ],
   "source": [
    "# Calculate the pooled estimate of the population proportion\n",
    "p_hat = (p_hats[\"reasonable\"] * ns[\"reasonable\"] + p_hats[\"expensive\"] * ns[\"expensive\"]) / (ns[\"reasonable\"] + ns[\"expensive\"])\n",
    "\n",
    "# Print the result\n",
    "print(\"p_hat :\",p_hat[1]) #Yes\n",
    "\n",
    "# Calculate the pooled estimate of the population proportion\n",
    "p_hat = (p_hats[\"reasonable\"] * ns[\"reasonable\"] + p_hats[\"expensive\"] * ns[\"expensive\"]) / (ns[\"reasonable\"] + ns[\"expensive\"])\n",
    "\n",
    "# Calculate p_hat one minus p_hat\n",
    "p_hat_times_not_p_hat = p_hat * (1 - p_hat)\n",
    "\n",
    "# Divide this by each of the sample sizes and then sum\n",
    "p_hat_times_not_p_hat_over_ns = p_hat_times_not_p_hat / ns[\"expensive\"] + p_hat_times_not_p_hat / ns[\"reasonable\"]\n",
    "\n",
    "# Calculate the standard error\n",
    "std_error = np.sqrt(p_hat_times_not_p_hat_over_ns)\n",
    "print(\"standard_error : \",std_error[1])\n",
    "\n",
    "# Calculate the z-score\n",
    "z_score = (p_hats[\"expensive\"] - p_hats[\"reasonable\"]) / std_error\n",
    "\n",
    "\n",
    "# Calculate the p-value from the z-score\n",
    "p_value = 1 - norm.cdf(z_score)\n",
    "\n",
    "# Print z_score & p_value\n",
    "print(\"z_score :\",z_score[1],\"p_value : \",p_value[1]) #Ans not matched"
   ]
  },
  {
   "cell_type": "code",
   "execution_count": 56,
   "id": "3e188db7",
   "metadata": {},
   "outputs": [
    {
     "name": "stdout",
     "output_type": "stream",
     "text": [
      "3.1190401865206128 0.0009072060637051224\n"
     ]
    }
   ],
   "source": [
    "\n",
    "# Count the late column values for each freight_cost_group\n",
    "late_by_freight_cost_group = late_shipments.groupby(\"freight_cost_groups\")['late'].value_counts()\n",
    "\n",
    "# Create an array of the \"Yes\" counts for each freight_cost_group\n",
    "success_counts = np.array([45, 16])\n",
    "\n",
    "# Create an array of the total number of rows in each freight_cost_group\n",
    "n = np.array([500+45, 439+16])\n",
    "\n",
    "# Run a z-test on the two proportions\n",
    "stat, p_value = proportions_ztest(count = success_counts, nobs = n, alternative = \"larger\" )\n",
    "\n",
    "# Print the results\n",
    "print(stat, p_value) #Answer Matched"
   ]
  },
  {
   "cell_type": "markdown",
   "id": "8389636a",
   "metadata": {},
   "source": [
    "## Chi-square test of independence:\n",
    "> __chi-square tests of independence extend proportion tests to more than two groups.__\n",
    "\n",
    "> Like the t-distribution, the chi-square distribution has degrees of freedom and non-centrality parameters. When these numbers are large, the chi-square distribution can be approximated by a normal distribution.\\\n",
    "The chi-square test statistic is a square number, so it is always non-negative, so only the right tail tends to be of interest.\\\n",
    "The test to compare proportions of successes in a categorical variable across groups of another categorical variable is called a chi-square test of independence."
   ]
  },
  {
   "cell_type": "markdown",
   "id": "93b340b3",
   "metadata": {},
   "source": [
    "### Independence Variable\n",
    "> __Statistical Independence:__ Two categorical variables are consider statistically independent when the proportion of successes in the response variable is the same across all categories of the explanatory variable."
   ]
  },
  {
   "cell_type": "code",
   "execution_count": 57,
   "id": "75654464",
   "metadata": {},
   "outputs": [
    {
     "name": "stdout",
     "output_type": "stream",
     "text": [
      "                 test    lambda       chi2  dof      pval    cramer     power\n",
      "0             pearson  1.000000  17.839570  1.0  0.000024  0.088826  0.988205\n",
      "1        cressie-read  0.666667  17.818114  1.0  0.000024  0.088773  0.988126\n",
      "2      log-likelihood  0.000000  17.802653  1.0  0.000025  0.088734  0.988069\n",
      "3       freeman-tukey -0.500000  17.815060  1.0  0.000024  0.088765  0.988115\n",
      "4  mod-log-likelihood -1.000000  17.848099  1.0  0.000024  0.088848  0.988236\n",
      "5              neyman -2.000000  17.976656  1.0  0.000022  0.089167  0.988694\n"
     ]
    },
    {
     "data": {
      "text/plain": [
       "'The p-value is the same as we had with the z-test of around two in one hundred thousand. \\nThe chi2 value is the squared result of our z-score (z_score **2) seen in the previous video.'"
      ]
     },
     "execution_count": 57,
     "metadata": {},
     "output_type": "execute_result"
    }
   ],
   "source": [
    "'''method returns three different pandas DataFrames: the expected counts, the observed counts, and statistics \n",
    "related to the test. '''\n",
    "\n",
    "expected , observe , stats = pg.chi2_independence(data = stack_overflow, x= \"hobbyist\", y=\"age_cat\",correction=False)\n",
    "print(stats)\n",
    "\n",
    "# The correction argument specifies whether or not to apply Yates' continuity correction, which is a fudge factor \n",
    "# for when the sample size is very small and the degrees of freedom is one. Since each group has over one hundred\n",
    "# observations, we don't need it here.\n",
    "\n",
    "'''The p-value is the same as we had with the z-test of around two in one hundred thousand. \n",
    "The chi2 value is the squared result of our z-score (z_score **2) seen in the previous video.'''"
   ]
  },
  {
   "cell_type": "code",
   "execution_count": 58,
   "id": "eca72823",
   "metadata": {},
   "outputs": [
    {
     "data": {
      "text/plain": [
       "Very satisfied           879\n",
       "Slightly satisfied       680\n",
       "Slightly dissatisfied    342\n",
       "Neither                  201\n",
       "Very dissatisfied        159\n",
       "Name: job_sat, dtype: int64"
      ]
     },
     "execution_count": 58,
     "metadata": {},
     "output_type": "execute_result"
    }
   ],
   "source": [
    "stack_overflow[\"age_cat\"].value_counts()\n",
    "stack_overflow[\"job_sat\"].value_counts()"
   ]
  },
  {
   "cell_type": "code",
   "execution_count": 59,
   "id": "1313521b",
   "metadata": {},
   "outputs": [
    {
     "data": {
      "text/plain": [
       "Under 30       1211\n",
       "At least 30    1050\n",
       "Name: age_cat, dtype: int64"
      ]
     },
     "execution_count": 59,
     "metadata": {},
     "output_type": "execute_result"
    }
   ],
   "source": [
    "stack_overflow[\"age_cat\"].value_counts()"
   ]
  },
  {
   "cell_type": "markdown",
   "id": "d60094fb",
   "metadata": {},
   "source": [
    "### Declaring the Hypotheses\n",
    "> __Here, age category is the response variable, and job satisfaction is the explanatory variable\\\n",
    "H0 : Age Categories are independent of job satisfaction levels (null hypothesis is that independence occurs)\\\n",
    "HA : Age Categories are not independent (associated) of job satisfaction levels\\\n",
    "alpha : 0.1\\\n",
    "test statistics denoted x2\\\n",
    "Assuming Independence(if independence was true),how far away are the observed results from the expected value__\n",
    "\n",
    "- if p > significance value = Independent (Fails to Reject the null hypothesis)\n",
    "- if p<= significance = associated (Reject the null hypothesis)"
   ]
  },
  {
   "cell_type": "code",
   "execution_count": 60,
   "id": "73345920",
   "metadata": {},
   "outputs": [
    {
     "data": {
      "text/plain": [
       "\"If the age category was independent of job satisfaction, the split between the age categories would be at the same\\nheight in each of the five bars. There's some variation here, but we'll need a chi-square independence test to \\ndetermine whether it's a significant difference.\""
      ]
     },
     "execution_count": 60,
     "metadata": {},
     "output_type": "execute_result"
    },
    {
     "data": {
      "image/png": "[encoded data removed]",
      "text/plain": [
       "<Figure size 432x288 with 1 Axes>"
      ]
     },
     "metadata": {
      "needs_background": "light"
     },
     "output_type": "display_data"
    }
   ],
   "source": [
    "# Exploratory Visualization : Proportional Stack bar plot\n",
    "\n",
    "# Proportion of age_cat grouped by job_sat\n",
    "props = stack_overflow.groupby(\"job_sat\")[\"age_cat\"].value_counts(normalize = True)\n",
    "\n",
    "# Convert props to wide format\n",
    "wide_props = props.unstack()\n",
    "\n",
    "# Proportional stacked bar plot of job_sat vs. age_cat\n",
    "wide_props.plot(kind=\"bar\",stacked=True)\n",
    "\n",
    "'''If the age category was independent of job satisfaction, the split between the age categories would be at the same\n",
    "height in each of the five bars. There's some variation here, but we'll need a chi-square independence test to \n",
    "determine whether it's a significant difference.'''"
   ]
  },
  {
   "cell_type": "code",
   "execution_count": 61,
   "id": "fef96b83",
   "metadata": {
    "scrolled": true
   },
   "outputs": [
    {
     "name": "stdout",
     "output_type": "stream",
     "text": [
      "                 test    lambda      chi2  dof      pval    cramer     power\n",
      "0             pearson  1.000000  5.552373  4.0  0.235164  0.049555  0.437417\n",
      "1        cressie-read  0.666667  5.554106  4.0  0.235014  0.049563  0.437545\n",
      "2      log-likelihood  0.000000  5.558529  4.0  0.234632  0.049583  0.437871\n",
      "3       freeman-tukey -0.500000  5.562688  4.0  0.234274  0.049601  0.438178\n",
      "4  mod-log-likelihood -1.000000  5.567570  4.0  0.233854  0.049623  0.438538\n",
      "5              neyman -2.000000  5.579519  4.0  0.232828  0.049676  0.439419\n"
     ]
    },
    {
     "data": {
      "text/plain": [
       "'Degree of Freedom : (No of response categories -1) * (No of explanatory categories -1) --- (2-1) * (5-1) = 4         \\n    The p-value is point-two-three, which is above the significance level (0.10) we set,so we conclude that age categories are independent of job satisfaction.Fail to reject the null hypothesis and conclude that job_sat and age_cat are independent.'"
      ]
     },
     "execution_count": 61,
     "metadata": {},
     "output_type": "execute_result"
    }
   ],
   "source": [
    "expected , observe , stats = pg.chi2_independence(data = stack_overflow, x= \"job_sat\", y=\"age_cat\",correction=False)\n",
    "print(stats)\n",
    "\n",
    "'''Degree of Freedom : (No of response categories -1) * (No of explanatory categories -1) --- (2-1) * (5-1) = 4         \n",
    "    The p-value is point-two-three, which is above the significance level (0.10) we set,so we conclude that age categories are independent of job satisfaction.Fail to reject the null hypothesis and conclude that job_sat and age_cat are independent.'''\n"
   ]
  },
  {
   "cell_type": "code",
   "execution_count": 62,
   "id": "ce94b17a",
   "metadata": {},
   "outputs": [
    {
     "name": "stdout",
     "output_type": "stream",
     "text": [
      "      test  lambda      chi2  dof      pval    cramer     power\n",
      "0  pearson     1.0  5.552373  4.0  0.235164  0.049555  0.437417\n"
     ]
    },
    {
     "data": {
      "text/plain": [
       "'If we run the chi-square test with the variables swapped, then the results are identical. Because of this, \\nwe phrase our questions as \"are variables X and Y independent?\",    \\nrather than \"is variable X independent from variable Y?\", since the order doesn\\'t matter.'"
      ]
     },
     "execution_count": 62,
     "metadata": {},
     "output_type": "execute_result"
    },
    {
     "data": {
      "image/png": "[encoded data removed]",
      "text/plain": [
       "<Figure size 432x288 with 1 Axes>"
      ]
     },
     "metadata": {
      "needs_background": "light"
     },
     "output_type": "display_data"
    }
   ],
   "source": [
    "# Swapping the Variable?\n",
    "props = stack_overflow.groupby(\"age_cat\")[\"job_sat\"].value_counts(normalize = True)\n",
    "wide_props = props.unstack()\n",
    "wide_props.plot(kind=\"bar\",stacked=True)\n",
    "\n",
    "# chi-square both ways\n",
    "\n",
    "expected , observe , stats = pg.chi2_independence(data = stack_overflow, x=\"age_cat\",y= \"job_sat\",correction=False)\n",
    "print(stats[stats[\"test\"]==\"pearson\"])\n",
    "'''If we run the chi-square test with the variables swapped, then the results are identical. Because of this, \n",
    "we phrase our questions as \"are variables X and Y independent?\",    \n",
    "rather than \"is variable X independent from variable Y?\", since the order doesn't matter.'''"
   ]
  },
  {
   "cell_type": "code",
   "execution_count": 63,
   "id": "9fbd6877",
   "metadata": {},
   "outputs": [
    {
     "data": {
      "text/plain": [
       "\"We didn't worry about tails in this test, and in fact, the chi2_independence method doesn't have an alternative \\n argument. This is because the chi-square test statistic is based on the square of observed and expected counts,  \\n and square numbers are non-negative. That means that chi-square tests tend to be right-tailed tests.\\n Left-tailed chi-square tests are used in statistical forensics to detect if a fit is suspiciously good because \\n the data was fabricated. Chi-square tests of variance can be two-tailed. These are niche uses, though.\""
      ]
     },
     "execution_count": 63,
     "metadata": {},
     "output_type": "execute_result"
    }
   ],
   "source": [
    "# What about direction and tails?\n",
    "\n",
    "'''We didn't worry about tails in this test, and in fact, the chi2_independence method doesn't have an alternative \n",
    " argument. This is because the chi-square test statistic is based on the square of observed and expected counts,  \n",
    " and square numbers are non-negative. That means that chi-square tests tend to be right-tailed tests.\n",
    " Left-tailed chi-square tests are used in statistical forensics to detect if a fit is suspiciously good because \n",
    " the data was fabricated. Chi-square tests of variance can be two-tailed. These are niche uses, though.'''"
   ]
  },
  {
   "cell_type": "markdown",
   "id": "012dc39a",
   "metadata": {},
   "source": [
    "## Chi-square goodness of fit tests\n",
    "> we'll use another variant of the chi-square test to compare a single categorical variable to a hypothesized distribution.\\\n",
    "The one-sample chi-square test is called a goodness of fit test, as we're testing how well our hypothesized data fits the observed data.\\\n",
    "The test to compare the proportions of a categorical variable to a hypothesized distribution is called a chi-square goodness of fit test."
   ]
  },
  {
   "cell_type": "markdown",
   "id": "b45d4777",
   "metadata": {},
   "source": [
    "> __The Stack Overflow survey contains a fun question__\\\n",
    "Question : __How users feel when they discover that they already visited the top resource?__"
   ]
  },
  {
   "cell_type": "code",
   "execution_count": 64,
   "id": "37673628",
   "metadata": {},
   "outputs": [
    {
     "data": {
      "text/plain": [
       "Hello, old friend    1225\n",
       "Indifferent           405\n",
       "Amused                368\n",
       "Annoyed               263\n",
       "Name: purple_link, dtype: int64"
      ]
     },
     "execution_count": 64,
     "metadata": {},
     "output_type": "execute_result"
    }
   ],
   "source": [
    "purple_link_counts = stack_overflow[\"purple_link\"].value_counts()\n",
    "purple_link_counts"
   ]
  },
  {
   "cell_type": "code",
   "execution_count": 65,
   "id": "5a84c876",
   "metadata": {},
   "outputs": [
    {
     "data": {
      "text/html": [
       "<div>\n",
       "<style scoped>\n",
       "    .dataframe tbody tr th:only-of-type {\n",
       "        vertical-align: middle;\n",
       "    }\n",
       "\n",
       "    .dataframe tbody tr th {\n",
       "        vertical-align: top;\n",
       "    }\n",
       "\n",
       "    .dataframe thead th {\n",
       "        text-align: right;\n",
       "    }\n",
       "</style>\n",
       "<table border=\"1\" class=\"dataframe\">\n",
       "  <thead>\n",
       "    <tr style=\"text-align: right;\">\n",
       "      <th></th>\n",
       "      <th>purple_link</th>\n",
       "      <th>n</th>\n",
       "    </tr>\n",
       "  </thead>\n",
       "  <tbody>\n",
       "    <tr>\n",
       "      <th>2</th>\n",
       "      <td>Amused</td>\n",
       "      <td>368</td>\n",
       "    </tr>\n",
       "    <tr>\n",
       "      <th>3</th>\n",
       "      <td>Annoyed</td>\n",
       "      <td>263</td>\n",
       "    </tr>\n",
       "    <tr>\n",
       "      <th>0</th>\n",
       "      <td>Hello, old friend</td>\n",
       "      <td>1225</td>\n",
       "    </tr>\n",
       "    <tr>\n",
       "      <th>1</th>\n",
       "      <td>Indifferent</td>\n",
       "      <td>405</td>\n",
       "    </tr>\n",
       "  </tbody>\n",
       "</table>\n",
       "</div>"
      ],
      "text/plain": [
       "         purple_link     n\n",
       "2             Amused   368\n",
       "3            Annoyed   263\n",
       "0  Hello, old friend  1225\n",
       "1        Indifferent   405"
      ]
     },
     "execution_count": 65,
     "metadata": {},
     "output_type": "execute_result"
    }
   ],
   "source": [
    "purple_link_counts = purple_link_counts.rename_axis(\"purple_link\").reset_index(name=\"n\").sort_values(\"purple_link\")\n",
    "purple_link_counts"
   ]
  },
  {
   "cell_type": "code",
   "execution_count": 66,
   "id": "c4adb4e4",
   "metadata": {
    "scrolled": true
   },
   "outputs": [
    {
     "data": {
      "text/html": [
       "<div>\n",
       "<style scoped>\n",
       "    .dataframe tbody tr th:only-of-type {\n",
       "        vertical-align: middle;\n",
       "    }\n",
       "\n",
       "    .dataframe tbody tr th {\n",
       "        vertical-align: top;\n",
       "    }\n",
       "\n",
       "    .dataframe thead th {\n",
       "        text-align: right;\n",
       "    }\n",
       "</style>\n",
       "<table border=\"1\" class=\"dataframe\">\n",
       "  <thead>\n",
       "    <tr style=\"text-align: right;\">\n",
       "      <th></th>\n",
       "      <th>purple_link</th>\n",
       "      <th>prop</th>\n",
       "    </tr>\n",
       "  </thead>\n",
       "  <tbody>\n",
       "    <tr>\n",
       "      <th>0</th>\n",
       "      <td>Amused</td>\n",
       "      <td>0.166667</td>\n",
       "    </tr>\n",
       "    <tr>\n",
       "      <th>1</th>\n",
       "      <td>Annoyed</td>\n",
       "      <td>0.166667</td>\n",
       "    </tr>\n",
       "    <tr>\n",
       "      <th>2</th>\n",
       "      <td>Hello, old friend</td>\n",
       "      <td>0.500000</td>\n",
       "    </tr>\n",
       "    <tr>\n",
       "      <th>3</th>\n",
       "      <td>Indifferent</td>\n",
       "      <td>0.166667</td>\n",
       "    </tr>\n",
       "  </tbody>\n",
       "</table>\n",
       "</div>"
      ],
      "text/plain": [
       "         purple_link      prop\n",
       "0             Amused  0.166667\n",
       "1            Annoyed  0.166667\n",
       "2  Hello, old friend  0.500000\n",
       "3        Indifferent  0.166667"
      ]
     },
     "execution_count": 66,
     "metadata": {},
     "output_type": "execute_result"
    }
   ],
   "source": [
    "# Let's hypothesize that half of the users in the population would respond \"Hello, old friend\", and the other \n",
    "# three responses would get one sixth each. \n",
    "\n",
    "import pandas as pd\n",
    "## Declaring the Hypotheses\n",
    "hypothesized = pd.DataFrame({\"purple_link\" : [\"Amused\", \"Annoyed\",\"Hello, old friend\", \"Indifferent\"],\n",
    "              \"prop\" : [1/6, 1/6, 1/2, 1/6]\n",
    "              })\n",
    "hypothesized\n",
    "\n"
   ]
  },
  {
   "cell_type": "markdown",
   "id": "e0cd41c3",
   "metadata": {},
   "source": [
    "### Declearing the Hypothesis \n",
    "__H0 : The sample matches the hypothesized distribution\\\n",
    "HA : The sample does not match the hypothesized distribution\\\n",
    "x2 : test statistic, chi-squared, measures how far the observed results ar from the expectations in each group__\n",
    "> __alpha : 0.01__"
   ]
  },
  {
   "cell_type": "code",
   "execution_count": 67,
   "id": "91ebe445",
   "metadata": {},
   "outputs": [
    {
     "data": {
      "text/html": [
       "<div>\n",
       "<style scoped>\n",
       "    .dataframe tbody tr th:only-of-type {\n",
       "        vertical-align: middle;\n",
       "    }\n",
       "\n",
       "    .dataframe tbody tr th {\n",
       "        vertical-align: top;\n",
       "    }\n",
       "\n",
       "    .dataframe thead th {\n",
       "        text-align: right;\n",
       "    }\n",
       "</style>\n",
       "<table border=\"1\" class=\"dataframe\">\n",
       "  <thead>\n",
       "    <tr style=\"text-align: right;\">\n",
       "      <th></th>\n",
       "      <th>purple_link</th>\n",
       "      <th>prop</th>\n",
       "      <th>n</th>\n",
       "    </tr>\n",
       "  </thead>\n",
       "  <tbody>\n",
       "    <tr>\n",
       "      <th>0</th>\n",
       "      <td>Amused</td>\n",
       "      <td>0.166667</td>\n",
       "      <td>376.833333</td>\n",
       "    </tr>\n",
       "    <tr>\n",
       "      <th>1</th>\n",
       "      <td>Annoyed</td>\n",
       "      <td>0.166667</td>\n",
       "      <td>376.833333</td>\n",
       "    </tr>\n",
       "    <tr>\n",
       "      <th>2</th>\n",
       "      <td>Hello, old friend</td>\n",
       "      <td>0.500000</td>\n",
       "      <td>1130.500000</td>\n",
       "    </tr>\n",
       "    <tr>\n",
       "      <th>3</th>\n",
       "      <td>Indifferent</td>\n",
       "      <td>0.166667</td>\n",
       "      <td>376.833333</td>\n",
       "    </tr>\n",
       "  </tbody>\n",
       "</table>\n",
       "</div>"
      ],
      "text/plain": [
       "         purple_link      prop            n\n",
       "0             Amused  0.166667   376.833333\n",
       "1            Annoyed  0.166667   376.833333\n",
       "2  Hello, old friend  0.500000  1130.500000\n",
       "3        Indifferent  0.166667   376.833333"
      ]
     },
     "execution_count": 67,
     "metadata": {},
     "output_type": "execute_result"
    }
   ],
   "source": [
    "# Hypothesized counts by category\n",
    "n_total = len(stack_overflow)\n",
    "hypothesized[\"n\"] = hypothesized[\"prop\"] * n_total\n",
    "hypothesized"
   ]
  },
  {
   "cell_type": "code",
   "execution_count": 68,
   "id": "826d5bdb",
   "metadata": {},
   "outputs": [
    {
     "data": {
      "image/png": "[encoded data removed]",
      "text/plain": [
       "<Figure size 432x288 with 1 Axes>"
      ]
     },
     "metadata": {
      "needs_background": "light"
     },
     "output_type": "display_data"
    }
   ],
   "source": [
    "#Visualizing Counts\n",
    "plt.bar(purple_link_counts[\"purple_link\"],purple_link_counts[\"n\"],color=\"red\",label=\"Observed\")\n",
    "plt.bar(hypothesized[\"purple_link\"],hypothesized[\"n\"],alpha=0.5,color=\"blue\",label=\"Hypothesized\")\n",
    "\n",
    "plt.legend()\n",
    "plt.show()"
   ]
  },
  {
   "cell_type": "code",
   "execution_count": 69,
   "id": "055923eb",
   "metadata": {},
   "outputs": [
    {
     "data": {
      "text/plain": [
       "'The p-value returned by the function is very small, much lower than the significance level of point-zero-one,     \\n so we conclude that the sample distribution of proportions is different from the hypothesized distribution.'"
      ]
     },
     "execution_count": 69,
     "metadata": {},
     "output_type": "execute_result"
    }
   ],
   "source": [
    "from scipy.stats import chisquare\n",
    "chisquare(f_obs=purple_link_counts[\"n\"],f_exp=hypothesized[\"n\"])\n",
    "\n",
    "'''The p-value returned by the function is very small, much lower than the significance level of point-zero-one,     \n",
    " so we conclude that the sample distribution of proportions is different from the hypothesized distribution.'''"
   ]
  },
  {
   "cell_type": "markdown",
   "id": "51d4f48a",
   "metadata": {},
   "source": [
    "# Chap-4"
   ]
  },
  {
   "cell_type": "markdown",
   "id": "07566780",
   "metadata": {},
   "source": [
    "## Assumptions in hypothesis testing\n",
    "> Each hypothesis test we've seen so far makes assumptions about the data. It's only when these assumptions are met that it is appropriate to use that hypothesis test.\n",
    "\n",
    "## Randomness\n",
    "\n",
    "#### Assumption\n",
    "> The samples are random subsets of large population\n",
    "#### Consequences\n",
    "- Sample is not representative of population\n",
    "\n",
    "#### How to check this \n",
    "- Understand how your data was collected, \n",
    "- Speak to the data collector/ domain expert\n",
    "----------------------------------------------------------------------------------------------------------------\n",
    "\n",
    "## Independence of observation\n",
    "\n",
    "#### Assumption\n",
    "> Test assume that each observation (row) in the dataset is independent\\\n",
    "There are some special cases like paired t-tests where dependencies between two samples are allowed, but these change the calculations, so we need to understand where such dependencies occur\n",
    "#### Consequences\n",
    "- paired t-test, not accounting for dependencies results in an increased chance of false negative and false positive errors\n",
    "\n",
    "#### How to check this \n",
    "- Not accounting for dependencies is a difficult problem to diagnose during analysis. Ideally, it needs to be discussed before data collection.\n",
    "\n",
    "----------------------------------------------------------------------------------------------------------------\n",
    "\n",
    "## Large Sample size\n",
    "\n",
    "#### Assumption\n",
    "> __Tests also assume that our sample is large enough to mitigate uncertainity so that the Central Limit Theorem applies, and the sample distribution can be assumed to be normally distributed.__\\\n",
    "Smaller sample incur uncertainity so that the Central Limit Theorem doesnot apply, and the sample distribution might not be normally distributed.\n",
    "#### Consequences\n",
    "- The increased uncertainty of a small sample means we get __wider confidence intervals__ on the parameter we are trying to estimate.\n",
    "- If the Central Limit Theorem does not apply, the calculations on the sample, and any conclusions drawn from them, could be nonsense, which __increases the chance of false negative and false positive errors._\n",
    "\n",
    "#### How to check this \n",
    "- How big our sample needs to be to be \"big enough\" __depends on the test__.\n",
    "\n",
    "----------------------------------------------------------------------------------------------------------------\n",
    "\n",
    "## Large Sample size: t-test\n",
    "\n",
    "#### One sample\n",
    "- At least 30 observations in the sample\n",
    "    - __n1 >= 30__\n",
    "    - n: sample size\n",
    "\n",
    "#### Two samples\n",
    "- At least 30 observations in the sample\n",
    "    - __n >= 30 ,  n2 >= 30__\n",
    "    - ni: sample size for each group i\n",
    "\n",
    "#### Paired samples\n",
    "- At least 30 pairs of observations across the sample\n",
    "    - __number of rows in our data >= 30__\n",
    "\n",
    "#### Annova\n",
    "- At least 30 observations in the sample\n",
    "    - __ni >= 30 for all values of i__ \n",
    "    \n",
    "- That means we can't compensate for one minority group sample by making the majority group bigger\n",
    "> Sometimes we can get away with less than 30 in each of these tests; the important thing is that the null distribution appears normal. This is often the case at around 30 and that's the reason for this somewhat arbitrary threshold.\n",
    "\n",
    "----------------------------------------------------------------------------------------------------------------\n",
    "\n",
    "## Large sample size: proportion tests\n",
    "\n",
    "#### One sample\n",
    "- For one sample proportion tests, the sample is considered big enough if it contains at least or greater than ten successes and ten failures.\n",
    "    - Success : n * p_hat >= 10\n",
    "    ----------------------------\n",
    "    - Failure : 1- p_hat >= 10\n",
    "- Notice that if the probability of success is close to zero or close to one, then we need a bigger sample\n",
    "\n",
    "#### Two samples\n",
    "- In the two sample case, we require greater than or equal to  ten successes and ten failures from each sample.\n",
    "    - __Success : n1 * p_hat_1 >= 10 , n2 * p_hat_2 >= 10__\n",
    "    ----------------------------------------------------------------\n",
    "    - __Failure : n1 * (1- p_hat_1) >= 10   , n2 * (1- p_hat_2) >= 10__\n",
    "     \n",
    "----------------------------------------------------------------------------------------------------------------\n",
    "\n",
    "## Large sample size: chi-square tests\n",
    "\n",
    "- The chi-square test is slightly more forgiving and only requires greater than or equal to five successes and five failures in each group, rather than ten.\n",
    "    - __Success : n(i) * p_hat(i) >= 5 for all values of (i)__\n",
    "    ----------------------------\n",
    "    - __Failure : n(i) * (1- p_hat(i)) >= 5 for all values of (i)__\n",
    "- n(i) : sample size of group\n",
    "- p_hat(i) : proportion of success in sample group i\n",
    "-------------------------------------------------------------------------------------------------------------------\n",
    "\n",
    "## Sanity check\n",
    "> One more check we can perform is to calculate a bootstrap distribution and visualize it with a histogram. __If we don't see a bell-shaped normal curve, then one of the assumptions hasn't been met/valid__. In that case, we should __revisit the data collection process,__ and see if any of the three assumptions of __randomness, independence, and sample size__ do not hold."
   ]
  },
  {
   "cell_type": "code",
   "execution_count": 70,
   "id": "5878abd9",
   "metadata": {},
   "outputs": [
    {
     "name": "stdout",
     "output_type": "stream",
     "text": [
      "Under 30       1211\n",
      "At least 30    1050\n",
      "Name: age_cat, dtype: int64\n",
      "True\n"
     ]
    }
   ],
   "source": [
    "# Practice Code\n",
    "# Count the shipment_mode values\n",
    "counts = stack_overflow[\"age_cat\"].value_counts()\n",
    "\n",
    "# Print the result\n",
    "print(counts)\n",
    "\n",
    "# Inspect whether the counts are big enough\n",
    "print((counts >= 30).all())"
   ]
  },
  {
   "cell_type": "markdown",
   "id": "344cf7ef",
   "metadata": {},
   "source": [
    "## Parametric tests\n",
    "> The tests that we've seen so far are known as parametric tests. Tests like the __z-test, t-test, and ANOVA__ are all based on the assumption that the population is __normally distributed__. Parametric tests also require sample sizes that are \"big enough\" that the __Central Limit Theorem applies__"
   ]
  },
  {
   "cell_type": "code",
   "execution_count": 71,
   "id": "ffd3c97a",
   "metadata": {},
   "outputs": [
    {
     "data": {
      "text/html": [
       "<div>\n",
       "<style scoped>\n",
       "    .dataframe tbody tr th:only-of-type {\n",
       "        vertical-align: middle;\n",
       "    }\n",
       "\n",
       "    .dataframe tbody tr th {\n",
       "        vertical-align: top;\n",
       "    }\n",
       "\n",
       "    .dataframe thead th {\n",
       "        text-align: right;\n",
       "    }\n",
       "</style>\n",
       "<table border=\"1\" class=\"dataframe\">\n",
       "  <thead>\n",
       "    <tr style=\"text-align: right;\">\n",
       "      <th></th>\n",
       "      <th>state</th>\n",
       "      <th>county</th>\n",
       "      <th>repub_percent_08</th>\n",
       "      <th>repub_percent_12</th>\n",
       "    </tr>\n",
       "  </thead>\n",
       "  <tbody>\n",
       "    <tr>\n",
       "      <th>85</th>\n",
       "      <td>Utah</td>\n",
       "      <td>Sevier</td>\n",
       "      <td>79.855127</td>\n",
       "      <td>89.317140</td>\n",
       "    </tr>\n",
       "    <tr>\n",
       "      <th>86</th>\n",
       "      <td>Utah</td>\n",
       "      <td>Tooele</td>\n",
       "      <td>63.436581</td>\n",
       "      <td>74.077151</td>\n",
       "    </tr>\n",
       "    <tr>\n",
       "      <th>87</th>\n",
       "      <td>Virginia</td>\n",
       "      <td>Highland</td>\n",
       "      <td>59.845560</td>\n",
       "      <td>65.392781</td>\n",
       "    </tr>\n",
       "    <tr>\n",
       "      <th>88</th>\n",
       "      <td>Virginia</td>\n",
       "      <td>New Kent</td>\n",
       "      <td>63.907517</td>\n",
       "      <td>66.155391</td>\n",
       "    </tr>\n",
       "    <tr>\n",
       "      <th>89</th>\n",
       "      <td>Virginia</td>\n",
       "      <td>Harrisonburg</td>\n",
       "      <td>41.212947</td>\n",
       "      <td>42.102225</td>\n",
       "    </tr>\n",
       "    <tr>\n",
       "      <th>90</th>\n",
       "      <td>Washington</td>\n",
       "      <td>San Juan</td>\n",
       "      <td>28.088501</td>\n",
       "      <td>29.365679</td>\n",
       "    </tr>\n",
       "    <tr>\n",
       "      <th>91</th>\n",
       "      <td>West Virginia</td>\n",
       "      <td>Braxton</td>\n",
       "      <td>48.604178</td>\n",
       "      <td>56.723564</td>\n",
       "    </tr>\n",
       "    <tr>\n",
       "      <th>92</th>\n",
       "      <td>West Virginia</td>\n",
       "      <td>Clay</td>\n",
       "      <td>53.751914</td>\n",
       "      <td>65.438247</td>\n",
       "    </tr>\n",
       "    <tr>\n",
       "      <th>93</th>\n",
       "      <td>West Virginia</td>\n",
       "      <td>Morgan</td>\n",
       "      <td>60.857614</td>\n",
       "      <td>64.068711</td>\n",
       "    </tr>\n",
       "    <tr>\n",
       "      <th>94</th>\n",
       "      <td>West Virginia</td>\n",
       "      <td>Webster</td>\n",
       "      <td>45.338567</td>\n",
       "      <td>62.068966</td>\n",
       "    </tr>\n",
       "    <tr>\n",
       "      <th>95</th>\n",
       "      <td>Wisconsin</td>\n",
       "      <td>Burnett</td>\n",
       "      <td>48.342541</td>\n",
       "      <td>52.437478</td>\n",
       "    </tr>\n",
       "    <tr>\n",
       "      <th>96</th>\n",
       "      <td>Wisconsin</td>\n",
       "      <td>La Crosse</td>\n",
       "      <td>37.490904</td>\n",
       "      <td>40.577038</td>\n",
       "    </tr>\n",
       "    <tr>\n",
       "      <th>97</th>\n",
       "      <td>Wisconsin</td>\n",
       "      <td>Lafayette</td>\n",
       "      <td>38.104967</td>\n",
       "      <td>41.675050</td>\n",
       "    </tr>\n",
       "    <tr>\n",
       "      <th>98</th>\n",
       "      <td>Wyoming</td>\n",
       "      <td>Weston</td>\n",
       "      <td>76.684241</td>\n",
       "      <td>83.983328</td>\n",
       "    </tr>\n",
       "    <tr>\n",
       "      <th>99</th>\n",
       "      <td>Alaska</td>\n",
       "      <td>District 34</td>\n",
       "      <td>77.063259</td>\n",
       "      <td>40.789626</td>\n",
       "    </tr>\n",
       "  </tbody>\n",
       "</table>\n",
       "</div>"
      ],
      "text/plain": [
       "            state        county  repub_percent_08  repub_percent_12\n",
       "85           Utah        Sevier         79.855127         89.317140\n",
       "86           Utah        Tooele         63.436581         74.077151\n",
       "87       Virginia      Highland         59.845560         65.392781\n",
       "88       Virginia      New Kent         63.907517         66.155391\n",
       "89       Virginia  Harrisonburg         41.212947         42.102225\n",
       "90     Washington      San Juan         28.088501         29.365679\n",
       "91  West Virginia       Braxton         48.604178         56.723564\n",
       "92  West Virginia          Clay         53.751914         65.438247\n",
       "93  West Virginia        Morgan         60.857614         64.068711\n",
       "94  West Virginia       Webster         45.338567         62.068966\n",
       "95      Wisconsin       Burnett         48.342541         52.437478\n",
       "96      Wisconsin     La Crosse         37.490904         40.577038\n",
       "97      Wisconsin     Lafayette         38.104967         41.675050\n",
       "98        Wyoming        Weston         76.684241         83.983328\n",
       "99         Alaska   District 34         77.063259         40.789626"
      ]
     },
     "execution_count": 71,
     "metadata": {},
     "output_type": "execute_result"
    }
   ],
   "source": [
    "sample_data = pd.read_feather(r'C:\\Users\\navee\\OneDrive\\Desktop\\Data_Camp\\DataCamp_datasets\\Hypothesis_Testing\\repub_votes_potus_08_12.feather')\n",
    "sample_data.tail(15)\n"
   ]
  },
  {
   "cell_type": "code",
   "execution_count": 91,
   "id": "0a2f76f0",
   "metadata": {},
   "outputs": [
    {
     "data": {
      "text/html": [
       "<div>\n",
       "<style scoped>\n",
       "    .dataframe tbody tr th:only-of-type {\n",
       "        vertical-align: middle;\n",
       "    }\n",
       "\n",
       "    .dataframe tbody tr th {\n",
       "        vertical-align: top;\n",
       "    }\n",
       "\n",
       "    .dataframe thead th {\n",
       "        text-align: right;\n",
       "    }\n",
       "</style>\n",
       "<table border=\"1\" class=\"dataframe\">\n",
       "  <thead>\n",
       "    <tr style=\"text-align: right;\">\n",
       "      <th></th>\n",
       "      <th>state</th>\n",
       "      <th>county</th>\n",
       "      <th>repub_percent_08</th>\n",
       "      <th>repub_percent_12</th>\n",
       "    </tr>\n",
       "  </thead>\n",
       "  <tbody>\n",
       "    <tr>\n",
       "      <th>91</th>\n",
       "      <td>West Virginia</td>\n",
       "      <td>Braxton</td>\n",
       "      <td>48.604178</td>\n",
       "      <td>56.723564</td>\n",
       "    </tr>\n",
       "    <tr>\n",
       "      <th>1</th>\n",
       "      <td>Arkansas</td>\n",
       "      <td>Nevada</td>\n",
       "      <td>56.726272</td>\n",
       "      <td>58.983452</td>\n",
       "    </tr>\n",
       "    <tr>\n",
       "      <th>98</th>\n",
       "      <td>Wyoming</td>\n",
       "      <td>Weston</td>\n",
       "      <td>76.684241</td>\n",
       "      <td>83.983328</td>\n",
       "    </tr>\n",
       "    <tr>\n",
       "      <th>88</th>\n",
       "      <td>Virginia</td>\n",
       "      <td>New Kent</td>\n",
       "      <td>63.907517</td>\n",
       "      <td>66.155391</td>\n",
       "    </tr>\n",
       "    <tr>\n",
       "      <th>79</th>\n",
       "      <td>Texas</td>\n",
       "      <td>Real</td>\n",
       "      <td>76.044226</td>\n",
       "      <td>80.521173</td>\n",
       "    </tr>\n",
       "  </tbody>\n",
       "</table>\n",
       "</div>"
      ],
      "text/plain": [
       "            state    county  repub_percent_08  repub_percent_12\n",
       "91  West Virginia   Braxton         48.604178         56.723564\n",
       "1        Arkansas    Nevada         56.726272         58.983452\n",
       "98        Wyoming    Weston         76.684241         83.983328\n",
       "88       Virginia  New Kent         63.907517         66.155391\n",
       "79          Texas      Real         76.044226         80.521173"
      ]
     },
     "execution_count": 91,
     "metadata": {},
     "output_type": "execute_result"
    }
   ],
   "source": [
    "# Smaller Republican votes data\n",
    "repub_votes_small = sample_data.sample(n=5) \n",
    "repub_votes_small"
   ]
  },
  {
   "cell_type": "code",
   "execution_count": 92,
   "id": "ee395f1d",
   "metadata": {},
   "outputs": [
    {
     "data": {
      "text/html": [
       "<div>\n",
       "<style scoped>\n",
       "    .dataframe tbody tr th:only-of-type {\n",
       "        vertical-align: middle;\n",
       "    }\n",
       "\n",
       "    .dataframe tbody tr th {\n",
       "        vertical-align: top;\n",
       "    }\n",
       "\n",
       "    .dataframe thead th {\n",
       "        text-align: right;\n",
       "    }\n",
       "</style>\n",
       "<table border=\"1\" class=\"dataframe\">\n",
       "  <thead>\n",
       "    <tr style=\"text-align: right;\">\n",
       "      <th></th>\n",
       "      <th>T</th>\n",
       "      <th>dof</th>\n",
       "      <th>alternative</th>\n",
       "      <th>p-val</th>\n",
       "      <th>CI95%</th>\n",
       "      <th>cohen-d</th>\n",
       "      <th>BF10</th>\n",
       "      <th>power</th>\n",
       "    </tr>\n",
       "  </thead>\n",
       "  <tbody>\n",
       "    <tr>\n",
       "      <th>T-test</th>\n",
       "      <td>-3.963803</td>\n",
       "      <td>4</td>\n",
       "      <td>less</td>\n",
       "      <td>0.008312</td>\n",
       "      <td>[-inf, -2.26]</td>\n",
       "      <td>0.396624</td>\n",
       "      <td>9.768</td>\n",
       "      <td>0.183826</td>\n",
       "    </tr>\n",
       "  </tbody>\n",
       "</table>\n",
       "</div>"
      ],
      "text/plain": [
       "               T  dof alternative     p-val          CI95%   cohen-d   BF10  \\\n",
       "T-test -3.963803    4        less  0.008312  [-inf, -2.26]  0.396624  9.768   \n",
       "\n",
       "           power  \n",
       "T-test  0.183826  "
      ]
     },
     "execution_count": 92,
     "metadata": {},
     "output_type": "execute_result"
    }
   ],
   "source": [
    "## Results with pingouin.ttest() with small data\n",
    "# - 5 pair is not enough to meet sample size condition for the paired t-test\n",
    "# - Atleast 30 pair of observations requir across the \n",
    "alpha = 0.01\n",
    "parametric = pg.ttest(x=repub_votes_small[\"repub_percent_08\"], y=repub_votes_small[\"repub_percent_12\"],paired=True,alternative=\"less\")\n",
    "parametric\n",
    "# The small p-value indicates we should reject the null hypothesis, leading us to suspect that the 2008 election had\n",
    "# a smaller percentage of Republican votes than the 2012 election."
   ]
  },
  {
   "cell_type": "markdown",
   "id": "a03cb045",
   "metadata": {},
   "source": [
    "## Non-parametric tests\n",
    "- what do we do if the assumptions for the hypothesis tests we've seen so far aren't met?\n",
    "- non-parametric tests work better than the parametric alternative in situations where the __sample size is small__ or the __data cannot be assumed to be normally distributed__."
   ]
  },
  {
   "cell_type": "code",
   "execution_count": 93,
   "id": "5bce3170",
   "metadata": {},
   "outputs": [
    {
     "data": {
      "text/plain": [
       "array([1., 4., 2., 3., 5.])"
      ]
     },
     "execution_count": 93,
     "metadata": {},
     "output_type": "execute_result"
    }
   ],
   "source": [
    "\"\"\"There are many different ways to perform tests without these parametric assumptions, we'll focus on those relating\n",
    "to ranks.there orderings from smallest to largest are known as the ranks of the elements.\"\"\"\n",
    "from scipy.stats import rankdata\n",
    "x=[4,9,6,8,13]\n",
    "rankdata(x)"
   ]
  },
  {
   "cell_type": "markdown",
   "id": "526ae811",
   "metadata": {},
   "source": [
    "## Wilcoxon-signed rank test \n",
    "- Developed by Frack Wilcoxin in 1995\n",
    "- One of the first parametric procedure\n",
    "- The Wilcoxon signed-rank test works well when the assumptions of a paired t-test aren't met."
   ]
  },
  {
   "cell_type": "code",
   "execution_count": 94,
   "id": "114029a7",
   "metadata": {},
   "outputs": [
    {
     "data": {
      "text/html": [
       "<div>\n",
       "<style scoped>\n",
       "    .dataframe tbody tr th:only-of-type {\n",
       "        vertical-align: middle;\n",
       "    }\n",
       "\n",
       "    .dataframe tbody tr th {\n",
       "        vertical-align: top;\n",
       "    }\n",
       "\n",
       "    .dataframe thead th {\n",
       "        text-align: right;\n",
       "    }\n",
       "</style>\n",
       "<table border=\"1\" class=\"dataframe\">\n",
       "  <thead>\n",
       "    <tr style=\"text-align: right;\">\n",
       "      <th></th>\n",
       "      <th>state</th>\n",
       "      <th>county</th>\n",
       "      <th>repub_percent_08</th>\n",
       "      <th>repub_percent_12</th>\n",
       "      <th>diff</th>\n",
       "    </tr>\n",
       "  </thead>\n",
       "  <tbody>\n",
       "    <tr>\n",
       "      <th>91</th>\n",
       "      <td>West Virginia</td>\n",
       "      <td>Braxton</td>\n",
       "      <td>48.604178</td>\n",
       "      <td>56.723564</td>\n",
       "      <td>-8.119385</td>\n",
       "    </tr>\n",
       "    <tr>\n",
       "      <th>1</th>\n",
       "      <td>Arkansas</td>\n",
       "      <td>Nevada</td>\n",
       "      <td>56.726272</td>\n",
       "      <td>58.983452</td>\n",
       "      <td>-2.257179</td>\n",
       "    </tr>\n",
       "    <tr>\n",
       "      <th>98</th>\n",
       "      <td>Wyoming</td>\n",
       "      <td>Weston</td>\n",
       "      <td>76.684241</td>\n",
       "      <td>83.983328</td>\n",
       "      <td>-7.299087</td>\n",
       "    </tr>\n",
       "    <tr>\n",
       "      <th>88</th>\n",
       "      <td>Virginia</td>\n",
       "      <td>New Kent</td>\n",
       "      <td>63.907517</td>\n",
       "      <td>66.155391</td>\n",
       "      <td>-2.247874</td>\n",
       "    </tr>\n",
       "    <tr>\n",
       "      <th>79</th>\n",
       "      <td>Texas</td>\n",
       "      <td>Real</td>\n",
       "      <td>76.044226</td>\n",
       "      <td>80.521173</td>\n",
       "      <td>-4.476947</td>\n",
       "    </tr>\n",
       "  </tbody>\n",
       "</table>\n",
       "</div>"
      ],
      "text/plain": [
       "            state    county  repub_percent_08  repub_percent_12      diff\n",
       "91  West Virginia   Braxton         48.604178         56.723564 -8.119385\n",
       "1        Arkansas    Nevada         56.726272         58.983452 -2.257179\n",
       "98        Wyoming    Weston         76.684241         83.983328 -7.299087\n",
       "88       Virginia  New Kent         63.907517         66.155391 -2.247874\n",
       "79          Texas      Real         76.044226         80.521173 -4.476947"
      ]
     },
     "execution_count": 94,
     "metadata": {},
     "output_type": "execute_result"
    }
   ],
   "source": [
    "### Wilcoxon-signed rank test (Step 1)\n",
    "'''The Wilcoxon-signed rank test requires us to calculate the absolute differences in the pairs of data and then \n",
    "rank them. First, we take the differences in the paired values.'''\n",
    "\n",
    "\n",
    "repub_votes_small[\"diff\"] = repub_votes_small[\"repub_percent_08\"] - repub_votes_small[\"repub_percent_12\"]\n",
    "\n",
    "repub_votes_small"
   ]
  },
  {
   "cell_type": "code",
   "execution_count": 95,
   "id": "ef4279f5",
   "metadata": {
    "scrolled": true
   },
   "outputs": [
    {
     "data": {
      "text/html": [
       "<div>\n",
       "<style scoped>\n",
       "    .dataframe tbody tr th:only-of-type {\n",
       "        vertical-align: middle;\n",
       "    }\n",
       "\n",
       "    .dataframe tbody tr th {\n",
       "        vertical-align: top;\n",
       "    }\n",
       "\n",
       "    .dataframe thead th {\n",
       "        text-align: right;\n",
       "    }\n",
       "</style>\n",
       "<table border=\"1\" class=\"dataframe\">\n",
       "  <thead>\n",
       "    <tr style=\"text-align: right;\">\n",
       "      <th></th>\n",
       "      <th>state</th>\n",
       "      <th>county</th>\n",
       "      <th>repub_percent_08</th>\n",
       "      <th>repub_percent_12</th>\n",
       "      <th>diff</th>\n",
       "      <th>abs_diff</th>\n",
       "    </tr>\n",
       "  </thead>\n",
       "  <tbody>\n",
       "    <tr>\n",
       "      <th>91</th>\n",
       "      <td>West Virginia</td>\n",
       "      <td>Braxton</td>\n",
       "      <td>48.604178</td>\n",
       "      <td>56.723564</td>\n",
       "      <td>-8.119385</td>\n",
       "      <td>8.119385</td>\n",
       "    </tr>\n",
       "    <tr>\n",
       "      <th>1</th>\n",
       "      <td>Arkansas</td>\n",
       "      <td>Nevada</td>\n",
       "      <td>56.726272</td>\n",
       "      <td>58.983452</td>\n",
       "      <td>-2.257179</td>\n",
       "      <td>2.257179</td>\n",
       "    </tr>\n",
       "    <tr>\n",
       "      <th>98</th>\n",
       "      <td>Wyoming</td>\n",
       "      <td>Weston</td>\n",
       "      <td>76.684241</td>\n",
       "      <td>83.983328</td>\n",
       "      <td>-7.299087</td>\n",
       "      <td>7.299087</td>\n",
       "    </tr>\n",
       "    <tr>\n",
       "      <th>88</th>\n",
       "      <td>Virginia</td>\n",
       "      <td>New Kent</td>\n",
       "      <td>63.907517</td>\n",
       "      <td>66.155391</td>\n",
       "      <td>-2.247874</td>\n",
       "      <td>2.247874</td>\n",
       "    </tr>\n",
       "    <tr>\n",
       "      <th>79</th>\n",
       "      <td>Texas</td>\n",
       "      <td>Real</td>\n",
       "      <td>76.044226</td>\n",
       "      <td>80.521173</td>\n",
       "      <td>-4.476947</td>\n",
       "      <td>4.476947</td>\n",
       "    </tr>\n",
       "  </tbody>\n",
       "</table>\n",
       "</div>"
      ],
      "text/plain": [
       "            state    county  repub_percent_08  repub_percent_12      diff  \\\n",
       "91  West Virginia   Braxton         48.604178         56.723564 -8.119385   \n",
       "1        Arkansas    Nevada         56.726272         58.983452 -2.257179   \n",
       "98        Wyoming    Weston         76.684241         83.983328 -7.299087   \n",
       "88       Virginia  New Kent         63.907517         66.155391 -2.247874   \n",
       "79          Texas      Real         76.044226         80.521173 -4.476947   \n",
       "\n",
       "    abs_diff  \n",
       "91  8.119385  \n",
       "1   2.257179  \n",
       "98  7.299087  \n",
       "88  2.247874  \n",
       "79  4.476947  "
      ]
     },
     "execution_count": 95,
     "metadata": {},
     "output_type": "execute_result"
    }
   ],
   "source": [
    "### Wilcoxon-signed rank test (Step 2)\n",
    "'''Next, we take the absolute value of the differences, using the dot-abs method, and place them in the abs_diff column.'''\n",
    "\n",
    "repub_votes_small[\"abs_diff\"] = repub_votes_small[\"diff\"].abs() # absolute values\n",
    "repub_votes_small"
   ]
  },
  {
   "cell_type": "code",
   "execution_count": 96,
   "id": "82b38f5f",
   "metadata": {},
   "outputs": [
    {
     "data": {
      "text/html": [
       "<div>\n",
       "<style scoped>\n",
       "    .dataframe tbody tr th:only-of-type {\n",
       "        vertical-align: middle;\n",
       "    }\n",
       "\n",
       "    .dataframe tbody tr th {\n",
       "        vertical-align: top;\n",
       "    }\n",
       "\n",
       "    .dataframe thead th {\n",
       "        text-align: right;\n",
       "    }\n",
       "</style>\n",
       "<table border=\"1\" class=\"dataframe\">\n",
       "  <thead>\n",
       "    <tr style=\"text-align: right;\">\n",
       "      <th></th>\n",
       "      <th>state</th>\n",
       "      <th>county</th>\n",
       "      <th>repub_percent_08</th>\n",
       "      <th>repub_percent_12</th>\n",
       "      <th>diff</th>\n",
       "      <th>abs_diff</th>\n",
       "      <th>rank-abs_diff</th>\n",
       "    </tr>\n",
       "  </thead>\n",
       "  <tbody>\n",
       "    <tr>\n",
       "      <th>91</th>\n",
       "      <td>West Virginia</td>\n",
       "      <td>Braxton</td>\n",
       "      <td>48.604178</td>\n",
       "      <td>56.723564</td>\n",
       "      <td>-8.119385</td>\n",
       "      <td>8.119385</td>\n",
       "      <td>5.0</td>\n",
       "    </tr>\n",
       "    <tr>\n",
       "      <th>1</th>\n",
       "      <td>Arkansas</td>\n",
       "      <td>Nevada</td>\n",
       "      <td>56.726272</td>\n",
       "      <td>58.983452</td>\n",
       "      <td>-2.257179</td>\n",
       "      <td>2.257179</td>\n",
       "      <td>2.0</td>\n",
       "    </tr>\n",
       "    <tr>\n",
       "      <th>98</th>\n",
       "      <td>Wyoming</td>\n",
       "      <td>Weston</td>\n",
       "      <td>76.684241</td>\n",
       "      <td>83.983328</td>\n",
       "      <td>-7.299087</td>\n",
       "      <td>7.299087</td>\n",
       "      <td>4.0</td>\n",
       "    </tr>\n",
       "    <tr>\n",
       "      <th>88</th>\n",
       "      <td>Virginia</td>\n",
       "      <td>New Kent</td>\n",
       "      <td>63.907517</td>\n",
       "      <td>66.155391</td>\n",
       "      <td>-2.247874</td>\n",
       "      <td>2.247874</td>\n",
       "      <td>1.0</td>\n",
       "    </tr>\n",
       "    <tr>\n",
       "      <th>79</th>\n",
       "      <td>Texas</td>\n",
       "      <td>Real</td>\n",
       "      <td>76.044226</td>\n",
       "      <td>80.521173</td>\n",
       "      <td>-4.476947</td>\n",
       "      <td>4.476947</td>\n",
       "      <td>3.0</td>\n",
       "    </tr>\n",
       "  </tbody>\n",
       "</table>\n",
       "</div>"
      ],
      "text/plain": [
       "            state    county  repub_percent_08  repub_percent_12      diff  \\\n",
       "91  West Virginia   Braxton         48.604178         56.723564 -8.119385   \n",
       "1        Arkansas    Nevada         56.726272         58.983452 -2.257179   \n",
       "98        Wyoming    Weston         76.684241         83.983328 -7.299087   \n",
       "88       Virginia  New Kent         63.907517         66.155391 -2.247874   \n",
       "79          Texas      Real         76.044226         80.521173 -4.476947   \n",
       "\n",
       "    abs_diff  rank-abs_diff  \n",
       "91  8.119385            5.0  \n",
       "1   2.257179            2.0  \n",
       "98  7.299087            4.0  \n",
       "88  2.247874            1.0  \n",
       "79  4.476947            3.0  "
      ]
     },
     "execution_count": 96,
     "metadata": {},
     "output_type": "execute_result"
    }
   ],
   "source": [
    "### Wilcoxon-signed rank test (Step 3)\n",
    "\"\"\"Then, we rank these absolute differences using the rankdata method from scipy-dot-stats.\"\"\"\n",
    "from scipy.stats import rankdata\n",
    "repub_votes_small[\"rank-abs_diff\"] = rankdata(repub_votes_small[\"abs_diff\"]) \n",
    "repub_votes_small"
   ]
  },
  {
   "cell_type": "code",
   "execution_count": 97,
   "id": "77ce9ba1",
   "metadata": {},
   "outputs": [
    {
     "data": {
      "text/plain": [
       "0"
      ]
     },
     "execution_count": 97,
     "metadata": {},
     "output_type": "execute_result"
    }
   ],
   "source": [
    "### Wilcoxon-signed rank test (Step 4)\n",
    "'''The last part of our calculation involves calculating a test statistic called W.  W uses the signs of the diff column\n",
    "to split the ranks into two groups: one for rows with negative differences and one for positive differences.\n",
    "T-minus is defined as the sum of the ranks with negative differences, and T-plus is the sum of the ranks with \n",
    "positive differences. For this example, all the differences are negative, so the T-minus value is the sum of the \n",
    "five ranks, and T-plus is zero. The test statistic W is the smaller of T-minus and T-plus, which in this case, is \n",
    "zero. We can calculate W, and its corresponding p-value, using a pingouin method instead of manual calculation.'''\n",
    "\n",
    "# Incorporate the sum of the ranks for neagtive and positive differences\n",
    "T_minus = 5+2+3+4+1\n",
    "T_plus = 0\n",
    "W = np.min([T_minus,T_plus])\n",
    "W"
   ]
  },
  {
   "cell_type": "code",
   "execution_count": 98,
   "id": "01704e17",
   "metadata": {
    "scrolled": true
   },
   "outputs": [
    {
     "data": {
      "text/html": [
       "<div>\n",
       "<style scoped>\n",
       "    .dataframe tbody tr th:only-of-type {\n",
       "        vertical-align: middle;\n",
       "    }\n",
       "\n",
       "    .dataframe tbody tr th {\n",
       "        vertical-align: top;\n",
       "    }\n",
       "\n",
       "    .dataframe thead th {\n",
       "        text-align: right;\n",
       "    }\n",
       "</style>\n",
       "<table border=\"1\" class=\"dataframe\">\n",
       "  <thead>\n",
       "    <tr style=\"text-align: right;\">\n",
       "      <th></th>\n",
       "      <th>W-val</th>\n",
       "      <th>alternative</th>\n",
       "      <th>p-val</th>\n",
       "      <th>RBC</th>\n",
       "      <th>CLES</th>\n",
       "    </tr>\n",
       "  </thead>\n",
       "  <tbody>\n",
       "    <tr>\n",
       "      <th>Wilcoxon</th>\n",
       "      <td>0.0</td>\n",
       "      <td>less</td>\n",
       "      <td>0.03125</td>\n",
       "      <td>-1.0</td>\n",
       "      <td>0.64</td>\n",
       "    </tr>\n",
       "  </tbody>\n",
       "</table>\n",
       "</div>"
      ],
      "text/plain": [
       "          W-val alternative    p-val  RBC  CLES\n",
       "Wilcoxon    0.0        less  0.03125 -1.0  0.64"
      ]
     },
     "execution_count": 98,
     "metadata": {},
     "output_type": "execute_result"
    }
   ],
   "source": [
    "#  Implementation with pingouin.wilcoxon()\n",
    "alpha = 0.01\n",
    "pg.wilcoxon(x=repub_votes_small[\"repub_percent_08\"], y=repub_votes_small[\"repub_percent_12\"],alternative=\"less\")\n",
    "\n",
    "# Result\n",
    "# Fail to reject H0 since 0.03125 > 0.01\n",
    "\n",
    "# This corresponds to a p-value of around three percent, which is over ten times larger than the p-value from the t-test, \n",
    "# so we should feel more confident with this result given the small sample size. The Wilcoxon test indicates that\n",
    "# we do not have evidence that the 2008 Republican percentages are smaller than the 2012 percentages using this\n",
    "# small sample of five rows."
   ]
  },
  {
   "cell_type": "markdown",
   "id": "3927336a",
   "metadata": {},
   "source": [
    "## Non-parametric ANOVA and unpaired t-tests\n",
    "- Here focusing on non-parametric alternatives to tests of independent numeric samples.\n",
    "- We can avoid assumptions about normally distributed data by __performing hypothesis tests on the ranks of a numeric input.__\n",
    "- The __Wilcoxon-Mann-Whitney test is also known as Mann Whitney U test__ is, very roughly speaking, a t-test on ranked data, but works on __unpaired data instead.__"
   ]
  },
  {
   "cell_type": "code",
   "execution_count": 101,
   "id": "8afc6f92",
   "metadata": {},
   "outputs": [
    {
     "data": {
      "text/html": [
       "<div>\n",
       "<style scoped>\n",
       "    .dataframe tbody tr th:only-of-type {\n",
       "        vertical-align: middle;\n",
       "    }\n",
       "\n",
       "    .dataframe tbody tr th {\n",
       "        vertical-align: top;\n",
       "    }\n",
       "\n",
       "    .dataframe thead th {\n",
       "        text-align: right;\n",
       "    }\n",
       "</style>\n",
       "<table border=\"1\" class=\"dataframe\">\n",
       "  <thead>\n",
       "    <tr style=\"text-align: right;\">\n",
       "      <th>age_first_code_cut</th>\n",
       "      <th>adult</th>\n",
       "      <th>child</th>\n",
       "    </tr>\n",
       "  </thead>\n",
       "  <tbody>\n",
       "    <tr>\n",
       "      <th>0</th>\n",
       "      <td>77556.0</td>\n",
       "      <td>NaN</td>\n",
       "    </tr>\n",
       "    <tr>\n",
       "      <th>1</th>\n",
       "      <td>NaN</td>\n",
       "      <td>74970.0</td>\n",
       "    </tr>\n",
       "    <tr>\n",
       "      <th>2</th>\n",
       "      <td>NaN</td>\n",
       "      <td>594539.0</td>\n",
       "    </tr>\n",
       "    <tr>\n",
       "      <th>3</th>\n",
       "      <td>2000000.0</td>\n",
       "      <td>NaN</td>\n",
       "    </tr>\n",
       "    <tr>\n",
       "      <th>4</th>\n",
       "      <td>37816.0</td>\n",
       "      <td>NaN</td>\n",
       "    </tr>\n",
       "    <tr>\n",
       "      <th>...</th>\n",
       "      <td>...</td>\n",
       "      <td>...</td>\n",
       "    </tr>\n",
       "    <tr>\n",
       "      <th>2256</th>\n",
       "      <td>NaN</td>\n",
       "      <td>145000.0</td>\n",
       "    </tr>\n",
       "    <tr>\n",
       "      <th>2257</th>\n",
       "      <td>NaN</td>\n",
       "      <td>33972.0</td>\n",
       "    </tr>\n",
       "    <tr>\n",
       "      <th>2258</th>\n",
       "      <td>NaN</td>\n",
       "      <td>97284.0</td>\n",
       "    </tr>\n",
       "    <tr>\n",
       "      <th>2259</th>\n",
       "      <td>NaN</td>\n",
       "      <td>72000.0</td>\n",
       "    </tr>\n",
       "    <tr>\n",
       "      <th>2260</th>\n",
       "      <td>NaN</td>\n",
       "      <td>180000.0</td>\n",
       "    </tr>\n",
       "  </tbody>\n",
       "</table>\n",
       "<p>2261 rows × 2 columns</p>\n",
       "</div>"
      ],
      "text/plain": [
       "age_first_code_cut      adult     child\n",
       "0                     77556.0       NaN\n",
       "1                         NaN   74970.0\n",
       "2                         NaN  594539.0\n",
       "3                   2000000.0       NaN\n",
       "4                     37816.0       NaN\n",
       "...                       ...       ...\n",
       "2256                      NaN  145000.0\n",
       "2257                      NaN   33972.0\n",
       "2258                      NaN   97284.0\n",
       "2259                      NaN   72000.0\n",
       "2260                      NaN  180000.0\n",
       "\n",
       "[2261 rows x 2 columns]"
      ]
     },
     "execution_count": 101,
     "metadata": {},
     "output_type": "execute_result"
    }
   ],
   "source": [
    "## Wilcoxon-Mann-Whitney test setup\n",
    "\n",
    "age_vs_comp = stack_overflow[[\"converted_comp\",\"age_first_code_cut\"]]\n",
    "\n",
    "# To conduct a Wilcoxon-Mann-Whitney test with pingouin, we first need to convert our data from long to wide format.\n",
    "age_vs_comp_wide = age_vs_comp.pivot(columns = \"age_first_code_cut\", values = \"converted_comp\" )\n",
    "age_vs_comp_wide"
   ]
  },
  {
   "cell_type": "code",
   "execution_count": 103,
   "id": "991b00b0",
   "metadata": {},
   "outputs": [
    {
     "data": {
      "text/html": [
       "<div>\n",
       "<style scoped>\n",
       "    .dataframe tbody tr th:only-of-type {\n",
       "        vertical-align: middle;\n",
       "    }\n",
       "\n",
       "    .dataframe tbody tr th {\n",
       "        vertical-align: top;\n",
       "    }\n",
       "\n",
       "    .dataframe thead th {\n",
       "        text-align: right;\n",
       "    }\n",
       "</style>\n",
       "<table border=\"1\" class=\"dataframe\">\n",
       "  <thead>\n",
       "    <tr style=\"text-align: right;\">\n",
       "      <th></th>\n",
       "      <th>U-val</th>\n",
       "      <th>alternative</th>\n",
       "      <th>p-val</th>\n",
       "      <th>RBC</th>\n",
       "      <th>CLES</th>\n",
       "    </tr>\n",
       "  </thead>\n",
       "  <tbody>\n",
       "    <tr>\n",
       "      <th>MWU</th>\n",
       "      <td>744365.5</td>\n",
       "      <td>greater</td>\n",
       "      <td>1.902723e-19</td>\n",
       "      <td>-0.222516</td>\n",
       "      <td>0.611258</td>\n",
       "    </tr>\n",
       "  </tbody>\n",
       "</table>\n",
       "</div>"
      ],
      "text/plain": [
       "        U-val alternative         p-val       RBC      CLES\n",
       "MWU  744365.5     greater  1.902723e-19 -0.222516  0.611258"
      ]
     },
     "execution_count": 103,
     "metadata": {},
     "output_type": "execute_result"
    }
   ],
   "source": [
    "alpha = 0.01\n",
    "pg.mwu(x=age_vs_comp_wide[\"child\"],y=age_vs_comp_wide[\"adult\"],alternative=\"greater\")\n",
    "\n",
    "#  alternative hypothesis, in this case, that those who code first as children have a higher income than\n",
    "# those who code first as adults, which is a right-tailed test\n",
    "\n",
    "## Decision Making\n",
    "# Here, the p-value is shown as around ten to the negative nineteenth power, which is significantly smaller \n",
    "# than the significance level."
   ]
  },
  {
   "cell_type": "code",
   "execution_count": 105,
   "id": "4ecd1314",
   "metadata": {},
   "outputs": [
    {
     "data": {
      "text/html": [
       "<div>\n",
       "<style scoped>\n",
       "    .dataframe tbody tr th:only-of-type {\n",
       "        vertical-align: middle;\n",
       "    }\n",
       "\n",
       "    .dataframe tbody tr th {\n",
       "        vertical-align: top;\n",
       "    }\n",
       "\n",
       "    .dataframe thead th {\n",
       "        text-align: right;\n",
       "    }\n",
       "</style>\n",
       "<table border=\"1\" class=\"dataframe\">\n",
       "  <thead>\n",
       "    <tr style=\"text-align: right;\">\n",
       "      <th></th>\n",
       "      <th>Source</th>\n",
       "      <th>ddof1</th>\n",
       "      <th>H</th>\n",
       "      <th>p-unc</th>\n",
       "    </tr>\n",
       "  </thead>\n",
       "  <tbody>\n",
       "    <tr>\n",
       "      <th>Kruskal</th>\n",
       "      <td>job_sat</td>\n",
       "      <td>4</td>\n",
       "      <td>72.814939</td>\n",
       "      <td>5.772915e-15</td>\n",
       "    </tr>\n",
       "  </tbody>\n",
       "</table>\n",
       "</div>"
      ],
      "text/plain": [
       "          Source  ddof1          H         p-unc\n",
       "Kruskal  job_sat      4  72.814939  5.772915e-15"
      ]
     },
     "execution_count": 105,
     "metadata": {},
     "output_type": "execute_result"
    }
   ],
   "source": [
    "## Kruskal-Wallis test\n",
    "'''In the same way that ANOVA extends t-tests to more than two groups, the Kruskal-Wallis test extends the \n",
    "Wilcoxon-Mann-Whitney test to more than two groups. That is, the Kruskal-Wallis test is a non-parametric version \n",
    "of ANOVA'''\n",
    "\n",
    "# Here, test to investigate if there is a difference in converted_comp between job satisfaction groups.\n",
    "pg.kruskal(data=stack_overflow,dv=\"converted_comp\",between=\"job_sat\")\n",
    "\n",
    "# kruskal method works on long data so no need to pivot. \n",
    "# Again, the p-value here is very small and smaller than our significance level. This provides evidence that\n",
    "# at least one of the mean compensation totals is different than the others across these five job satisfaction groups."
   ]
  },
  {
   "cell_type": "code",
   "execution_count": 109,
   "id": "e421215d",
   "metadata": {},
   "outputs": [
    {
     "name": "stdout",
     "output_type": "stream",
     "text": [
      "       U-val alternative     p-val       RBC      CLES\n",
      "MWU  19134.0   two-sided  0.000014  0.331902  0.334049\n"
     ]
    }
   ],
   "source": [
    "# Practice Code\n",
    "\n",
    "# Select the weight_kilograms and late columns\n",
    "weight_vs_late = late_shipments[[\"weight_kilograms\", \"late\"]]\n",
    "\n",
    "# Convert weight_vs_late into wide format\n",
    "weight_vs_late_wide = weight_vs_late.pivot(columns='late', \n",
    "                                           values='weight_kilograms')\n",
    "\n",
    "# Run a two-sided Wilcoxon-Mann-Whitney test on weight_kilograms vs. late\n",
    "wmw_test = pg.mwu(x=weight_vs_late_wide['No'],\n",
    "                        y=weight_vs_late_wide['Yes'],\n",
    "                        alternative='two-sided')\n",
    "\n",
    "# Print the test results\n",
    "print(wmw_test)\n",
    "\n",
    "\"\"\"They tried to make me use parameters, but I said \"No, no, no\". The small p-value here leads us to suspect \n",
    "that a difference does exist in the weight of the shipment and whether or not it was late. The Wilcoxon-Mann-Whitney\n",
    "test is useful when you cannot satisfy the assumptions for a parametric test comparing two means, like the t-test.\"\"\""
   ]
  },
  {
   "cell_type": "code",
   "execution_count": 113,
   "id": "b4ea7b16",
   "metadata": {},
   "outputs": [
    {
     "name": "stdout",
     "output_type": "stream",
     "text": [
      "                Source  ddof1           H         p-unc\n",
      "Kruskal  shipment_mode      2  125.096618  6.848799e-28\n"
     ]
    },
    {
     "data": {
      "text/plain": [
       "'The Kruskal-Wallis test yielded a very small p-value, so there is evidence that at least one of the three groups\\nof shipment mode has a different weight distribution than the others. Th Kruskal-Wallis test is comparable to an\\nANOVA, which tests for a difference in means across multiple groups'"
      ]
     },
     "execution_count": 113,
     "metadata": {},
     "output_type": "execute_result"
    }
   ],
   "source": [
    "# Run a Kruskal-Wallis test on weight_kilograms vs. shipment_mode\n",
    "kw_test = pg.kruskal(data=late_shipments,dv=\"weight_kilograms\",between=\"shipment_mode\")\n",
    "\n",
    "\n",
    "\n",
    "# Print the results\n",
    "print(kw_test)\n",
    "\n",
    "\"\"\"The Kruskal-Wallis test yielded a very small p-value, so there is evidence that at least one of the three groups\n",
    "of shipment mode has a different weight distribution than the others. Th Kruskal-Wallis test is comparable to an\n",
    "ANOVA, which tests for a difference in means across multiple groups\"\"\""
   ]
  },
  {
   "cell_type": "code",
   "execution_count": null,
   "id": "1fcbb92c",
   "metadata": {},
   "outputs": [],
   "source": []
  },
  {
   "cell_type": "code",
   "execution_count": null,
   "id": "3ff6b918",
   "metadata": {},
   "outputs": [],
   "source": []
  },
  {
   "cell_type": "code",
   "execution_count": null,
   "id": "1814c16f",
   "metadata": {},
   "outputs": [],
   "source": []
  },
  {
   "cell_type": "code",
   "execution_count": null,
   "id": "c5dfc153",
   "metadata": {},
   "outputs": [],
   "source": []
  },
  {
   "cell_type": "code",
   "execution_count": null,
   "id": "2cb6c66e",
   "metadata": {},
   "outputs": [],
   "source": []
  },
  {
   "cell_type": "code",
   "execution_count": null,
   "id": "6b75c295",
   "metadata": {},
   "outputs": [],
   "source": []
  },
  {
   "cell_type": "code",
   "execution_count": null,
   "id": "79413449",
   "metadata": {},
   "outputs": [],
   "source": []
  },
  {
   "cell_type": "code",
   "execution_count": null,
   "id": "3b602366",
   "metadata": {},
   "outputs": [],
   "source": []
  },
  {
   "cell_type": "code",
   "execution_count": null,
   "id": "049a9837",
   "metadata": {},
   "outputs": [],
   "source": []
  },
  {
   "cell_type": "code",
   "execution_count": null,
   "id": "3134a535",
   "metadata": {},
   "outputs": [],
   "source": []
  },
  {
   "cell_type": "code",
   "execution_count": null,
   "id": "6a7d4dc8",
   "metadata": {},
   "outputs": [],
   "source": []
  },
  {
   "cell_type": "code",
   "execution_count": null,
   "id": "3e8ad1f2",
   "metadata": {},
   "outputs": [],
   "source": []
  },
  {
   "cell_type": "code",
   "execution_count": null,
   "id": "86739036",
   "metadata": {},
   "outputs": [],
   "source": []
  },
  {
   "cell_type": "code",
   "execution_count": null,
   "id": "908129a0",
   "metadata": {},
   "outputs": [],
   "source": []
  }
 ],
 "metadata": {
  "kernelspec": {
   "display_name": "Python 3 (ipykernel)",
   "language": "python",
   "name": "python3"
  },
  "language_info": {
   "codemirror_mode": {
    "name": "ipython",
    "version": 3
   },
   "file_extension": ".py",
   "mimetype": "text/x-python",
   "name": "python",
   "nbconvert_exporter": "python",
   "pygments_lexer": "ipython3",
   "version": "3.9.12"
  }
 },
 "nbformat": 4,
 "nbformat_minor": 5
}
