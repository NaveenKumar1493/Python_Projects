{
 "cells": [
  {
   "cell_type": "markdown",
   "id": "7e9c11ff",
   "metadata": {},
   "source": [
    "# Name : Naveen Kumar"
   ]
  },
  {
   "cell_type": "markdown",
   "id": "3ebc8dcd",
   "metadata": {},
   "source": [
    "### Python Foundation - Final Assessment"
   ]
  },
  {
   "cell_type": "markdown",
   "id": "ace3e9b9",
   "metadata": {},
   "source": [
    "## Question # 1"
   ]
  },
  {
   "cell_type": "code",
   "execution_count": 2,
   "id": "0cd9e581",
   "metadata": {
    "scrolled": true
   },
   "outputs": [
    {
     "name": "stdout",
     "output_type": "stream",
     "text": [
      "How many students are in your class? -5\n",
      "Invalid Number of students, try again.\n",
      "How many students are in your class? 3\n",
      "How many tests in this class? -10\n",
      "Invalid Number of tests, try again.\n",
      "How many tests in this class? 2\n",
      "\n",
      "Here we go!\n",
      "\n",
      "**** Student #  1 ****\n",
      "Enter score for test # 1: -50\n",
      "Invalid score, try again\n",
      "Enter score for test # 1: 50\n",
      "Enter score for test # 2: 75\n",
      "Average score for Student # 1 is 62.5\n",
      "\n",
      "**** Student #  2 ****\n",
      "Enter score for test # 1: 100\n",
      "Enter score for test # 2: 90\n",
      "Average score for Student # 2 is 95.0\n",
      "\n",
      "**** Student #  3 ****\n",
      "Enter score for test # 1: -10\n",
      "Invalid score, try again\n",
      "Enter score for test # 1: -20\n",
      "Invalid score, try again\n",
      "Enter score for test # 1: -30\n",
      "Invalid score, try again\n",
      "Enter score for test # 1: 90\n",
      "Enter score for test # 2: 80\n",
      "Average score for Student # 3 is 85.0\n"
     ]
    }
   ],
   "source": [
    "while(True):\n",
    "    \n",
    "    s = int(input(\"How many students are in your class? \"))\n",
    "    if s>0:\n",
    "        True\n",
    "        break\n",
    "    \n",
    "    else:\n",
    "        print('Invalid Number of students, try again.')\n",
    "\n",
    "while(True):\n",
    "    \n",
    "    t = int(input(\"How many tests in this class? \"))\n",
    "    if t>0:\n",
    "        True\n",
    "        break\n",
    "    else:\n",
    "        print('Invalid Number of tests, try again.')\n",
    "print (\"\\nHere we go!\")\n",
    "\n",
    "for i in range (1,s+1,1):\n",
    "    \n",
    "    print(\"\\n\"+\"*\"*4,\"Student # \",i,\"*\"*4)\n",
    "    total_score = 0\n",
    "    test_score = []\n",
    "    \n",
    "    for k in range (1,t+1,1):\n",
    "        \n",
    "        while(True):\n",
    "            \n",
    "            score = int(input(f\"Enter score for test # {k}: \"))\n",
    "            if score>0:\n",
    "                test_score.append(score)\n",
    "                total_score +=  score\n",
    "                break\n",
    "            \n",
    "            else:\n",
    "                print('Invalid score, try again')\n",
    "                \n",
    "    avg = total_score / t\n",
    "    print (f\"Average score for Student # {i} is {avg}\")"
   ]
  },
  {
   "cell_type": "markdown",
   "id": "c19b3a5a",
   "metadata": {},
   "source": [
    "## Question # 2"
   ]
  },
  {
   "cell_type": "markdown",
   "id": "400123e3",
   "metadata": {},
   "source": [
    "## Part-1\n",
    "Write Code for each of the following functions:"
   ]
  },
  {
   "cell_type": "code",
   "execution_count": 3,
   "id": "4d03a744",
   "metadata": {},
   "outputs": [],
   "source": [
    "length = 10\n",
    "radius = 5"
   ]
  },
  {
   "cell_type": "markdown",
   "id": "7efdedaa",
   "metadata": {},
   "source": [
    "### i. Code for Area of Square"
   ]
  },
  {
   "cell_type": "code",
   "execution_count": 7,
   "id": "9df50871",
   "metadata": {},
   "outputs": [
    {
     "name": "stdout",
     "output_type": "stream",
     "text": [
      "Area of Square is 100 Sq-ft\n"
     ]
    }
   ],
   "source": [
    "def Area_Square (l):\n",
    "    a = l**2\n",
    "    return a\n",
    "print (\"Area of Square is\",(Area_Square (length)),\"Sq-ft\")"
   ]
  },
  {
   "cell_type": "markdown",
   "id": "d6793083",
   "metadata": {},
   "source": [
    "### ii. Code for Area of Circle"
   ]
  },
  {
   "cell_type": "code",
   "execution_count": 8,
   "id": "692c04d7",
   "metadata": {},
   "outputs": [
    {
     "name": "stdout",
     "output_type": "stream",
     "text": [
      "Area of Circle is 78.57 Sq-ft\n"
     ]
    }
   ],
   "source": [
    "def Area_Circle (r):\n",
    "    ac = (22/7) * (r**2) \n",
    "    return ac\n",
    "print (\"Area of Circle is\",round((Area_Circle (radius)),2),\"Sq-ft\")"
   ]
  },
  {
   "cell_type": "markdown",
   "id": "6326c7c7",
   "metadata": {},
   "source": [
    "### iii. Code for Perimeter of Square"
   ]
  },
  {
   "cell_type": "code",
   "execution_count": 9,
   "id": "88431f63",
   "metadata": {},
   "outputs": [
    {
     "name": "stdout",
     "output_type": "stream",
     "text": [
      "Perimeter of Square is 40 ft\n"
     ]
    }
   ],
   "source": [
    "def Perimeter_Square (l): \n",
    "    ps = l*4\n",
    "    return ps\n",
    "print (\"Perimeter of Square is\",(Perimeter_Square (length)),\"ft\")"
   ]
  },
  {
   "cell_type": "markdown",
   "id": "ab3078e1",
   "metadata": {},
   "source": [
    "### iv. Code for Perimeter of Circle"
   ]
  },
  {
   "cell_type": "code",
   "execution_count": 10,
   "id": "834b3828",
   "metadata": {},
   "outputs": [
    {
     "name": "stdout",
     "output_type": "stream",
     "text": [
      "Perimeter of Circle is 31.43 ft\n"
     ]
    }
   ],
   "source": [
    "def Perimeter_Circle (r):\n",
    "    pc = 2 * (22/7) * r \n",
    "    return pc\n",
    "print (\"Perimeter of Circle is\",round((Perimeter_Circle (radius)),2),\"ft\")"
   ]
  },
  {
   "cell_type": "markdown",
   "id": "405b59ed",
   "metadata": {},
   "source": [
    "## Part -2\n",
    "Add above Functions in a Module"
   ]
  },
  {
   "cell_type": "code",
   "execution_count": 13,
   "id": "362eda30",
   "metadata": {},
   "outputs": [],
   "source": [
    "# Module_2 has been successfully created and imported\n",
    "import Module_2 as m2"
   ]
  },
  {
   "cell_type": "markdown",
   "id": "95397367",
   "metadata": {},
   "source": [
    "## Part 3\n",
    "Complete the given code file"
   ]
  },
  {
   "cell_type": "markdown",
   "id": "2baec9e4",
   "metadata": {},
   "source": [
    "### Code for Area of Shaded Portion - Using Module_Q2"
   ]
  },
  {
   "cell_type": "code",
   "execution_count": 16,
   "id": "d8ff7405",
   "metadata": {},
   "outputs": [
    {
     "name": "stdout",
     "output_type": "stream",
     "text": [
      "Area of Shaded Portion is 10.714 sq-ft\n"
     ]
    }
   ],
   "source": [
    "ASP = round((m2.Area_Square(length) - m2.Area_Circle(radius)) / 2,3)\n",
    "\n",
    "print (f\"Area of Shaded Portion is {ASP} sq-ft\")"
   ]
  },
  {
   "cell_type": "markdown",
   "id": "945a3daa",
   "metadata": {},
   "source": [
    "### Code for Perimeter of Shaded Portion - Using Module_Q2"
   ]
  },
  {
   "cell_type": "code",
   "execution_count": 17,
   "id": "9ef53ffa",
   "metadata": {},
   "outputs": [
    {
     "name": "stdout",
     "output_type": "stream",
     "text": [
      "Perimeter of Shaded Portion is 35.714 ft\n"
     ]
    }
   ],
   "source": [
    "PSP = round((m2.Perimeter_Square (length) + m2.Perimeter_Circle (radius)) / 2,3)\n",
    "\n",
    "print (f\"Perimeter of Shaded Portion is {PSP} ft\")"
   ]
  },
  {
   "cell_type": "markdown",
   "id": "3955ab50",
   "metadata": {},
   "source": [
    "## Question # 3: Case Study Income Tax Calculator"
   ]
  },
  {
   "cell_type": "code",
   "execution_count": 11,
   "id": "64507e93",
   "metadata": {},
   "outputs": [
    {
     "name": "stdout",
     "output_type": "stream",
     "text": [
      "Enter the gross income: 150000\n",
      "Enter the number of dependents: 3\n",
      "Enter the amount of standard reduction: 10000\n",
      "Enter the amount of additional reduction: 3000\n",
      "Tax Amount is:  26200.0\n"
     ]
    }
   ],
   "source": [
    "gross_income = int(input(\"Enter the gross income: \"))\n",
    "no_of_dependents = int(input(\"Enter the number of dependents: \"))\n",
    "standard_deduction = int(input(\"Enter the amount of standard reduction: \"))\n",
    "additional_deduction = int(input(\"Enter the amount of additional reduction: \"))\n",
    "\n",
    "\n",
    "def Tax_calculator(*args):\n",
    "    taxable_income = (gross_income - standard_deduction - (additional_deduction * no_of_dependents))\n",
    "    return taxable_income * 0.20\n",
    "\n",
    "\n",
    "tax = Tax_calculator(gross_income,no_of_dependents,standard_deduction,additional_deduction)\n",
    "print(\"Tax Amount is: \",tax)"
   ]
  },
  {
   "cell_type": "markdown",
   "id": "0cf215a6",
   "metadata": {},
   "source": [
    "## Testing "
   ]
  },
  {
   "cell_type": "code",
   "execution_count": 4,
   "id": "2969c4ab",
   "metadata": {},
   "outputs": [
    {
     "name": "stdout",
     "output_type": "stream",
     "text": [
      "Enter the gross income: 10000\n",
      "Enter the number of dependents: 0\n",
      "0.0\n",
      "Enter the gross income: 10000\n",
      "Enter the number of dependents: 1\n",
      "-600.0\n",
      "Enter the gross income: 10000\n",
      "Enter the number of dependents: 2\n",
      "-1200.0\n",
      "Enter the gross income: 20000\n",
      "Enter the number of dependents: 0\n",
      "2000.0\n",
      "Enter the gross income: 20000\n",
      "Enter the number of dependents: 1\n",
      "1400.0\n",
      "Enter the gross income: 20000\n",
      "Enter the number of dependents: 2\n",
      "800.0\n"
     ]
    }
   ],
   "source": [
    "\n",
    "for x in range(6):\n",
    "    standard_deduction = 10000\n",
    "    additional_deduction = 3000\n",
    "    gross_income = int(input(\"Enter the gross income: \"))\n",
    "    no_of_dependents = int(input(\"Enter the number of dependents: \"))\n",
    "    # Compute the taxable income using the formula\n",
    "    taxable_income = gross_income - standard_deduction - (additional_deduction * no_of_dependents)\n",
    "    # Compute the income tax using the formula\n",
    "    tax = taxable_income * 0.20\n",
    "    print(tax)"
   ]
  }
 ],
 "metadata": {
  "kernelspec": {
   "display_name": "Python 3 (ipykernel)",
   "language": "python",
   "name": "python3"
  },
  "language_info": {
   "codemirror_mode": {
    "name": "ipython",
    "version": 3
   },
   "file_extension": ".py",
   "mimetype": "text/x-python",
   "name": "python",
   "nbconvert_exporter": "python",
   "pygments_lexer": "ipython3",
   "version": "3.9.12"
  }
 },
 "nbformat": 4,
 "nbformat_minor": 5
}
